{
 "cells": [
  {
   "cell_type": "code",
   "execution_count": 1,
   "id": "f09aba6a",
   "metadata": {},
   "outputs": [],
   "source": [
    "%load_ext autoreload\n",
    "%autoreload 2"
   ]
  },
  {
   "cell_type": "code",
   "execution_count": 11,
   "id": "332f0fac",
   "metadata": {},
   "outputs": [],
   "source": [
    "import json\n",
    "import os\n",
    "import time\n",
    "import glob"
   ]
  },
  {
   "cell_type": "code",
   "execution_count": 70,
   "id": "1d2bd318",
   "metadata": {},
   "outputs": [],
   "source": [
    "from dataset.screwing_dataset import ScrewingDataset"
   ]
  },
  {
   "cell_type": "code",
   "execution_count": 57,
   "id": "56d9d6d0",
   "metadata": {},
   "outputs": [],
   "source": [
    "from torch.utils.data import DataLoader, ConcatDataset\n",
    "import torch"
   ]
  },
  {
   "cell_type": "code",
   "execution_count": 27,
   "id": "09ff4a1c-b78c-4d40-9f9e-300f9b060dc3",
   "metadata": {},
   "outputs": [],
   "source": [
    "base_dset_dir = os.path.expanduser('~/datasets/screwing')\n",
    "\n",
    "# xprmnt_dir = time.strftime(\"/%Y-%m-%d_%H-%M-%S\")\n",
    "xprmnt_dir = time.strftime(\"/2022-03-10_23-17-39\")\n"
   ]
  },
  {
   "cell_type": "code",
   "execution_count": 28,
   "id": "5a14de25",
   "metadata": {},
   "outputs": [
    {
     "data": {
      "text/plain": [
       "['/home/serialexperimentsleon/datasets/screwing/2022-03-10_23-17-39/1_2022-03-10-23-17-55.bag']"
      ]
     },
     "execution_count": 28,
     "metadata": {},
     "output_type": "execute_result"
    }
   ],
   "source": [
    "id_str = str(1)\n",
    "bag_path_names = base_dset_dir + xprmnt_dir + '/' + id_str + '_*.bag' \n",
    "bag_path = glob.glob(bag_path_names)\n",
    "bag_path"
   ]
  },
  {
   "cell_type": "code",
   "execution_count": 29,
   "id": "be35a5ad-d46a-4b90-b7f4-83ddbd80aeb2",
   "metadata": {},
   "outputs": [
    {
     "data": {
      "text/plain": [
       "['/home/serialexperimentsleon/datasets/screwing/2022-03-10_23-17-39/1_pos.npy',\n",
       " '/home/serialexperimentsleon/datasets/screwing/2022-03-10_23-17-39/1_proj_ori.npy']"
      ]
     },
     "execution_count": 29,
     "metadata": {},
     "output_type": "execute_result"
    }
   ],
   "source": [
    "pos_path_name = base_dset_dir + xprmnt_dir + '/' + id_str + '_pos.npy'\n",
    "# pos_path = glob.glob(pos_path_name)\n",
    "\n",
    "proj_ori_path = base_dset_dir + xprmnt_dir + '/' + id_str + '_proj_ori.npy'\n",
    "\n",
    "pos_ori_path_list = [pos_path_name, proj_ori_path]\n",
    "pos_ori_path_list"
   ]
  },
  {
   "cell_type": "code",
   "execution_count": 30,
   "id": "9fa95b7b",
   "metadata": {},
   "outputs": [
    {
     "data": {
      "text/plain": [
       "device(type='cuda')"
      ]
     },
     "execution_count": 30,
     "metadata": {},
     "output_type": "execute_result"
    }
   ],
   "source": [
    "device = torch.device(\"cuda\" if torch.cuda.is_available() else \"cpu\")\n",
    "device"
   ]
  },
  {
   "cell_type": "code",
   "execution_count": 42,
   "id": "627e8205",
   "metadata": {},
   "outputs": [
    {
     "name": "stdout",
     "output_type": "stream",
     "text": [
      "[INFO]  Data folder /home/serialexperimentsleon/datasets/screwing/2022-03-10_23-17-39/1_2022-03-10-23-17-55 already exists. Not creating.\n",
      "62\n",
      "range(0, 62)\n",
      "tensor([[ 5.5467e-01,  1.8663e-03,  5.1567e-01,  9.9903e-01,  1.0498e-04,\n",
      "         -5.8705e-03, -4.3688e-02, -8.2491e-01,  1.5947e+00, -3.2643e+00,\n",
      "         -7.6325e-01,  6.7252e-01,  9.1588e-02, -2.0516e+00,  2.1062e+00,\n",
      "         -1.5205e+00,  9.1957e+00,  9.6302e+00,  2.5714e+00],\n",
      "        [ 5.5461e-01,  1.9187e-03,  5.1568e-01,  9.9896e-01,  1.6392e-04,\n",
      "         -6.2453e-03, -4.5142e-02, -8.0139e-01,  1.2089e+00, -3.2347e+00,\n",
      "         -6.3212e-01,  6.6832e-01,  6.6484e-02, -2.0545e+00,  1.3252e+00,\n",
      "         -1.5246e+00,  5.3960e+00,  9.8766e+00, -3.9153e-01],\n",
      "        [ 5.5456e-01,  1.9609e-03,  5.1569e-01,  9.9889e-01,  2.1905e-04,\n",
      "         -6.6108e-03, -4.6553e-02, -7.8522e-01,  1.0652e+00, -3.2150e+00,\n",
      "         -6.5998e-01,  6.3894e-01,  5.5834e-02, -1.8631e+00,  1.2982e+00,\n",
      "         -1.4826e+00,  5.4218e+00,  8.8904e+00,  3.1933e-01],\n",
      "        [ 5.5449e-01,  2.0052e-03,  5.1570e-01,  9.9883e-01,  2.7682e-04,\n",
      "         -6.9760e-03, -4.7945e-02, -6.6886e-01,  1.3276e+00, -3.2042e+00,\n",
      "         -7.4819e-01,  7.0939e-01,  7.2310e-02, -2.6528e+00,  1.7840e+00,\n",
      "         -1.6190e+00,  7.7454e+00,  1.2031e+01,  5.1958e+00],\n",
      "        [ 5.5442e-01,  2.0460e-03,  5.1571e-01,  9.9876e-01,  3.3161e-04,\n",
      "         -7.3448e-03, -4.9304e-02, -6.5722e-01,  8.9776e-01, -3.1697e+00,\n",
      "         -6.2681e-01,  6.9609e-01,  4.4043e-02, -2.5454e+00,  1.0157e+00,\n",
      "         -1.6076e+00,  4.0039e+00,  1.1934e+01,  7.9023e-01]],\n",
      "       dtype=torch.float64)\n",
      "torch.Size([5, 19])\n"
     ]
    }
   ],
   "source": [
    "dset = ScrewingDataset(bag_path[0], pos_ori_path_list, 5)\n",
    "print(dset._len)\n",
    "print(range(dset._len))\n",
    "target, sample = dset[1]\n",
    "print(sample)\n",
    "\n",
    "print(sample.size())\n",
    "# # print(dset._len)\n",
    "length = len(dset)\n",
    "train_size = 5\n",
    "train_dset, test_dset = torch.utils.data.random_split(dset, [train_size,length - train_size])"
   ]
  },
  {
   "cell_type": "code",
   "execution_count": 43,
   "id": "e3f40917",
   "metadata": {},
   "outputs": [
    {
     "data": {
      "text/plain": [
       "57"
      ]
     },
     "execution_count": 43,
     "metadata": {},
     "output_type": "execute_result"
    }
   ],
   "source": [
    "# len(train_dset)\n",
    "len(test_dset)"
   ]
  },
  {
   "cell_type": "code",
   "execution_count": 62,
   "id": "d25603ae",
   "metadata": {},
   "outputs": [
    {
     "name": "stdout",
     "output_type": "stream",
     "text": [
      "torch.Size([2, 5, 19])\n",
      "torch.Size([2, 5, 19])\n",
      "torch.Size([2, 5, 19])\n",
      "torch.Size([2, 5, 19])\n",
      "torch.Size([2, 5, 19])\n",
      "torch.Size([2, 5, 19])\n",
      "torch.Size([2, 5, 19])\n",
      "torch.Size([2, 5, 19])\n",
      "torch.Size([2, 5, 19])\n",
      "torch.Size([2, 5, 19])\n",
      "torch.Size([2, 5, 19])\n",
      "torch.Size([2, 5, 19])\n",
      "torch.Size([2, 5, 19])\n",
      "torch.Size([2, 5, 19])\n",
      "torch.Size([2, 5, 19])\n",
      "torch.Size([2, 5, 19])\n",
      "torch.Size([2, 5, 19])\n",
      "torch.Size([2, 5, 19])\n",
      "torch.Size([2, 5, 19])\n",
      "torch.Size([2, 5, 19])\n",
      "torch.Size([2, 5, 19])\n",
      "torch.Size([2, 5, 19])\n",
      "torch.Size([2, 5, 19])\n",
      "torch.Size([2, 5, 19])\n",
      "torch.Size([2, 5, 19])\n",
      "torch.Size([2, 5, 19])\n",
      "torch.Size([2, 5, 19])\n",
      "torch.Size([2, 5, 19])\n",
      "torch.Size([2, 5, 19])\n",
      "torch.Size([2, 5, 19])\n",
      "torch.Size([2, 5, 19])\n"
     ]
    }
   ],
   "source": [
    "dler = DataLoader(dset, batch_size=2, shuffle=True, num_workers=3)\n",
    "for i, sample in enumerate(dler):\n",
    "    print(sample[1].size())\n",
    "    # print(sample.size())"
   ]
  },
  {
   "cell_type": "markdown",
   "id": "eebc935a-127b-40e4-a758-ea6fa1366525",
   "metadata": {},
   "source": [
    "# Play around with concat dataset"
   ]
  },
  {
   "cell_type": "code",
   "execution_count": 63,
   "id": "c5b06414-bfd7-4549-b8f1-50d328c566b6",
   "metadata": {},
   "outputs": [
    {
     "name": "stdout",
     "output_type": "stream",
     "text": [
      "[INFO]  Data folder /home/serialexperimentsleon/datasets/screwing/2022-03-10_23-17-39/0_2022-03-10-23-17-44 already exists. Not creating.\n",
      "[INFO]  Data folder /home/serialexperimentsleon/datasets/screwing/2022-03-10_23-17-39/1_2022-03-10-23-17-55 already exists. Not creating.\n",
      "[INFO]  Data folder /home/serialexperimentsleon/datasets/screwing/2022-03-10_23-17-39/2_2022-03-10-23-19-06 already exists. Not creating.\n",
      "[INFO]  Data folder /home/serialexperimentsleon/datasets/screwing/2022-03-10_23-17-39/3_2022-03-10-23-19-51 already exists. Not creating.\n",
      "[INFO]  Data folder /home/serialexperimentsleon/datasets/screwing/2022-03-10_23-17-39/4_2022-03-10-23-20-06 already exists. Not creating.\n",
      "[INFO]  Data folder /home/serialexperimentsleon/datasets/screwing/2022-03-10_23-17-39/5_2022-03-10-23-20-17 already exists. Not creating.\n",
      "[INFO]  Data folder /home/serialexperimentsleon/datasets/screwing/2022-03-10_23-17-39/6_2022-03-10-23-20-31 already exists. Not creating.\n",
      "[INFO]  Data folder /home/serialexperimentsleon/datasets/screwing/2022-03-10_23-17-39/7_2022-03-10-23-20-44 already exists. Not creating.\n",
      "[INFO]  Data folder /home/serialexperimentsleon/datasets/screwing/2022-03-10_23-17-39/8_2022-03-10-23-21-19 already exists. Not creating.\n",
      "[INFO]  Data folder /home/serialexperimentsleon/datasets/screwing/2022-03-10_23-17-39/9_2022-03-10-23-21-51 already exists. Not creating.\n"
     ]
    }
   ],
   "source": [
    "num_dset = 10\n",
    "dset_list = []\n",
    "for i in range(num_dset):\n",
    "    id_str = str(i)\n",
    "    bag_path_names = base_dset_dir + xprmnt_dir + '/' + id_str + '_*.bag' \n",
    "    bag_path = glob.glob(bag_path_names)[0]\n",
    "\n",
    "    pos_path_name = base_dset_dir + xprmnt_dir + '/' + id_str + '_pos.npy'\n",
    "    proj_ori_path = base_dset_dir + xprmnt_dir + '/' + id_str + '_proj_ori.npy'\n",
    "    pos_ori_path_list = [pos_path_name, proj_ori_path]\n",
    "    \n",
    "    dset_list.append(ScrewingDataset(bag_path, pos_ori_path_list, 5))\n",
    "    \n",
    "concat_dset = ConcatDataset(dset_list)"
   ]
  },
  {
   "cell_type": "code",
   "execution_count": 66,
   "id": "7b9adf24-c2c6-4ba8-abd8-87240a911cbb",
   "metadata": {},
   "outputs": [],
   "source": [
    "# DataLoader(dset, batch_size=2, shuffle=True, num_workers=3)\n",
    "concat_loader = DataLoader(\n",
    "    concat_dset,\n",
    "    shuffle=True,\n",
    "    num_workers=3,\n",
    "    batch_size=2\n",
    ")\n",
    "# concat_dset"
   ]
  },
  {
   "cell_type": "code",
   "execution_count": 69,
   "id": "9d869504-a80c-4cb8-99e6-c6fa18b540c0",
   "metadata": {},
   "outputs": [
    {
     "name": "stdout",
     "output_type": "stream",
     "text": [
      "[tensor([[ 0.5701, -0.0145,  0.5115,  0.1104, -0.0727],\n",
      "        [ 0.5670,  0.0099,  0.5103,  0.1730,  0.0889]], dtype=torch.float64), tensor([[[ 5.5270e-01, -6.7436e-03,  5.1559e-01,  9.9657e-01,  5.4972e-04,\n",
      "          -1.2741e-02, -8.1736e-02, -1.3341e+00, -1.4029e+00, -3.1632e+00,\n",
      "          -5.4503e-01,  5.7815e-01, -1.1581e-01, -8.7874e-01, -1.3663e+00,\n",
      "          -1.4379e+00, -6.0464e+00,  3.4803e+00,  7.1104e+00],\n",
      "         [ 5.5270e-01, -7.0267e-03,  5.1558e-01,  9.9650e-01,  4.5800e-04,\n",
      "          -1.2783e-02, -8.2582e-02, -1.4143e+00, -1.3885e+00, -3.1888e+00,\n",
      "          -6.0648e-01,  5.4831e-01, -1.1551e-01, -5.1456e-01, -1.1369e+00,\n",
      "          -1.3600e+00, -4.8330e+00,  1.9033e+00,  6.5632e+00],\n",
      "         [ 5.5273e-01, -7.2599e-03,  5.1559e-01,  9.9643e-01,  3.5905e-04,\n",
      "          -1.2778e-02, -8.3437e-02, -1.4636e+00, -1.1349e+00, -3.2343e+00,\n",
      "          -5.9630e-01,  5.5589e-01, -9.7680e-02, -5.9692e-01, -1.0307e+00,\n",
      "          -1.3724e+00, -4.1527e+00,  9.8659e-01,  1.4355e+01],\n",
      "         [ 5.5281e-01, -7.4470e-03,  5.1558e-01,  9.9636e-01,  2.5536e-04,\n",
      "          -1.2694e-02, -8.4281e-02, -1.5175e+00, -1.1683e+00, -3.2554e+00,\n",
      "          -6.5147e-01,  5.4338e-01, -1.0062e-01, -3.0828e-01, -7.8964e-01,\n",
      "          -1.3054e+00, -3.2414e+00,  1.0888e+00,  5.9880e+00],\n",
      "         [ 5.5294e-01, -7.5858e-03,  5.1557e-01,  9.9629e-01,  1.4514e-04,\n",
      "          -1.2530e-02, -8.5127e-02, -1.5186e+00, -1.3738e+00, -3.2360e+00,\n",
      "          -5.2242e-01,  5.7788e-01, -1.1314e-01, -6.0907e-01, -1.4422e+00,\n",
      "          -1.4148e+00, -6.3908e+00,  2.1297e+00,  8.1493e+00]],\n",
      "\n",
      "        [[ 5.5669e-01,  3.9924e-03,  5.1611e-01,  9.9773e-01,  1.2630e-03,\n",
      "          -8.5589e-03, -6.6737e-02, -1.2364e-01, -3.1000e+00, -2.5570e+00,\n",
      "          -6.1751e-01,  7.9455e-01, -2.3706e-01, -4.6108e+00, -2.5878e+00,\n",
      "          -2.1199e+00, -1.1077e+01,  1.8827e+01,  1.7937e+01],\n",
      "         [ 5.5663e-01,  3.7267e-03,  5.1616e-01,  9.9769e-01,  1.2522e-03,\n",
      "          -8.6192e-03, -6.7426e-02, -1.5858e-01, -3.3378e+00, -2.5472e+00,\n",
      "          -5.3695e-01,  8.0117e-01, -2.5231e-01, -4.5758e+00, -3.0465e+00,\n",
      "          -2.1416e+00, -1.3391e+01,  1.9187e+01,  1.4153e+01],\n",
      "         [ 5.5658e-01,  3.4027e-03,  5.1620e-01,  9.9764e-01,  1.2325e-03,\n",
      "          -8.6784e-03, -6.8097e-02, -2.1632e-01, -3.3294e+00, -2.5619e+00,\n",
      "          -5.9553e-01,  7.7305e-01, -2.5257e-01, -4.2666e+00, -2.8300e+00,\n",
      "          -2.0760e+00, -1.2222e+01,  1.7704e+01,  1.4557e+01],\n",
      "         [ 5.5653e-01,  3.0337e-03,  5.1626e-01,  9.9759e-01,  1.2099e-03,\n",
      "          -8.7301e-03, -6.8773e-02, -2.6587e-01, -3.0869e+00, -2.6016e+00,\n",
      "          -6.2121e-01,  7.6330e-01, -2.3607e-01, -4.1449e+00, -2.5598e+00,\n",
      "          -2.0435e+00, -1.0902e+01,  1.6711e+01,  1.7715e+01],\n",
      "         [ 5.5648e-01,  2.6212e-03,  5.1632e-01,  9.9755e-01,  1.1809e-03,\n",
      "          -8.7839e-03, -6.9450e-02, -3.2222e-01, -3.0574e+00, -2.6232e+00,\n",
      "          -6.2332e-01,  7.5123e-01, -2.3399e-01, -3.9516e+00, -2.5195e+00,\n",
      "          -2.0096e+00, -1.0729e+01,  1.5945e+01,  1.6856e+01]]],\n",
      "       dtype=torch.float64)]\n"
     ]
    }
   ],
   "source": [
    "for i, sample in enumerate(concat_loader):\n",
    "    # print(i)\n",
    "    # print(sample[1].size())    \n",
    "    print(sample)\n",
    "    break"
   ]
  },
  {
   "cell_type": "code",
   "execution_count": 45,
   "id": "e5922fae",
   "metadata": {},
   "outputs": [],
   "source": [
    "import numpy as np"
   ]
  },
  {
   "cell_type": "code",
   "execution_count": 51,
   "id": "84c696c3",
   "metadata": {},
   "outputs": [
    {
     "data": {
      "text/plain": [
       "array([[55.95789679],\n",
       "       [41.5319426 ],\n",
       "       [85.57624489]])"
      ]
     },
     "execution_count": 51,
     "metadata": {},
     "output_type": "execute_result"
    }
   ],
   "source": [
    "RT = np.array([\n",
    "    [ -0.6356, -0.5383, 0.5534], \n",
    "    [0.7708, -0.4828, 0.4156],\n",
    "    [0.0434, 0.6907, 0.7218 ]\n",
    "])\n",
    "\n",
    "T = np.array([\n",
    "    [550/3275],\n",
    "    [29260/3275],\n",
    "    [110]\n",
    "])\n",
    "A = RT@T\n",
    "A"
   ]
  },
  {
   "cell_type": "code",
   "execution_count": 68,
   "id": "d4411606",
   "metadata": {},
   "outputs": [
    {
     "name": "stdout",
     "output_type": "stream",
     "text": [
      "[0.90555912 0.461257   0.54141823]\n"
     ]
    }
   ],
   "source": [
    "z_vec = np.random.rand(3)\n",
    "print(z_vec[0:3])\n",
    "z_vec[0:2] / z_vec[2]\n",
    "\n",
    "test_path = '~/datasets/rosbags/'\n",
    "test_path = os.path.expanduser(test_path)\n",
    "test_file = 'test'\n",
    "\n"
   ]
  },
  {
   "cell_type": "code",
   "execution_count": 69,
   "id": "9d5a5510",
   "metadata": {},
   "outputs": [
    {
     "data": {
      "text/plain": [
       "3.141592653589793"
      ]
     },
     "execution_count": 69,
     "metadata": {},
     "output_type": "execute_result"
    }
   ],
   "source": [
    "np.pi\n"
   ]
  },
  {
   "cell_type": "code",
   "execution_count": 67,
   "id": "5819fce7",
   "metadata": {},
   "outputs": [],
   "source": [
    "\n",
    "np.save(os.path.join(test_path, test_file), z_vec)\n"
   ]
  }
 ],
 "metadata": {
  "kernelspec": {
   "display_name": "Python 3 (ipykernel)",
   "language": "python",
   "name": "python3"
  },
  "language_info": {
   "codemirror_mode": {
    "name": "ipython",
    "version": 3
   },
   "file_extension": ".py",
   "mimetype": "text/x-python",
   "name": "python",
   "nbconvert_exporter": "python",
   "pygments_lexer": "ipython3",
   "version": "3.7.11"
  }
 },
 "nbformat": 4,
 "nbformat_minor": 5
}
