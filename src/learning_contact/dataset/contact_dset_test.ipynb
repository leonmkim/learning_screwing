{
 "cells": [
  {
   "cell_type": "code",
   "execution_count": 1,
   "metadata": {},
   "outputs": [],
   "source": [
    "%load_ext autoreload\n",
    "%autoreload 2"
   ]
  },
  {
   "cell_type": "code",
   "execution_count": 7,
   "metadata": {},
   "outputs": [],
   "source": [
    "\n",
    "import torch\n",
    "import os\n",
    "from contact_dataset import ContactDataset\n",
    "import pandas as pd\n",
    "import numpy as np\n"
   ]
  },
  {
   "cell_type": "code",
   "execution_count": 8,
   "metadata": {},
   "outputs": [
    {
     "data": {
      "text/plain": [
       "True"
      ]
     },
     "execution_count": 8,
     "metadata": {},
     "output_type": "execute_result"
    }
   ],
   "source": [
    "bag_path_root = '~/datasets/contact'\n",
    "bag_path_root = os.path.expanduser(bag_path_root)\n",
    "bag_path_root\n",
    "bag_name = 'contact_dset_test_2022-07-13-14-17-57.bag'\n",
    "bag_path = os.path.join(bag_path_root, bag_name)\n",
    "os.path.exists(bag_path)"
   ]
  },
  {
   "cell_type": "code",
   "execution_count": 15,
   "metadata": {},
   "outputs": [],
   "source": [
    "contact_df = pd.read_pickle(os.path.join(bag_path.strip('.bag'), 'contact_df.pkl'))\n",
    "\n",
    "contact_filtered_df = contact_df.loc[(contact_df['/contact_data_throttled/collision1_name'].str.contains('sphere'))]\n"
   ]
  },
  {
   "cell_type": "code",
   "execution_count": 37,
   "metadata": {},
   "outputs": [
    {
     "name": "stdout",
     "output_type": "stream",
     "text": [
      "a\n"
     ]
    }
   ],
   "source": [
    "a = None\n",
    "if not a:\n",
    "    print('a')"
   ]
  },
  {
   "cell_type": "code",
   "execution_count": 44,
   "metadata": {},
   "outputs": [
    {
     "name": "stdout",
     "output_type": "stream",
     "text": [
      "(3, 7)\n"
     ]
    }
   ],
   "source": [
    "dset = ContactDataset(bag_path, 3, 'sphere')\n",
    "result = dset[0]\n",
    "print(result['poses_np'].shape)"
   ]
  }
 ],
 "metadata": {
  "kernelspec": {
   "display_name": "Python 3.7.11 64-bit ('pytorch')",
   "language": "python",
   "name": "python3"
  },
  "language_info": {
   "codemirror_mode": {
    "name": "ipython",
    "version": 3
   },
   "file_extension": ".py",
   "mimetype": "text/x-python",
   "name": "python",
   "nbconvert_exporter": "python",
   "pygments_lexer": "ipython3",
   "version": "3.7.11"
  },
  "orig_nbformat": 4,
  "vscode": {
   "interpreter": {
    "hash": "c7876b00db1bc6b9a8e936ddc37455fd39ec693a903b797168d600e2f9d9ed83"
   }
  }
 },
 "nbformat": 4,
 "nbformat_minor": 2
}
