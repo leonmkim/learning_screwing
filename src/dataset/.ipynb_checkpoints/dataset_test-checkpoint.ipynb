{
 "cells": [
  {
   "cell_type": "code",
   "execution_count": 8,
   "id": "d684cc5c",
   "metadata": {},
   "outputs": [
    {
     "name": "stdout",
     "output_type": "stream",
     "text": [
      "['/home/serialexperimentsleon/pytorch_ws/screwing_pytorch/src/dataset', '', '/home/serialexperimentsleon/franka_ros_ws/devel/lib/python2.7/dist-packages', '/opt/ros/melodic/lib/python2.7/dist-packages', '/home/serialexperimentsleon/.pyenv/versions/3.7.11/lib/python37.zip', '/home/serialexperimentsleon/.pyenv/versions/3.7.11/lib/python3.7', '/home/serialexperimentsleon/.pyenv/versions/3.7.11/lib/python3.7/lib-dynload', '/home/serialexperimentsleon/.pyenv/versions/3.7.11/envs/pytorch/lib/python3.7/site-packages', '/home/serialexperimentsleon/.pyenv/versions/3.7.11/envs/pytorch/lib/python3.7/site-packages/IPython/extensions', '/home/serialexperimentsleon/.ipython']\n"
     ]
    }
   ],
   "source": [
    "import sys\n",
    "print(sys.path)\n"
   ]
  },
  {
   "cell_type": "code",
   "execution_count": 11,
   "id": "f50d2394",
   "metadata": {},
   "outputs": [
    {
     "ename": "SyntaxError",
     "evalue": "invalid syntax (rosbag_dataset.py, line 73)",
     "output_type": "error",
     "traceback": [
      "Traceback \u001b[0;36m(most recent call last)\u001b[0m:\n",
      "  File \u001b[1;32m\"/home/serialexperimentsleon/.pyenv/versions/3.7.11/envs/pytorch/lib/python3.7/site-packages/IPython/core/interactiveshell.py\"\u001b[0m, line \u001b[1;32m3457\u001b[0m, in \u001b[1;35mrun_code\u001b[0m\n    exec(code_obj, self.user_global_ns, self.user_ns)\n",
      "\u001b[0;36m  File \u001b[0;32m\"/tmp/ipykernel_3150/450206801.py\"\u001b[0;36m, line \u001b[0;32m1\u001b[0;36m, in \u001b[0;35m<module>\u001b[0;36m\u001b[0m\n\u001b[0;31m    from rosbag_dataset import RosbagDataset\u001b[0m\n",
      "\u001b[0;36m  File \u001b[0;32m\"/home/serialexperimentsleon/pytorch_ws/screwing_pytorch/src/dataset/rosbag_dataset.py\"\u001b[0;36m, line \u001b[0;32m73\u001b[0m\n\u001b[0;31m    self.target_paths =\u001b[0m\n\u001b[0m                        ^\u001b[0m\n\u001b[0;31mSyntaxError\u001b[0m\u001b[0;31m:\u001b[0m invalid syntax\n"
     ]
    }
   ],
   "source": [
    "from . import RosbagDataset"
   ]
  }
 ],
 "metadata": {
  "kernelspec": {
   "display_name": "Python 3 (ipykernel)",
   "language": "python",
   "name": "python3"
  },
  "language_info": {
   "codemirror_mode": {
    "name": "ipython",
    "version": 3
   },
   "file_extension": ".py",
   "mimetype": "text/x-python",
   "name": "python",
   "nbconvert_exporter": "python",
   "pygments_lexer": "ipython3",
   "version": "3.7.11"
  }
 },
 "nbformat": 4,
 "nbformat_minor": 5
}
