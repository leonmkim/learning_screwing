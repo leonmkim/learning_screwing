{
 "cells": [
  {
   "cell_type": "code",
   "execution_count": 2,
   "id": "7ac596ac",
   "metadata": {},
   "outputs": [],
   "source": [
    "import os"
   ]
  },
  {
   "cell_type": "code",
   "execution_count": 6,
   "id": "1dc816dc",
   "metadata": {},
   "outputs": [
    {
     "data": {
      "text/plain": [
       "'/home/serialexperimentsleon/datasets/rosbags/test/input.bag'"
      ]
     },
     "execution_count": 6,
     "metadata": {},
     "output_type": "execute_result"
    }
   ],
   "source": [
    "base_dset_dir = os.path.expanduser('~/datasets/rosbags')\n",
    "xprmnt_dir = '/test'\n",
    "bag_name = '/input.bag'\n",
    "bag_path = base_dset_dir + xprmnt_dir + bag_name\n",
    "\n",
    "bag_path"
   ]
  },
  {
   "cell_type": "code",
   "execution_count": null,
   "id": "ff2932d1",
   "metadata": {},
   "outputs": [],
   "source": [
    "\n",
    "os.mkdir(base_dset_dir + xprmnt_dir)"
   ]
  }
 ],
 "metadata": {
  "kernelspec": {
   "display_name": "Python 3 (ipykernel)",
   "language": "python",
   "name": "python3"
  },
  "language_info": {
   "codemirror_mode": {
    "name": "ipython",
    "version": 3
   },
   "file_extension": ".py",
   "mimetype": "text/x-python",
   "name": "python",
   "nbconvert_exporter": "python",
   "pygments_lexer": "ipython3",
   "version": "3.7.11"
  }
 },
 "nbformat": 4,
 "nbformat_minor": 5
}
