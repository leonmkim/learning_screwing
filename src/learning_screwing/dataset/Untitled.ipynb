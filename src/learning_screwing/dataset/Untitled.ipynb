{
 "cells": [
  {
   "cell_type": "code",
   "execution_count": 33,
   "id": "7441f706-3259-4bde-aa03-6b72aa81b170",
   "metadata": {},
   "outputs": [
    {
     "name": "stdout",
     "output_type": "stream",
     "text": [
      "The autoreload extension is already loaded. To reload it, use:\n",
      "  %reload_ext autoreload\n"
     ]
    }
   ],
   "source": [
    "%load_ext autoreload\n",
    "%autoreload 2"
   ]
  },
  {
   "cell_type": "code",
   "execution_count": 43,
   "id": "587a4465-b839-4e2a-aaaa-78d09cf6a8d0",
   "metadata": {},
   "outputs": [],
   "source": [
    "import yaml\n",
    "import torch\n",
    "import wandb"
   ]
  },
  {
   "cell_type": "code",
   "execution_count": 61,
   "id": "2bfd3784-6f2e-4986-80c4-3702ab475f5c",
   "metadata": {},
   "outputs": [],
   "source": [
    "yaml_file = './config.yaml'"
   ]
  },
  {
   "cell_type": "code",
   "execution_count": 63,
   "id": "f0a9a2e8-616a-4b84-960d-f022cc8f8478",
   "metadata": {},
   "outputs": [
    {
     "data": {
      "text/plain": [
       "'./config.yam'"
      ]
     },
     "execution_count": 63,
     "metadata": {},
     "output_type": "execute_result"
    }
   ],
   "source": [
    "yaml_file[:-1]"
   ]
  },
  {
   "cell_type": "code",
   "execution_count": 45,
   "id": "3551f747-f821-41a7-909b-cf335bcaee4a",
   "metadata": {},
   "outputs": [
    {
     "name": "stdout",
     "output_type": "stream",
     "text": [
      "{'train_eval_shared': {'window_size': 50, 'overlapping': True, 'input_dim': 19, 'hidden_dim': 10, 'num_layers': 3, 'output_dim': 5, 'ori_rel_weight': 2, 'num_eps': 50, 'chckpnt_epoch_interval': 20, 'base_dset_dir': \"os.path.expanduser('~/datasets/screwing')\", 'xprmnt_dir': 'time.strftime(\"/2022-03-10_23-17-39\")', 'train_ratio': 0.75, 'peg_rad': 0.0127, 'rad_tol': 0.0008, 'model_save_dir': '../../../models/', 'peg length': 0.111125, 'hole inner radius': 0.0135, 'hole outer radius': 0.03, 'hole height': 0.12, 'loss': 'weighted summed SE', 'num_workers': 8}, 'train': {'optimizer': 'Adam', 'batch_size': 32, 'num_epochs': 100, 'learning_rate': 0.003, 'log_interval': 1}}\n"
     ]
    }
   ],
   "source": [
    "with open(yaml_file, 'r') as stream:\n",
    "    try:\n",
    "        parsed_yaml=yaml.safe_load(stream)\n",
    "        print(parsed_yaml)\n",
    "    except yaml.YAMLError as exc:\n",
    "        print(exc)"
   ]
  },
  {
   "cell_type": "code",
   "execution_count": 47,
   "id": "0263ddf0-d045-4087-adac-444a4006e333",
   "metadata": {},
   "outputs": [
    {
     "data": {
      "text/plain": [
       "{'window_size': 50,\n",
       " 'overlapping': True,\n",
       " 'input_dim': 19,\n",
       " 'hidden_dim': 10,\n",
       " 'num_layers': 3,\n",
       " 'output_dim': 5,\n",
       " 'ori_rel_weight': 2,\n",
       " 'num_eps': 50,\n",
       " 'chckpnt_epoch_interval': 20,\n",
       " 'base_dset_dir': \"os.path.expanduser('~/datasets/screwing')\",\n",
       " 'xprmnt_dir': 'time.strftime(\"/2022-03-10_23-17-39\")',\n",
       " 'train_ratio': 0.75,\n",
       " 'peg_rad': 0.0127,\n",
       " 'rad_tol': 0.0008,\n",
       " 'model_save_dir': '../../../models/',\n",
       " 'peg length': 0.111125,\n",
       " 'hole inner radius': 0.0135,\n",
       " 'hole outer radius': 0.03,\n",
       " 'hole height': 0.12,\n",
       " 'loss': 'weighted summed SE',\n",
       " 'num_workers': 8}"
      ]
     },
     "execution_count": 47,
     "metadata": {},
     "output_type": "execute_result"
    }
   ],
   "source": [
    "parsed_yaml['train_eval_shared']"
   ]
  },
  {
   "cell_type": "code",
   "execution_count": 48,
   "id": "7bf92874-4d71-44a1-878d-909013a896aa",
   "metadata": {},
   "outputs": [
    {
     "data": {
      "text/plain": [
       "{'optimizer': 'Adam',\n",
       " 'batch_size': 32,\n",
       " 'num_epochs': 100,\n",
       " 'learning_rate': 0.003,\n",
       " 'log_interval': 1}"
      ]
     },
     "execution_count": 48,
     "metadata": {},
     "output_type": "execute_result"
    }
   ],
   "source": [
    "parsed_yaml['train']"
   ]
  },
  {
   "cell_type": "code",
   "execution_count": 50,
   "id": "6cc65d55-f2ea-4b6f-b6ee-9c5e66626e32",
   "metadata": {},
   "outputs": [
    {
     "data": {
      "text/plain": [
       "{'window_size': 50,\n",
       " 'overlapping': True,\n",
       " 'input_dim': 19,\n",
       " 'hidden_dim': 10,\n",
       " 'num_layers': 3,\n",
       " 'output_dim': 5,\n",
       " 'ori_rel_weight': 2,\n",
       " 'num_eps': 50,\n",
       " 'chckpnt_epoch_interval': 20,\n",
       " 'base_dset_dir': \"os.path.expanduser('~/datasets/screwing')\",\n",
       " 'xprmnt_dir': 'time.strftime(\"/2022-03-10_23-17-39\")',\n",
       " 'train_ratio': 0.75,\n",
       " 'peg_rad': 0.0127,\n",
       " 'rad_tol': 0.0008,\n",
       " 'model_save_dir': '../../../models/',\n",
       " 'peg length': 0.111125,\n",
       " 'hole inner radius': 0.0135,\n",
       " 'hole outer radius': 0.03,\n",
       " 'hole height': 0.12,\n",
       " 'loss': 'weighted summed SE',\n",
       " 'num_workers': 8,\n",
       " 'optimizer': 'Adam',\n",
       " 'batch_size': 32,\n",
       " 'num_epochs': 100,\n",
       " 'learning_rate': 0.003,\n",
       " 'log_interval': 1}"
      ]
     },
     "execution_count": 50,
     "metadata": {},
     "output_type": "execute_result"
    }
   ],
   "source": [
    "res = {**parsed_yaml['train_eval_shared'], **parsed_yaml['train']}\n",
    "res"
   ]
  },
  {
   "cell_type": "code",
   "execution_count": 55,
   "id": "3db52ab7-82bb-462f-9186-b1453f3d8510",
   "metadata": {},
   "outputs": [
    {
     "data": {
      "text/html": [
       "Finishing last run (ID:2e702s85) before initializing another..."
      ],
      "text/plain": [
       "<IPython.core.display.HTML object>"
      ]
     },
     "metadata": {},
     "output_type": "display_data"
    },
    {
     "name": "stdout",
     "output_type": "stream",
     "text": [
      "\n"
     ]
    },
    {
     "data": {
      "text/html": [
       "Waiting for W&B process to finish... <strong style=\"color:green\">(success).</strong>"
      ],
      "text/plain": [
       "<IPython.core.display.HTML object>"
      ]
     },
     "metadata": {},
     "output_type": "display_data"
    },
    {
     "data": {
      "text/html": [
       "Synced <strong style=\"color:#cdcd00\">skilled-cherry-2</strong>: <a href=\"https://wandb.ai/serialexperimentsleon/learning_screwing-src_learning_screwing_dataset/runs/2e702s85\" target=\"_blank\">https://wandb.ai/serialexperimentsleon/learning_screwing-src_learning_screwing_dataset/runs/2e702s85</a><br/>Synced 5 W&B file(s), 0 media file(s), 0 artifact file(s) and 0 other file(s)"
      ],
      "text/plain": [
       "<IPython.core.display.HTML object>"
      ]
     },
     "metadata": {},
     "output_type": "display_data"
    },
    {
     "data": {
      "text/html": [
       "Find logs at: <code>./wandb/run-20220329_184730-2e702s85/logs</code>"
      ],
      "text/plain": [
       "<IPython.core.display.HTML object>"
      ]
     },
     "metadata": {},
     "output_type": "display_data"
    },
    {
     "data": {
      "text/html": [
       "Successfully finished last run (ID:2e702s85). Initializing new run:<br/>"
      ],
      "text/plain": [
       "<IPython.core.display.HTML object>"
      ]
     },
     "metadata": {},
     "output_type": "display_data"
    },
    {
     "data": {
      "text/html": [
       "Tracking run with wandb version 0.12.11"
      ],
      "text/plain": [
       "<IPython.core.display.HTML object>"
      ]
     },
     "metadata": {},
     "output_type": "display_data"
    },
    {
     "data": {
      "text/html": [
       "Run data is saved locally in <code>/home/serialexperimentsleon/pytorch_ws/learning_screwing/src/learning_screwing/dataset/wandb/run-20220329_184826-2wifcysi</code>"
      ],
      "text/plain": [
       "<IPython.core.display.HTML object>"
      ]
     },
     "metadata": {},
     "output_type": "display_data"
    },
    {
     "data": {
      "text/html": [
       "Syncing run <strong><a href=\"https://wandb.ai/serialexperimentsleon/learning_screwing-src_learning_screwing_dataset/runs/2wifcysi\" target=\"_blank\">stellar-sound-3</a></strong> to <a href=\"https://wandb.ai/serialexperimentsleon/learning_screwing-src_learning_screwing_dataset\" target=\"_blank\">Weights & Biases</a> (<a href=\"https://wandb.me/run\" target=\"_blank\">docs</a>)<br/>"
      ],
      "text/plain": [
       "<IPython.core.display.HTML object>"
      ]
     },
     "metadata": {},
     "output_type": "display_data"
    }
   ],
   "source": [
    "run = wandb.init(config=res)"
   ]
  },
  {
   "cell_type": "code",
   "execution_count": 59,
   "id": "52294b01-ffbb-4c66-b2d1-7e8aa64a8b14",
   "metadata": {},
   "outputs": [
    {
     "data": {
      "text/plain": [
       "{'window_size': 50, 'overlapping': True, 'input_dim': 19, 'hidden_dim': 10, 'num_layers': 3, 'output_dim': 5, 'ori_rel_weight': 2, 'num_eps': 50, 'chckpnt_epoch_interval': 20, 'base_dset_dir': \"os.path.expanduser('~/datasets/screwing')\", 'xprmnt_dir': 'time.strftime(\"/2022-03-10_23-17-39\")', 'train_ratio': 0.75, 'peg_rad': 0.0127, 'rad_tol': 0.0008, 'model_save_dir': '../../../models/', 'peg length': 0.111125, 'hole inner radius': 0.0135, 'hole outer radius': 0.03, 'hole height': 0.12, 'loss': 'weighted summed SE', 'num_workers': 8, 'optimizer': 'Adam', 'batch_size': 32, 'num_epochs': 100, 'learning_rate': 0.003, 'log_interval': 1}"
      ]
     },
     "execution_count": 59,
     "metadata": {},
     "output_type": "execute_result"
    }
   ],
   "source": [
    "run.config"
   ]
  },
  {
   "cell_type": "code",
   "execution_count": 60,
   "id": "8e7d9b26-e415-4b75-ba3e-8fdec1585b65",
   "metadata": {},
   "outputs": [
    {
     "name": "stdout",
     "output_type": "stream",
     "text": [
      "\n"
     ]
    },
    {
     "data": {
      "text/html": [
       "Waiting for W&B process to finish... <strong style=\"color:green\">(success).</strong>"
      ],
      "text/plain": [
       "<IPython.core.display.HTML object>"
      ]
     },
     "metadata": {},
     "output_type": "display_data"
    },
    {
     "data": {
      "text/html": [
       "Synced <strong style=\"color:#cdcd00\">stellar-sound-3</strong>: <a href=\"https://wandb.ai/serialexperimentsleon/learning_screwing-src_learning_screwing_dataset/runs/2wifcysi\" target=\"_blank\">https://wandb.ai/serialexperimentsleon/learning_screwing-src_learning_screwing_dataset/runs/2wifcysi</a><br/>Synced 6 W&B file(s), 0 media file(s), 0 artifact file(s) and 1 other file(s)"
      ],
      "text/plain": [
       "<IPython.core.display.HTML object>"
      ]
     },
     "metadata": {},
     "output_type": "display_data"
    },
    {
     "data": {
      "text/html": [
       "Find logs at: <code>./wandb/run-20220329_184826-2wifcysi/logs</code>"
      ],
      "text/plain": [
       "<IPython.core.display.HTML object>"
      ]
     },
     "metadata": {},
     "output_type": "display_data"
    }
   ],
   "source": [
    "wandb.finish()"
   ]
  }
 ],
 "metadata": {
  "interpreter": {
   "hash": "c7876b00db1bc6b9a8e936ddc37455fd39ec693a903b797168d600e2f9d9ed83"
  },
  "kernelspec": {
   "display_name": "Python 3.7.11 64-bit ('pytorch')",
   "language": "python",
   "name": "python3"
  },
  "language_info": {
   "codemirror_mode": {
    "name": "ipython",
    "version": 3
   },
   "file_extension": ".py",
   "mimetype": "text/x-python",
   "name": "python",
   "nbconvert_exporter": "python",
   "pygments_lexer": "ipython3",
   "version": "3.7.11"
  }
 },
 "nbformat": 4,
 "nbformat_minor": 5
}
