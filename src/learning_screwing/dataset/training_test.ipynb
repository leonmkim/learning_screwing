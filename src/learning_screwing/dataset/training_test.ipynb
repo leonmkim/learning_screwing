{
 "cells": [
  {
   "cell_type": "code",
   "execution_count": 1,
   "id": "ff63794c-34e0-47db-b585-c801583699e0",
   "metadata": {},
   "outputs": [],
   "source": [
    "%load_ext autoreload\n",
    "%autoreload 2"
   ]
  },
  {
   "cell_type": "code",
   "execution_count": 38,
   "id": "bd4724fc-771f-4315-aee8-5a380a835558",
   "metadata": {},
   "outputs": [],
   "source": [
    "import json\n",
    "import os\n",
    "import time\n",
    "import glob\n",
    "import numpy as np"
   ]
  },
  {
   "cell_type": "code",
   "execution_count": 182,
   "id": "335a71af-8576-4c49-aff7-a0110b011178",
   "metadata": {},
   "outputs": [
    {
     "data": {
      "text/plain": [
       "24"
      ]
     },
     "execution_count": 182,
     "metadata": {},
     "output_type": "execute_result"
    }
   ],
   "source": [
    "os.cpu_count()"
   ]
  },
  {
   "cell_type": "code",
   "execution_count": 42,
   "id": "fb507622-8aa7-4eb6-aad5-d50f8483640d",
   "metadata": {},
   "outputs": [],
   "source": [
    "from screwing_dataset import ScrewingDataset\n",
    "from screwing_model import ScrewingModel\n",
    "from screwing_model_seq import ScrewingModelSeq\n"
   ]
  },
  {
   "cell_type": "code",
   "execution_count": 43,
   "id": "69f71876-1eef-46e3-a3ef-0ac6c93beaea",
   "metadata": {},
   "outputs": [],
   "source": [
    "from torch.utils.data import DataLoader, ConcatDataset\n",
    "import torch\n",
    "import torch.nn as nn\n",
    "import torch.optim as optim"
   ]
  },
  {
   "cell_type": "code",
   "execution_count": 44,
   "id": "7b9179ce-1265-4689-a43a-ffd87c8a08e2",
   "metadata": {},
   "outputs": [
    {
     "data": {
      "text/plain": [
       "device(type='cuda')"
      ]
     },
     "execution_count": 44,
     "metadata": {},
     "output_type": "execute_result"
    }
   ],
   "source": [
    "device = torch.device(\"cuda\" if torch.cuda.is_available() else \"cpu\")\n",
    "device"
   ]
  },
  {
   "cell_type": "code",
   "execution_count": 56,
   "id": "798912e7-2352-4a4b-8d11-97869a184d2b",
   "metadata": {},
   "outputs": [
    {
     "data": {
      "text/plain": [
       "range(0, 5)"
      ]
     },
     "execution_count": 56,
     "metadata": {},
     "output_type": "execute_result"
    }
   ],
   "source": [
    "peg_r = 0.0127\n",
    "half_peg_r = peg_r/2\n",
    "\n",
    "\n",
    "range(5)"
   ]
  },
  {
   "cell_type": "code",
   "execution_count": 36,
   "id": "76c006a6-db6e-4ed2-a9e2-4820dee6242c",
   "metadata": {},
   "outputs": [
    {
     "name": "stderr",
     "output_type": "stream",
     "text": [
      "Failed to load Python extension for LZ4 support. LZ4 compression will not be available.\n",
      "[autoreload of rospy.impl.init failed: Traceback (most recent call last):\n",
      "  File \"/home/serialexperimentsleon/.pyenv/versions/3.7.11/envs/pytorch/lib/python3.7/site-packages/IPython/extensions/autoreload.py\", line 245, in check\n",
      "    superreload(m, reload, self.old_objects)\n",
      "  File \"/home/serialexperimentsleon/.pyenv/versions/3.7.11/envs/pytorch/lib/python3.7/site-packages/IPython/extensions/autoreload.py\", line 394, in superreload\n",
      "    module = reload(module)\n",
      "  File \"/home/serialexperimentsleon/.pyenv/versions/3.7.11/lib/python3.7/imp.py\", line 314, in reload\n",
      "    return importlib.reload(module)\n",
      "  File \"/home/serialexperimentsleon/.pyenv/versions/3.7.11/lib/python3.7/importlib/__init__.py\", line 169, in reload\n",
      "    _bootstrap._exec(spec, module)\n",
      "  File \"<frozen importlib._bootstrap>\", line 630, in _exec\n",
      "  File \"<frozen importlib._bootstrap_external>\", line 728, in exec_module\n",
      "  File \"<frozen importlib._bootstrap>\", line 219, in _call_with_frames_removed\n",
      "  File \"/opt/ros/melodic/lib/python2.7/dist-packages/rospy/impl/init.py\", line 109, in <module>\n",
      "    class RosStreamHandler(rosgraph.roslogging.RosStreamHandler):\n",
      "AttributeError: module 'rosgraph' has no attribute 'roslogging'\n",
      "]\n",
      "[autoreload of rospy.msg failed: Traceback (most recent call last):\n",
      "  File \"/home/serialexperimentsleon/.pyenv/versions/3.7.11/envs/pytorch/lib/python3.7/site-packages/IPython/extensions/autoreload.py\", line 245, in check\n",
      "    superreload(m, reload, self.old_objects)\n",
      "  File \"/home/serialexperimentsleon/.pyenv/versions/3.7.11/envs/pytorch/lib/python3.7/site-packages/IPython/extensions/autoreload.py\", line 394, in superreload\n",
      "    module = reload(module)\n",
      "  File \"/home/serialexperimentsleon/.pyenv/versions/3.7.11/lib/python3.7/imp.py\", line 314, in reload\n",
      "    return importlib.reload(module)\n",
      "  File \"/home/serialexperimentsleon/.pyenv/versions/3.7.11/lib/python3.7/importlib/__init__.py\", line 169, in reload\n",
      "    _bootstrap._exec(spec, module)\n",
      "  File \"<frozen importlib._bootstrap>\", line 630, in _exec\n",
      "  File \"<frozen importlib._bootstrap_external>\", line 728, in exec_module\n",
      "  File \"<frozen importlib._bootstrap>\", line 219, in _call_with_frames_removed\n",
      "  File \"/opt/ros/melodic/lib/python2.7/dist-packages/rospy/msg.py\", line 48, in <module>\n",
      "    class AnyMsg(genpy.Message):\n",
      "  File \"/opt/ros/melodic/lib/python2.7/dist-packages/rospy/msg.py\", line 56, in AnyMsg\n",
      "    _md5sum = rospy.names.TOPIC_ANYTYPE\n",
      "AttributeError: module 'rospy' has no attribute 'names'\n",
      "]\n",
      "[autoreload of rospy.impl.tcpros_pubsub failed: Traceback (most recent call last):\n",
      "  File \"/home/serialexperimentsleon/.pyenv/versions/3.7.11/envs/pytorch/lib/python3.7/site-packages/IPython/extensions/autoreload.py\", line 245, in check\n",
      "    superreload(m, reload, self.old_objects)\n",
      "  File \"/home/serialexperimentsleon/.pyenv/versions/3.7.11/envs/pytorch/lib/python3.7/site-packages/IPython/extensions/autoreload.py\", line 394, in superreload\n",
      "    module = reload(module)\n",
      "  File \"/home/serialexperimentsleon/.pyenv/versions/3.7.11/lib/python3.7/imp.py\", line 314, in reload\n",
      "    return importlib.reload(module)\n",
      "  File \"/home/serialexperimentsleon/.pyenv/versions/3.7.11/lib/python3.7/importlib/__init__.py\", line 169, in reload\n",
      "    _bootstrap._exec(spec, module)\n",
      "  File \"<frozen importlib._bootstrap>\", line 630, in _exec\n",
      "  File \"<frozen importlib._bootstrap_external>\", line 728, in exec_module\n",
      "  File \"<frozen importlib._bootstrap>\", line 219, in _call_with_frames_removed\n",
      "  File \"/opt/ros/melodic/lib/python2.7/dist-packages/rospy/impl/tcpros_pubsub.py\", line 198, in <module>\n",
      "    class TCPROSHandler(rospy.impl.transport.ProtocolHandler):\n",
      "AttributeError: module 'rospy' has no attribute 'impl'\n",
      "]\n"
     ]
    },
    {
     "name": "stdout",
     "output_type": "stream",
     "text": [
      "2.0\n",
      "tensor([1.1000, 2.0000, 3.0000])\n"
     ]
    }
   ],
   "source": [
    "list_test = [1.1, 2, 3]\n",
    "tensor_test = torch.as_tensor(list_test)\n",
    "q = torch.as_tensor([0.1, 0.5, 0.9])\n",
    "intervals = torch.quantile(tensor_test, q, dim=0, keepdim=False, interpolation='nearest')\n",
    "print(intervals[1].item())\n",
    "print(interval_lower)"
   ]
  },
  {
   "cell_type": "code",
   "execution_count": null,
   "id": "f5d5d911-ce47-4201-89af-4404fbcc77cb",
   "metadata": {},
   "outputs": [],
   "source": []
  },
  {
   "cell_type": "code",
   "execution_count": 52,
   "id": "413ed73a-26e5-4d17-b49a-a37f5024626f",
   "metadata": {},
   "outputs": [],
   "source": [
    "base_dset_dir = os.path.expanduser('~/datasets/screwing')\n",
    "\n",
    "# xprmnt_dir = time.strftime(\"/%Y-%m-%d_%H-%M-%S\")\n",
    "xprmnt_dir = time.strftime(\"/2022-03-10_23-17-39\")\n"
   ]
  },
  {
   "cell_type": "code",
   "execution_count": 53,
   "id": "9dec4fe9-1a1d-4352-9b70-5bb4de18b10e",
   "metadata": {},
   "outputs": [],
   "source": [
    "bag_path_names = base_dset_dir + xprmnt_dir + '/*.bag' \n",
    "\n",
    "bag_path_list = glob.glob(bag_path_names)\n",
    "total_num_dset = len(bag_path_list)\n",
    "num_dset = 2"
   ]
  },
  {
   "cell_type": "code",
   "execution_count": 54,
   "id": "9af95dc1-7572-49f4-9674-f6703c1ef3f5",
   "metadata": {},
   "outputs": [
    {
     "ename": "ROSBagUnindexedException",
     "evalue": "Unindexed bag",
     "output_type": "error",
     "traceback": [
      "\u001b[0;31m---------------------------------------------------------------------------\u001b[0m",
      "\u001b[0;31mTypeError\u001b[0m                                 Traceback (most recent call last)",
      "\u001b[0;32m/opt/ros/melodic/lib/python2.7/dist-packages/rosbag/bag.py\u001b[0m in \u001b[0;36m_read_field\u001b[0;34m(header, field, unpack_fn)\u001b[0m\n\u001b[1;32m   1974\u001b[0m     \u001b[0;32mtry\u001b[0m\u001b[0;34m:\u001b[0m\u001b[0;34m\u001b[0m\u001b[0;34m\u001b[0m\u001b[0m\n\u001b[0;32m-> 1975\u001b[0;31m         \u001b[0mvalue\u001b[0m \u001b[0;34m=\u001b[0m \u001b[0munpack_fn\u001b[0m\u001b[0;34m(\u001b[0m\u001b[0mheader\u001b[0m\u001b[0;34m[\u001b[0m\u001b[0mfield\u001b[0m\u001b[0;34m]\u001b[0m\u001b[0;34m)\u001b[0m\u001b[0;34m\u001b[0m\u001b[0;34m\u001b[0m\u001b[0m\n\u001b[0m\u001b[1;32m   1976\u001b[0m     \u001b[0;32mexcept\u001b[0m \u001b[0mException\u001b[0m \u001b[0;32mas\u001b[0m \u001b[0mex\u001b[0m\u001b[0;34m:\u001b[0m\u001b[0;34m\u001b[0m\u001b[0;34m\u001b[0m\u001b[0m\n",
      "\u001b[0;32m/opt/ros/melodic/lib/python2.7/dist-packages/rosbag/bag.py\u001b[0m in \u001b[0;36m_unpack_time\u001b[0;34m(v)\u001b[0m\n\u001b[1;32m   1935\u001b[0m \u001b[0;32mdef\u001b[0m \u001b[0m_unpack_uint64\u001b[0m\u001b[0;34m(\u001b[0m\u001b[0mv\u001b[0m\u001b[0;34m)\u001b[0m\u001b[0;34m:\u001b[0m \u001b[0;32mreturn\u001b[0m \u001b[0mstruct\u001b[0m\u001b[0;34m.\u001b[0m\u001b[0munpack\u001b[0m\u001b[0;34m(\u001b[0m\u001b[0;34m'<Q'\u001b[0m\u001b[0;34m,\u001b[0m \u001b[0mv\u001b[0m\u001b[0;34m)\u001b[0m\u001b[0;34m[\u001b[0m\u001b[0;36m0\u001b[0m\u001b[0;34m]\u001b[0m\u001b[0;34m\u001b[0m\u001b[0;34m\u001b[0m\u001b[0m\n\u001b[0;32m-> 1936\u001b[0;31m \u001b[0;32mdef\u001b[0m \u001b[0m_unpack_time\u001b[0m\u001b[0;34m(\u001b[0m\u001b[0mv\u001b[0m\u001b[0;34m)\u001b[0m\u001b[0;34m:\u001b[0m   \u001b[0;32mreturn\u001b[0m \u001b[0mrospy\u001b[0m\u001b[0;34m.\u001b[0m\u001b[0mTime\u001b[0m\u001b[0;34m(\u001b[0m\u001b[0;34m*\u001b[0m\u001b[0mstruct\u001b[0m\u001b[0;34m.\u001b[0m\u001b[0munpack\u001b[0m\u001b[0;34m(\u001b[0m\u001b[0;34m'<LL'\u001b[0m\u001b[0;34m,\u001b[0m \u001b[0mv\u001b[0m\u001b[0;34m)\u001b[0m\u001b[0;34m)\u001b[0m\u001b[0;34m\u001b[0m\u001b[0;34m\u001b[0m\u001b[0m\n\u001b[0m\u001b[1;32m   1937\u001b[0m \u001b[0;34m\u001b[0m\u001b[0m\n",
      "\u001b[0;32m/opt/ros/melodic/lib/python2.7/dist-packages/rospy/rostime.py\u001b[0m in \u001b[0;36m__init__\u001b[0;34m(self, secs, nsecs)\u001b[0m\n\u001b[1;32m    137\u001b[0m         \"\"\"\n\u001b[0;32m--> 138\u001b[0;31m         \u001b[0msuper\u001b[0m\u001b[0;34m(\u001b[0m\u001b[0mTime\u001b[0m\u001b[0;34m,\u001b[0m \u001b[0mself\u001b[0m\u001b[0;34m)\u001b[0m\u001b[0;34m.\u001b[0m\u001b[0m__init__\u001b[0m\u001b[0;34m(\u001b[0m\u001b[0msecs\u001b[0m\u001b[0;34m,\u001b[0m \u001b[0mnsecs\u001b[0m\u001b[0;34m)\u001b[0m\u001b[0;34m\u001b[0m\u001b[0;34m\u001b[0m\u001b[0m\n\u001b[0m\u001b[1;32m    139\u001b[0m \u001b[0;34m\u001b[0m\u001b[0m\n",
      "\u001b[0;31mTypeError\u001b[0m: super(type, obj): obj must be an instance or subtype of type",
      "\nDuring handling of the above exception, another exception occurred:\n",
      "\u001b[0;31mROSBagFormatException\u001b[0m                     Traceback (most recent call last)",
      "\u001b[0;32m/opt/ros/melodic/lib/python2.7/dist-packages/rosbag/bag.py\u001b[0m in \u001b[0;36mstart_reading\u001b[0;34m(self)\u001b[0m\n\u001b[1;32m   2657\u001b[0m             \u001b[0;31m# Read the chunk info records\u001b[0m\u001b[0;34m\u001b[0m\u001b[0;34m\u001b[0m\u001b[0;34m\u001b[0m\u001b[0m\n\u001b[0;32m-> 2658\u001b[0;31m             \u001b[0mself\u001b[0m\u001b[0;34m.\u001b[0m\u001b[0mbag\u001b[0m\u001b[0;34m.\u001b[0m\u001b[0m_chunks\u001b[0m \u001b[0;34m=\u001b[0m \u001b[0;34m[\u001b[0m\u001b[0mself\u001b[0m\u001b[0;34m.\u001b[0m\u001b[0mread_chunk_info_record\u001b[0m\u001b[0;34m(\u001b[0m\u001b[0;34m)\u001b[0m \u001b[0;32mfor\u001b[0m \u001b[0mi\u001b[0m \u001b[0;32min\u001b[0m \u001b[0mrange\u001b[0m\u001b[0;34m(\u001b[0m\u001b[0mself\u001b[0m\u001b[0;34m.\u001b[0m\u001b[0mbag\u001b[0m\u001b[0;34m.\u001b[0m\u001b[0m_chunk_count\u001b[0m\u001b[0;34m)\u001b[0m\u001b[0;34m]\u001b[0m\u001b[0;34m\u001b[0m\u001b[0;34m\u001b[0m\u001b[0m\n\u001b[0m\u001b[1;32m   2659\u001b[0m \u001b[0;34m\u001b[0m\u001b[0m\n",
      "\u001b[0;32m/opt/ros/melodic/lib/python2.7/dist-packages/rosbag/bag.py\u001b[0m in \u001b[0;36m<listcomp>\u001b[0;34m(.0)\u001b[0m\n\u001b[1;32m   2657\u001b[0m             \u001b[0;31m# Read the chunk info records\u001b[0m\u001b[0;34m\u001b[0m\u001b[0;34m\u001b[0m\u001b[0;34m\u001b[0m\u001b[0m\n\u001b[0;32m-> 2658\u001b[0;31m             \u001b[0mself\u001b[0m\u001b[0;34m.\u001b[0m\u001b[0mbag\u001b[0m\u001b[0;34m.\u001b[0m\u001b[0m_chunks\u001b[0m \u001b[0;34m=\u001b[0m \u001b[0;34m[\u001b[0m\u001b[0mself\u001b[0m\u001b[0;34m.\u001b[0m\u001b[0mread_chunk_info_record\u001b[0m\u001b[0;34m(\u001b[0m\u001b[0;34m)\u001b[0m \u001b[0;32mfor\u001b[0m \u001b[0mi\u001b[0m \u001b[0;32min\u001b[0m \u001b[0mrange\u001b[0m\u001b[0;34m(\u001b[0m\u001b[0mself\u001b[0m\u001b[0;34m.\u001b[0m\u001b[0mbag\u001b[0m\u001b[0;34m.\u001b[0m\u001b[0m_chunk_count\u001b[0m\u001b[0;34m)\u001b[0m\u001b[0;34m]\u001b[0m\u001b[0;34m\u001b[0m\u001b[0;34m\u001b[0m\u001b[0m\n\u001b[0m\u001b[1;32m   2659\u001b[0m \u001b[0;34m\u001b[0m\u001b[0m\n",
      "\u001b[0;32m/opt/ros/melodic/lib/python2.7/dist-packages/rosbag/bag.py\u001b[0m in \u001b[0;36mread_chunk_info_record\u001b[0;34m(self)\u001b[0m\n\u001b[1;32m   2745\u001b[0m             \u001b[0mchunk_pos\u001b[0m        \u001b[0;34m=\u001b[0m \u001b[0m_read_uint64_field\u001b[0m\u001b[0;34m(\u001b[0m\u001b[0mheader\u001b[0m\u001b[0;34m,\u001b[0m \u001b[0;34m'chunk_pos'\u001b[0m\u001b[0;34m)\u001b[0m\u001b[0;34m\u001b[0m\u001b[0;34m\u001b[0m\u001b[0m\n\u001b[0;32m-> 2746\u001b[0;31m             \u001b[0mstart_time\u001b[0m       \u001b[0;34m=\u001b[0m \u001b[0m_read_time_field\u001b[0m  \u001b[0;34m(\u001b[0m\u001b[0mheader\u001b[0m\u001b[0;34m,\u001b[0m \u001b[0;34m'start_time'\u001b[0m\u001b[0;34m)\u001b[0m\u001b[0;34m\u001b[0m\u001b[0;34m\u001b[0m\u001b[0m\n\u001b[0m\u001b[1;32m   2747\u001b[0m             \u001b[0mend_time\u001b[0m         \u001b[0;34m=\u001b[0m \u001b[0m_read_time_field\u001b[0m  \u001b[0;34m(\u001b[0m\u001b[0mheader\u001b[0m\u001b[0;34m,\u001b[0m \u001b[0;34m'end_time'\u001b[0m\u001b[0;34m)\u001b[0m\u001b[0;34m\u001b[0m\u001b[0;34m\u001b[0m\u001b[0m\n",
      "\u001b[0;32m/opt/ros/melodic/lib/python2.7/dist-packages/rosbag/bag.py\u001b[0m in \u001b[0;36m_read_time_field\u001b[0;34m(header, field)\u001b[0m\n\u001b[1;32m   1985\u001b[0m \u001b[0;32mdef\u001b[0m \u001b[0m_read_uint64_field\u001b[0m\u001b[0;34m(\u001b[0m\u001b[0mheader\u001b[0m\u001b[0;34m,\u001b[0m \u001b[0mfield\u001b[0m\u001b[0;34m)\u001b[0m\u001b[0;34m:\u001b[0m \u001b[0;32mreturn\u001b[0m \u001b[0m_read_field\u001b[0m\u001b[0;34m(\u001b[0m\u001b[0mheader\u001b[0m\u001b[0;34m,\u001b[0m \u001b[0mfield\u001b[0m\u001b[0;34m,\u001b[0m \u001b[0m_unpack_uint64\u001b[0m\u001b[0;34m)\u001b[0m\u001b[0;34m\u001b[0m\u001b[0;34m\u001b[0m\u001b[0m\n\u001b[0;32m-> 1986\u001b[0;31m \u001b[0;32mdef\u001b[0m \u001b[0m_read_time_field\u001b[0m  \u001b[0;34m(\u001b[0m\u001b[0mheader\u001b[0m\u001b[0;34m,\u001b[0m \u001b[0mfield\u001b[0m\u001b[0;34m)\u001b[0m\u001b[0;34m:\u001b[0m \u001b[0;32mreturn\u001b[0m \u001b[0m_read_field\u001b[0m\u001b[0;34m(\u001b[0m\u001b[0mheader\u001b[0m\u001b[0;34m,\u001b[0m \u001b[0mfield\u001b[0m\u001b[0;34m,\u001b[0m \u001b[0m_unpack_time\u001b[0m\u001b[0;34m)\u001b[0m\u001b[0;34m\u001b[0m\u001b[0;34m\u001b[0m\u001b[0m\n\u001b[0m\u001b[1;32m   1987\u001b[0m \u001b[0;34m\u001b[0m\u001b[0m\n",
      "\u001b[0;32m/opt/ros/melodic/lib/python2.7/dist-packages/rosbag/bag.py\u001b[0m in \u001b[0;36m_read_field\u001b[0;34m(header, field, unpack_fn)\u001b[0m\n\u001b[1;32m   1976\u001b[0m     \u001b[0;32mexcept\u001b[0m \u001b[0mException\u001b[0m \u001b[0;32mas\u001b[0m \u001b[0mex\u001b[0m\u001b[0;34m:\u001b[0m\u001b[0;34m\u001b[0m\u001b[0;34m\u001b[0m\u001b[0m\n\u001b[0;32m-> 1977\u001b[0;31m         \u001b[0;32mraise\u001b[0m \u001b[0mROSBagFormatException\u001b[0m\u001b[0;34m(\u001b[0m\u001b[0;34m'error reading field \"%s\": %s'\u001b[0m \u001b[0;34m%\u001b[0m \u001b[0;34m(\u001b[0m\u001b[0mfield\u001b[0m\u001b[0;34m,\u001b[0m \u001b[0mstr\u001b[0m\u001b[0;34m(\u001b[0m\u001b[0mex\u001b[0m\u001b[0;34m)\u001b[0m\u001b[0;34m)\u001b[0m\u001b[0;34m)\u001b[0m\u001b[0;34m\u001b[0m\u001b[0;34m\u001b[0m\u001b[0m\n\u001b[0m\u001b[1;32m   1978\u001b[0m \u001b[0;34m\u001b[0m\u001b[0m\n",
      "\u001b[0;31mROSBagFormatException\u001b[0m: error reading field \"start_time\": super(type, obj): obj must be an instance or subtype of type",
      "\nDuring handling of the above exception, another exception occurred:\n",
      "\u001b[0;31mROSBagUnindexedException\u001b[0m                  Traceback (most recent call last)",
      "\u001b[0;32m/tmp/ipykernel_24983/3519357267.py\u001b[0m in \u001b[0;36m<module>\u001b[0;34m\u001b[0m\n\u001b[1;32m     10\u001b[0m     \u001b[0mpos_ori_path_list\u001b[0m \u001b[0;34m=\u001b[0m \u001b[0;34m[\u001b[0m\u001b[0mpos_path_name\u001b[0m\u001b[0;34m,\u001b[0m \u001b[0mproj_ori_path\u001b[0m\u001b[0;34m]\u001b[0m\u001b[0;34m\u001b[0m\u001b[0;34m\u001b[0m\u001b[0m\n\u001b[1;32m     11\u001b[0m \u001b[0;34m\u001b[0m\u001b[0m\n\u001b[0;32m---> 12\u001b[0;31m     \u001b[0mdset_list\u001b[0m\u001b[0;34m.\u001b[0m\u001b[0mappend\u001b[0m\u001b[0;34m(\u001b[0m\u001b[0mScrewingDataset\u001b[0m\u001b[0;34m(\u001b[0m\u001b[0mbag_path\u001b[0m\u001b[0;34m,\u001b[0m \u001b[0mpos_ori_path_list\u001b[0m\u001b[0;34m,\u001b[0m \u001b[0mwindow_size\u001b[0m\u001b[0;34m)\u001b[0m\u001b[0;34m)\u001b[0m\u001b[0;34m\u001b[0m\u001b[0;34m\u001b[0m\u001b[0m\n\u001b[0m\u001b[1;32m     13\u001b[0m \u001b[0;34m\u001b[0m\u001b[0m\n\u001b[1;32m     14\u001b[0m \u001b[0mconcat_dset\u001b[0m \u001b[0;34m=\u001b[0m \u001b[0mConcatDataset\u001b[0m\u001b[0;34m(\u001b[0m\u001b[0mdset_list\u001b[0m\u001b[0;34m)\u001b[0m\u001b[0;34m\u001b[0m\u001b[0;34m\u001b[0m\u001b[0m\n",
      "\u001b[0;32m~/pytorch_ws/learning_screwing/src/learning_screwing/dataset/screwing_dataset.py\u001b[0m in \u001b[0;36m__init__\u001b[0;34m(self, bag_path, target_path_pos_ori_list, window_size)\u001b[0m\n\u001b[1;32m     34\u001b[0m             \u001b[0;32mraise\u001b[0m \u001b[0mAssertionError\u001b[0m\u001b[0;34m(\u001b[0m\u001b[0;34m'bag path does not exist'\u001b[0m\u001b[0;34m)\u001b[0m\u001b[0;34m\u001b[0m\u001b[0;34m\u001b[0m\u001b[0m\n\u001b[1;32m     35\u001b[0m \u001b[0;34m\u001b[0m\u001b[0m\n\u001b[0;32m---> 36\u001b[0;31m         \u001b[0mbag\u001b[0m \u001b[0;34m=\u001b[0m \u001b[0mrosbag\u001b[0m\u001b[0;34m.\u001b[0m\u001b[0mBag\u001b[0m\u001b[0;34m(\u001b[0m\u001b[0mbag_path\u001b[0m\u001b[0;34m)\u001b[0m\u001b[0;34m\u001b[0m\u001b[0;34m\u001b[0m\u001b[0m\n\u001b[0m\u001b[1;32m     37\u001b[0m         \u001b[0mbag_yaml_str\u001b[0m \u001b[0;34m=\u001b[0m \u001b[0mbag\u001b[0m\u001b[0;34m.\u001b[0m\u001b[0m_get_yaml_info\u001b[0m\u001b[0;34m(\u001b[0m\u001b[0;34m)\u001b[0m\u001b[0;34m\u001b[0m\u001b[0;34m\u001b[0m\u001b[0m\n\u001b[1;32m     38\u001b[0m         \u001b[0mself\u001b[0m\u001b[0;34m.\u001b[0m\u001b[0mbag_yaml\u001b[0m \u001b[0;34m=\u001b[0m \u001b[0myaml\u001b[0m\u001b[0;34m.\u001b[0m\u001b[0msafe_load\u001b[0m\u001b[0;34m(\u001b[0m\u001b[0mbag_yaml_str\u001b[0m\u001b[0;34m)\u001b[0m\u001b[0;34m\u001b[0m\u001b[0;34m\u001b[0m\u001b[0m\n",
      "\u001b[0;32m/opt/ros/melodic/lib/python2.7/dist-packages/rosbag/bag.py\u001b[0m in \u001b[0;36m__init__\u001b[0;34m(self, f, mode, compression, chunk_threshold, allow_unindexed, options, skip_index)\u001b[0m\n\u001b[1;32m    465\u001b[0m         \u001b[0mself\u001b[0m\u001b[0;34m.\u001b[0m\u001b[0m_encryptor\u001b[0m \u001b[0;34m=\u001b[0m \u001b[0m_ROSBagNoEncryptor\u001b[0m\u001b[0;34m(\u001b[0m\u001b[0;34m)\u001b[0m\u001b[0;34m\u001b[0m\u001b[0;34m\u001b[0m\u001b[0m\n\u001b[1;32m    466\u001b[0m \u001b[0;34m\u001b[0m\u001b[0m\n\u001b[0;32m--> 467\u001b[0;31m         \u001b[0mself\u001b[0m\u001b[0;34m.\u001b[0m\u001b[0m_open\u001b[0m\u001b[0;34m(\u001b[0m\u001b[0mf\u001b[0m\u001b[0;34m,\u001b[0m \u001b[0mmode\u001b[0m\u001b[0;34m,\u001b[0m \u001b[0mallow_unindexed\u001b[0m\u001b[0;34m)\u001b[0m\u001b[0;34m\u001b[0m\u001b[0;34m\u001b[0m\u001b[0m\n\u001b[0m\u001b[1;32m    468\u001b[0m \u001b[0;34m\u001b[0m\u001b[0m\n\u001b[1;32m    469\u001b[0m         \u001b[0mself\u001b[0m\u001b[0;34m.\u001b[0m\u001b[0m_output_file\u001b[0m \u001b[0;34m=\u001b[0m \u001b[0mself\u001b[0m\u001b[0;34m.\u001b[0m\u001b[0m_file\u001b[0m\u001b[0;34m\u001b[0m\u001b[0;34m\u001b[0m\u001b[0m\n",
      "\u001b[0;32m/opt/ros/melodic/lib/python2.7/dist-packages/rosbag/bag.py\u001b[0m in \u001b[0;36m_open\u001b[0;34m(self, f, mode, allow_unindexed)\u001b[0m\n\u001b[1;32m   1425\u001b[0m \u001b[0;34m\u001b[0m\u001b[0m\n\u001b[1;32m   1426\u001b[0m         \u001b[0;32mtry\u001b[0m\u001b[0;34m:\u001b[0m\u001b[0;34m\u001b[0m\u001b[0;34m\u001b[0m\u001b[0m\n\u001b[0;32m-> 1427\u001b[0;31m             \u001b[0;32mif\u001b[0m   \u001b[0mmode\u001b[0m \u001b[0;34m==\u001b[0m \u001b[0;34m'r'\u001b[0m\u001b[0;34m:\u001b[0m \u001b[0mself\u001b[0m\u001b[0;34m.\u001b[0m\u001b[0m_open_read\u001b[0m\u001b[0;34m(\u001b[0m\u001b[0mf\u001b[0m\u001b[0;34m,\u001b[0m \u001b[0mallow_unindexed\u001b[0m\u001b[0;34m)\u001b[0m\u001b[0;34m\u001b[0m\u001b[0;34m\u001b[0m\u001b[0m\n\u001b[0m\u001b[1;32m   1428\u001b[0m             \u001b[0;32melif\u001b[0m \u001b[0mmode\u001b[0m \u001b[0;34m==\u001b[0m \u001b[0;34m'w'\u001b[0m\u001b[0;34m:\u001b[0m \u001b[0mself\u001b[0m\u001b[0;34m.\u001b[0m\u001b[0m_open_write\u001b[0m\u001b[0;34m(\u001b[0m\u001b[0mf\u001b[0m\u001b[0;34m)\u001b[0m\u001b[0;34m\u001b[0m\u001b[0;34m\u001b[0m\u001b[0m\n\u001b[1;32m   1429\u001b[0m             \u001b[0;32melif\u001b[0m \u001b[0mmode\u001b[0m \u001b[0;34m==\u001b[0m \u001b[0;34m'a'\u001b[0m\u001b[0;34m:\u001b[0m \u001b[0mself\u001b[0m\u001b[0;34m.\u001b[0m\u001b[0m_open_append\u001b[0m\u001b[0;34m(\u001b[0m\u001b[0mf\u001b[0m\u001b[0;34m,\u001b[0m \u001b[0mallow_unindexed\u001b[0m\u001b[0;34m)\u001b[0m\u001b[0;34m\u001b[0m\u001b[0;34m\u001b[0m\u001b[0m\n",
      "\u001b[0;32m/opt/ros/melodic/lib/python2.7/dist-packages/rosbag/bag.py\u001b[0m in \u001b[0;36m_open_read\u001b[0;34m(self, f, allow_unindexed)\u001b[0m\n\u001b[1;32m   1461\u001b[0m         \u001b[0;32mtry\u001b[0m\u001b[0;34m:\u001b[0m\u001b[0;34m\u001b[0m\u001b[0;34m\u001b[0m\u001b[0m\n\u001b[1;32m   1462\u001b[0m             \u001b[0mself\u001b[0m\u001b[0;34m.\u001b[0m\u001b[0m_create_reader\u001b[0m\u001b[0;34m(\u001b[0m\u001b[0;34m)\u001b[0m\u001b[0;34m\u001b[0m\u001b[0;34m\u001b[0m\u001b[0m\n\u001b[0;32m-> 1463\u001b[0;31m             \u001b[0mself\u001b[0m\u001b[0;34m.\u001b[0m\u001b[0m_reader\u001b[0m\u001b[0;34m.\u001b[0m\u001b[0mstart_reading\u001b[0m\u001b[0;34m(\u001b[0m\u001b[0;34m)\u001b[0m\u001b[0;34m\u001b[0m\u001b[0;34m\u001b[0m\u001b[0m\n\u001b[0m\u001b[1;32m   1464\u001b[0m         \u001b[0;32mexcept\u001b[0m \u001b[0mROSBagUnindexedException\u001b[0m \u001b[0;32mas\u001b[0m \u001b[0mex\u001b[0m\u001b[0;34m:\u001b[0m\u001b[0;34m\u001b[0m\u001b[0;34m\u001b[0m\u001b[0m\n\u001b[1;32m   1465\u001b[0m             \u001b[0;32mif\u001b[0m \u001b[0;32mnot\u001b[0m \u001b[0mallow_unindexed\u001b[0m\u001b[0;34m:\u001b[0m\u001b[0;34m\u001b[0m\u001b[0;34m\u001b[0m\u001b[0m\n",
      "\u001b[0;32m/opt/ros/melodic/lib/python2.7/dist-packages/rosbag/bag.py\u001b[0m in \u001b[0;36mstart_reading\u001b[0;34m(self)\u001b[0m\n\u001b[1;32m   2672\u001b[0m             \u001b[0;32mraise\u001b[0m\u001b[0;34m\u001b[0m\u001b[0;34m\u001b[0m\u001b[0m\n\u001b[1;32m   2673\u001b[0m         \u001b[0;32mexcept\u001b[0m \u001b[0mException\u001b[0m \u001b[0;32mas\u001b[0m \u001b[0mex\u001b[0m\u001b[0;34m:\u001b[0m\u001b[0;34m\u001b[0m\u001b[0;34m\u001b[0m\u001b[0m\n\u001b[0;32m-> 2674\u001b[0;31m             \u001b[0;32mraise\u001b[0m \u001b[0mROSBagUnindexedException\u001b[0m\u001b[0;34m(\u001b[0m\u001b[0;34m)\u001b[0m\u001b[0;34m\u001b[0m\u001b[0;34m\u001b[0m\u001b[0m\n\u001b[0m\u001b[1;32m   2675\u001b[0m \u001b[0;34m\u001b[0m\u001b[0m\n\u001b[1;32m   2676\u001b[0m     \u001b[0;32mdef\u001b[0m \u001b[0m_read_connection_index_records\u001b[0m\u001b[0;34m(\u001b[0m\u001b[0mself\u001b[0m\u001b[0;34m)\u001b[0m\u001b[0;34m:\u001b[0m\u001b[0;34m\u001b[0m\u001b[0;34m\u001b[0m\u001b[0m\n",
      "\u001b[0;31mROSBagUnindexedException\u001b[0m: Unindexed bag"
     ]
    }
   ],
   "source": [
    "dset_list = []\n",
    "window_size = 10\n",
    "for i in range(num_dset):\n",
    "    id_str = str(i)\n",
    "    bag_path_names = base_dset_dir + xprmnt_dir + '/' + id_str + '_*.bag' \n",
    "    bag_path = glob.glob(bag_path_names)[0]\n",
    "\n",
    "    pos_path_name = base_dset_dir + xprmnt_dir + '/' + id_str + '_pos.npy'\n",
    "    proj_ori_path = base_dset_dir + xprmnt_dir + '/' + id_str + '_proj_ori.npy'\n",
    "    pos_ori_path_list = [pos_path_name, proj_ori_path]\n",
    "    \n",
    "    dset_list.append(ScrewingDataset(bag_path, pos_ori_path_list, window_size))\n",
    "    \n",
    "concat_dset = ConcatDataset(dset_list)"
   ]
  },
  {
   "cell_type": "code",
   "execution_count": 49,
   "id": "e567b16a-c2e2-488e-9f6a-a7963680cce2",
   "metadata": {},
   "outputs": [
    {
     "ename": "NameError",
     "evalue": "name 'concat_dset' is not defined",
     "output_type": "error",
     "traceback": [
      "\u001b[0;31m---------------------------------------------------------------------------\u001b[0m",
      "\u001b[0;31mNameError\u001b[0m                                 Traceback (most recent call last)",
      "\u001b[0;32m/tmp/ipykernel_24983/2746370278.py\u001b[0m in \u001b[0;36m<module>\u001b[0;34m\u001b[0m\n\u001b[0;32m----> 1\u001b[0;31m \u001b[0mlength\u001b[0m \u001b[0;34m=\u001b[0m \u001b[0mlen\u001b[0m\u001b[0;34m(\u001b[0m\u001b[0mconcat_dset\u001b[0m\u001b[0;34m)\u001b[0m\u001b[0;34m\u001b[0m\u001b[0;34m\u001b[0m\u001b[0m\n\u001b[0m\u001b[1;32m      2\u001b[0m \u001b[0mprint\u001b[0m\u001b[0;34m(\u001b[0m\u001b[0mlength\u001b[0m\u001b[0;34m)\u001b[0m\u001b[0;34m\u001b[0m\u001b[0;34m\u001b[0m\u001b[0m\n\u001b[1;32m      3\u001b[0m \u001b[0mtrain_size\u001b[0m \u001b[0;34m=\u001b[0m \u001b[0mint\u001b[0m\u001b[0;34m(\u001b[0m\u001b[0;36m.7\u001b[0m\u001b[0;34m*\u001b[0m\u001b[0mlength\u001b[0m\u001b[0;34m)\u001b[0m\u001b[0;34m\u001b[0m\u001b[0;34m\u001b[0m\u001b[0m\n\u001b[1;32m      4\u001b[0m \u001b[0;31m# train_size\u001b[0m\u001b[0;34m\u001b[0m\u001b[0;34m\u001b[0m\u001b[0;34m\u001b[0m\u001b[0m\n\u001b[1;32m      5\u001b[0m \u001b[0mtrain_dset\u001b[0m\u001b[0;34m,\u001b[0m \u001b[0mtest_dset\u001b[0m \u001b[0;34m=\u001b[0m \u001b[0mtorch\u001b[0m\u001b[0;34m.\u001b[0m\u001b[0mutils\u001b[0m\u001b[0;34m.\u001b[0m\u001b[0mdata\u001b[0m\u001b[0;34m.\u001b[0m\u001b[0mrandom_split\u001b[0m\u001b[0;34m(\u001b[0m\u001b[0mconcat_dset\u001b[0m\u001b[0;34m,\u001b[0m \u001b[0;34m[\u001b[0m\u001b[0mtrain_size\u001b[0m\u001b[0;34m,\u001b[0m\u001b[0mlength\u001b[0m \u001b[0;34m-\u001b[0m \u001b[0mtrain_size\u001b[0m\u001b[0;34m]\u001b[0m\u001b[0;34m)\u001b[0m\u001b[0;34m\u001b[0m\u001b[0;34m\u001b[0m\u001b[0m\n",
      "\u001b[0;31mNameError\u001b[0m: name 'concat_dset' is not defined"
     ]
    }
   ],
   "source": [
    "length = len(concat_dset)\n",
    "print(length)\n",
    "train_size = int(.7*length)\n",
    "# train_size\n",
    "train_dset, test_dset = torch.utils.data.random_split(concat_dset, [train_size,length - train_size])"
   ]
  },
  {
   "cell_type": "code",
   "execution_count": 9,
   "id": "649a2772-b317-420a-8b0c-4ea3db8ec075",
   "metadata": {},
   "outputs": [],
   "source": [
    "batch_size = 2\n",
    "\n",
    "train_lder = DataLoader(\n",
    "    train_dset,\n",
    "    shuffle=True,\n",
    "    num_workers=2,\n",
    "    batch_size=batch_size\n",
    ")\n",
    "\n",
    "test_lder = DataLoader(\n",
    "    test_dset,\n",
    "    shuffle=True,\n",
    "    num_workers=2,\n",
    "    batch_size=batch_size\n",
    ")"
   ]
  },
  {
   "cell_type": "code",
   "execution_count": 10,
   "id": "895938f5-66c7-4e0e-83d5-cfdee06c66cd",
   "metadata": {},
   "outputs": [],
   "source": [
    "input_dim = 19\n",
    "hidden_dim = input_dim*2\n",
    "num_layers = int(window_size*0.5)\n",
    "output_dim = 5\n",
    "model = ScrewingModel(input_dim, hidden_dim, num_layers, output_dim)"
   ]
  },
  {
   "cell_type": "code",
   "execution_count": 135,
   "id": "b97e11f2-d39f-4426-9265-9c43dbfd4a39",
   "metadata": {},
   "outputs": [
    {
     "name": "stdout",
     "output_type": "stream",
     "text": [
      "torch.Size([2, 5])\n"
     ]
    }
   ],
   "source": [
    "print(out.size())\n",
    "# print(out[:, -1, :].size())"
   ]
  },
  {
   "cell_type": "code",
   "execution_count": 138,
   "id": "5c62e147-d1a2-4e71-b9f3-08ef7eb91acc",
   "metadata": {},
   "outputs": [],
   "source": [
    "def training_loop(net,optimizer,criterion,num_epochs,train_loader):\n",
    "  overall_step = 0\n",
    "  counter = 0\n",
    "  loss_plot = []\n",
    "  for epoch in range(num_epochs):\n",
    "    for i,(x,y) in enumerate(train_loader):\n",
    "      counter += 1\n",
    "      optimizer.zero_grad()\n",
    "\n",
    "      x = x.to(device)\n",
    "      y = y.float().to(device)\n",
    "\n",
    "      # Forward propogation happens here\n",
    "      outputs = net(x).to(device) \n",
    "\n",
    "      # The following lines of code is where the magic happens!\n",
    "      # The partial derivatives of the Loss with respect to the \n",
    "      # weights are calculated and the weights are updated\n",
    "      loss = criterion(outputs,y)  \n",
    "      loss.backward()\n",
    "      optimizer.step()\n",
    "      loss_plot.append(loss.item())\n",
    "\n",
    "      # if (counter+1) % 10 == 0: \n",
    "          # argmax = torch.max(outputs, 1)[1]\n",
    "          # accuracy = (y == argmax.squeeze()).float().mean()\n",
    "\n",
    "#           info = {'loss' : loss.item()}\n",
    "#           for tag, value in info.items():\n",
    "#               logger.scalar_summary(tag, value, overall_step)\n",
    "#           overall_step+=1\n",
    "\n",
    "#           print ('Epoch : %d/%d, Iter : %d/%d,  Loss: %.4f' \n",
    "#                  %(epoch+1, num_epochs, i+1, len(train_loader), loss.item()))\n",
    "  return net #, loss_plot"
   ]
  },
  {
   "cell_type": "code",
   "execution_count": 86,
   "id": "8a3f0881-48cb-44a4-96f6-dd79e70f8e6d",
   "metadata": {},
   "outputs": [],
   "source": [
    "num_epochs = 10\n",
    "learning_rate = 0.003\n",
    "\n",
    "# net = My_Neural_Network()\n",
    "# net = net.to(device)\n",
    "\n",
    "# model = ScrewingModel(input_dim, hidden_dim, ouput_dim) # no specification of \n",
    "model = model.to(device)\n",
    "loss_function = nn.MSELoss(reduction='sum') #alternatively mean the squared error or none ...\n",
    "optimizer = optim.Adam(model.parameters(), lr=learning_rate)\n",
    "\n",
    "\n"
   ]
  },
  {
   "cell_type": "code",
   "execution_count": 128,
   "id": "8ae244e2-ee66-4447-9035-dd9e86bfab16",
   "metadata": {},
   "outputs": [
    {
     "name": "stdout",
     "output_type": "stream",
     "text": [
      "tensor([[0.1445, 0.2926, 0.6247, 0.4714, 0.8621],\n",
      "        [0.2108, 0.5757, 0.1864, 0.8268, 0.0952]])\n",
      "tensor([1.2092, 1.0504])\n",
      "tensor([[1.],\n",
      "        [1.]])\n",
      "tensor([[0.1544, 0.5451, 0.5257, 0.3115, 0.9082],\n",
      "        [0.5123, 0.3980, 0.7262, 0.3125, 0.9060]])\n"
     ]
    },
    {
     "data": {
      "text/plain": [
       "tensor([[0.9360, 0.5368, 1.1885, 1.5134, 0.9492],\n",
       "        [0.4116, 1.4465, 0.2567, 2.6455, 0.1051]])"
      ]
     },
     "execution_count": 128,
     "metadata": {},
     "output_type": "execute_result"
    }
   ],
   "source": [
    "a = torch.rand(2,5)\n",
    "print(a)\n",
    "print(torch.norm(a, 2, 1))\n",
    "ones = torch.ones(2, 1)\n",
    "print(ones)\n",
    "torch.cat((a, ones), 1)\n",
    "\n",
    "b  = torch.rand(2,5)\n",
    "print(b)\n",
    "a / b\n",
    "# a.size()[0]\n",
    "# len(a)"
   ]
  },
  {
   "cell_type": "code",
   "execution_count": 98,
   "id": "cf19125f-3697-4150-a4c6-95fb810f7642",
   "metadata": {},
   "outputs": [],
   "source": [
    "def weighted_MSE_loss(input, target, ori_weight):\n",
    "    SE_out = (input - target)**2\n",
    "    # print(torch.mean(SE_out))\n",
    "    # print(torch.sum(SE_out)/torch.numel(input))\n",
    "    pos_SE = SE_out[:, :3]\n",
    "    ori_SE = SE_out[:, 3:]\n",
    "    # print((torch.sum(pos_SE) + torch.sum(ori_SE))/torch.numel(input))\n",
    "    weighted_mean = (torch.sum(pos_SE) + ori_weight*torch.sum(ori_SE))/len(SE_out)\n",
    "    # weighted_sum = torch.sum(pos_SE) + ori_weight*torch.sum(ori_SE)\n",
    "    return weighted_mean\n",
    "    # return torch.sum(torch.mul(weighting, MSE_out))\n",
    "    # return torch.sum(MSE_out)"
   ]
  },
  {
   "cell_type": "code",
   "execution_count": 151,
   "id": "8648e3d2-b3d5-4d82-8f09-ad97ca7cebc5",
   "metadata": {},
   "outputs": [
    {
     "name": "stdout",
     "output_type": "stream",
     "text": [
      "tensor([[ 0.0254, -0.1393,  0.1538, -0.1316,  0.0819],\n",
      "        [ 0.0253, -0.1405,  0.1519, -0.1305,  0.0827]], device='cuda:0')\n",
      "tensor([[ 0.5526, -0.0125,  0.5124, -0.0292, -0.0315],\n",
      "        [ 0.5529, -0.0057,  0.5125, -0.0111, -0.0009]], device='cuda:0')\n",
      "tensor([0.0959, 0.0940], device='cuda:0')\n",
      "torch.Size([2])\n",
      "tensor([0.2603, 0.2594], device='cuda:0')\n",
      "torch.Size([2])\n",
      "tensor([0.0959, 0.0940, 0.2603, 0.2594], device='cuda:0')\n",
      "tensor([0.0959, 0.0940, 0.2603, 0.2594], device='cuda:0')\n"
     ]
    }
   ],
   "source": [
    "with torch.no_grad():\n",
    "    for i, (x, y) in enumerate(train_lder):\n",
    "        # print(x.size())\n",
    "        x = x.to(device)\n",
    "        out = model(x)\n",
    "        print(out)\n",
    "        y = y.float().to(device)\n",
    "        print(y)\n",
    "        # print(torch.bmm(out, y)) \n",
    "        bvv = torch.bmm(out.view(2, 1, 5), y.view(2, 5, 1)).reshape(-1)\n",
    "        print(bvv)\n",
    "        print(bvv.size())\n",
    "        # print((out**2).sum(1, keepdim=True))\n",
    "        SE_out = torch.sqrt((out**2).sum(1, keepdim=False))\n",
    "        print(SE_out)\n",
    "        print(SE_out.size())\n",
    "        # print(out.size()[1])\n",
    "        \n",
    "        print(torch.cat((bvv, SE_out)))\n",
    "        \n",
    "        list_batch = [bvv, SE_out]\n",
    "        list_batch = torch.cat(list_batch)\n",
    "        print(list_batch)\n",
    "        \n",
    "        ori_weighting = 5 # relative to position weighting\n",
    "        MSE = nn.MSELoss(reduction='none')\n",
    "        # print(weighted_MSE_loss(out, y, ori_weighting))\n",
    "        break\n",
    "    "
   ]
  },
  {
   "cell_type": "code",
   "execution_count": null,
   "id": "5311922a-bc81-4d52-95bb-5cd3781d1833",
   "metadata": {},
   "outputs": [],
   "source": [
    "trained_model = training_loop(model,optimizer,loss_function,num_epochs,train_lder)\n"
   ]
  },
  {
   "cell_type": "code",
   "execution_count": 155,
   "id": "0e1b0f86-52a4-44a9-a753-84fa94bb5565",
   "metadata": {},
   "outputs": [
    {
     "name": "stdout",
     "output_type": "stream",
     "text": [
      "tensor(0.0587, device='cuda:0', dtype=torch.float64)\n",
      "tensor([[ 0.5505, -0.0080,  0.5124, -0.0217, -0.0615],\n",
      "        [ 0.5471,  0.0051,  0.5139, -0.0379,  0.0237]], device='cuda:0')\n",
      "tensor([[ 0.5764, -0.0043,  0.5101,  0.2047,  0.0008],\n",
      "        [ 0.5393,  0.0024,  0.5119, -0.0801,  0.0556]], device='cuda:0',\n",
      "       dtype=torch.float64)\n"
     ]
    }
   ],
   "source": [
    "with torch.no_grad():\n",
    "    for i, (x, y) in enumerate(train_lder):\n",
    "        # print(x.size())\n",
    "        x = x.to(device)\n",
    "        out = trained_model(x)\n",
    "        y = y.to(device)\n",
    "        # out = out.to(device)\n",
    "        print(loss_function(out, y))\n",
    "        print(out)\n",
    "        print(y)\n",
    "        break"
   ]
  },
  {
   "cell_type": "code",
   "execution_count": 158,
   "id": "c305a7b3-db99-4552-ace8-699bfab3e8fd",
   "metadata": {},
   "outputs": [
    {
     "data": {
      "text/plain": [
       "tensor([[ 0.5591, -0.0023,  0.5127,  0.0754, -0.0207],\n",
       "        [ 0.5488,  0.0055,  0.5150, -0.0272,  0.0273]], device='cuda:0')"
      ]
     },
     "execution_count": 158,
     "metadata": {},
     "output_type": "execute_result"
    }
   ],
   "source": [
    "out"
   ]
  },
  {
   "cell_type": "code",
   "execution_count": 179,
   "id": "bd92f0bb-c606-44ea-a3ca-fda7b15644af",
   "metadata": {},
   "outputs": [],
   "source": [
    "# model_save_dir = os.getcwd()\n",
    "model_save_dir = '../../models'\n",
    "model_name = time.strftime(\"/model_%Y-%m-%d_%H-%M-%S.pt\")\n",
    "# model_name = '/test_model.pt'\n",
    "torch.save(trained_model.state_dict(), model_save_dir + model_name)"
   ]
  },
  {
   "cell_type": "code",
   "execution_count": 178,
   "id": "914555ba-43e3-4587-9cd3-bfac0229caaf",
   "metadata": {},
   "outputs": [],
   "source": [
    "torch.save(trained_model.state_dict(), model_save_dir + model_name)\n"
   ]
  },
  {
   "cell_type": "code",
   "execution_count": 173,
   "id": "e325534f-94dc-47d6-8f2e-dec801114b62",
   "metadata": {},
   "outputs": [
    {
     "data": {
      "text/plain": [
       "ScrewingModel(\n",
       "  (lstm): LSTM(19, 38, num_layers=5, batch_first=True)\n",
       "  (hidden2out): Linear(in_features=38, out_features=5, bias=True)\n",
       ")"
      ]
     },
     "execution_count": 173,
     "metadata": {},
     "output_type": "execute_result"
    }
   ],
   "source": [
    "load_model = ScrewingModel(input_dim, hidden_dim, num_layers, output_dim)\n",
    "load_model.load_state_dict(torch.load(model_save_dir + model_name))\n",
    "load_model.eval()"
   ]
  }
 ],
 "metadata": {
  "kernelspec": {
   "display_name": "Python 3 (ipykernel)",
   "language": "python",
   "name": "python3"
  },
  "language_info": {
   "codemirror_mode": {
    "name": "ipython",
    "version": 3
   },
   "file_extension": ".py",
   "mimetype": "text/x-python",
   "name": "python",
   "nbconvert_exporter": "python",
   "pygments_lexer": "ipython3",
   "version": "3.7.11"
  }
 },
 "nbformat": 4,
 "nbformat_minor": 5
}
