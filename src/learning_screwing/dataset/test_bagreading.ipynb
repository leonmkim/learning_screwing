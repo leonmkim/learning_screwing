{
 "cells": [
  {
   "cell_type": "code",
   "execution_count": 1,
   "id": "79c5766b-1a19-44e6-9ec4-1e23e080e10a",
   "metadata": {},
   "outputs": [],
   "source": [
    "%load_ext autoreload\n",
    "%autoreload 2"
   ]
  },
  {
   "cell_type": "code",
   "execution_count": 28,
   "id": "309f03dd-93ce-4a8f-b3d6-bc2ad2aa0c19",
   "metadata": {},
   "outputs": [],
   "source": [
    "import json\n",
    "import os\n",
    "import time\n",
    "import glob\n",
    "import numpy as np\n",
    "from bagpy import bagreader\n",
    "import rosbag\n",
    "import pandas as pd\n",
    "import wandb"
   ]
  },
  {
   "cell_type": "code",
   "execution_count": 29,
   "id": "8df60b1b-b921-4fbf-98de-d39af2901a23",
   "metadata": {},
   "outputs": [],
   "source": [
    "from screwing_dataset import ScrewingDataset\n",
    "from screwing_model import ScrewingModel\n",
    "from screwing_model_seq import ScrewingModelSeq\n"
   ]
  },
  {
   "cell_type": "code",
   "execution_count": 30,
   "id": "867cd8fb-4a5a-4d32-b8ae-94656ecb14b2",
   "metadata": {},
   "outputs": [],
   "source": [
    "from torch.utils.data import DataLoader, ConcatDataset\n",
    "import torch\n",
    "import torch.nn as nn\n",
    "import torch.optim as optim"
   ]
  },
  {
   "cell_type": "code",
   "execution_count": 31,
   "id": "f659e114-2bc4-4f87-8fb6-aeed3616c126",
   "metadata": {},
   "outputs": [],
   "source": [
    "from training import batched_pos_err, batched_ori_err, weighted_MSE_loss\n"
   ]
  },
  {
   "cell_type": "code",
   "execution_count": 32,
   "id": "0acc08d8-9d14-4426-8468-6e3bcf49de9d",
   "metadata": {},
   "outputs": [
    {
     "data": {
      "text/plain": [
       "device(type='cuda')"
      ]
     },
     "execution_count": 32,
     "metadata": {},
     "output_type": "execute_result"
    }
   ],
   "source": [
    "device = torch.device(\"cuda\" if torch.cuda.is_available() else \"cpu\")\n",
    "device"
   ]
  },
  {
   "cell_type": "code",
   "execution_count": 74,
   "id": "b784c94e-4c36-498e-abd2-1f37c57a46de",
   "metadata": {},
   "outputs": [],
   "source": [
    "\n",
    "batch_size = 1 # Powers of two\n",
    "window_size = 30\n",
    "\n",
    "input_dim = 19\n",
    "hidden_dim = 10\n",
    "num_layers = 3\n",
    "output_dim = 5\n",
    "\n",
    "#TODO change arbitrary weight\n",
    "ori_rel_weight = 2\n",
    "\n",
    "num_eps = 2\n",
    "\n",
    "num_epochs = 200\n",
    "learning_rate = 0.003\n",
    "\n",
    "base_dset_dir = os.path.expanduser('~/datasets/screwing/')\n",
    "# xprmnt_dir = time.strftime(\"/2022-03-10_23-17-39\")\n",
    "# xprmnt_dir = time.strftime(\"2022-03-11_17-07-13/\")\n",
    "xprmnt_dir = time.strftime(\"2022-04-04_14-40-37/\")\n",
    "# xprmnt_dir = time.strftime(\"2022-04-14_15-49-01/\")\n",
    "\n",
    "\n",
    "log_interval = 1 \n",
    "\n",
    "train_ratio = .75\n",
    "\n",
    "\n",
    "model_save_dir = '../../../models/'\n",
    "model_name = 'model_2022-03-27_17-18-31.pt'"
   ]
  },
  {
   "cell_type": "code",
   "execution_count": 75,
   "id": "ffc0a475-6c40-47a3-af01-ac50ef13a498",
   "metadata": {},
   "outputs": [
    {
     "name": "stdout",
     "output_type": "stream",
     "text": [
      "0\n",
      "[INFO]  Data folder /home/serialexperimentsleon/datasets/screwing/2022-04-04_14-40-37/0_2022-04-04-14-40-42 already exists. Not creating.\n"
     ]
    }
   ],
   "source": [
    "bag_path_names = base_dset_dir + xprmnt_dir + '*.bag' \n",
    "\n",
    "bag_path_list = glob.glob(bag_path_names)\n",
    "total_num_eps = len(bag_path_list)\n",
    "# wandb.config.update({'total_dset_eps_num': num_eps})\n",
    "\n",
    "num_workers = 8\n",
    "\n",
    "\n",
    "dset_list = []\n",
    "# for i in range(num_eps): # for testing a small number of data\n",
    "# for i in range(total_num_eps):\n",
    "i = 0\n",
    "id_str = str(i)\n",
    "print(i)\n",
    "bag_path_names = base_dset_dir + xprmnt_dir + id_str + '_*.bag' \n",
    "\n",
    "try:\n",
    "    bag_path = glob.glob(bag_path_names)[0]\n",
    "except:\n",
    "    print('bag with index ' + str(i) + ' was not found! Skipping to next index')\n",
    "    \n",
    "bread = bagreader(bag_path)\n"
   ]
  },
  {
   "cell_type": "code",
   "execution_count": 76,
   "id": "9533e070-a739-42a9-8bad-f01ecf24035e",
   "metadata": {},
   "outputs": [],
   "source": [
    "main_topic = '/panda/franka_state_controller_custom/franka_states'"
   ]
  },
  {
   "cell_type": "code",
   "execution_count": 77,
   "id": "a4b99c87-eac0-4731-902f-b74245ee0892",
   "metadata": {},
   "outputs": [
    {
     "name": "stdout",
     "output_type": "stream",
     "text": [
      "dict_keys(['/panda/franka_state_controller_custom/franka_states', '/panda/franka_state_controller_custom/joint_states', '/screwing_primitives/pose_desired', '/tf', '/tf_static'])\n",
      "                                              Topics  \\\n",
      "0  /panda/franka_state_controller_custom/franka_s...   \n",
      "1  /panda/franka_state_controller_custom/joint_st...   \n",
      "2                  /screwing_primitives/pose_desired   \n",
      "3                                                /tf   \n",
      "4                                         /tf_static   \n",
      "\n",
      "                           Types  Message Count    Frequency  \n",
      "0  franka_msgs/FrankaStateCustom            247    22.732616  \n",
      "1         sensor_msgs/JointState            248    29.510959  \n",
      "2      geometry_msgs/PoseStamped           2111   250.092660  \n",
      "3             tf2_msgs/TFMessage            500    61.220884  \n",
      "4             tf2_msgs/TFMessage              3  1630.122037  \n"
     ]
    }
   ],
   "source": [
    "topics = bread.topics\n",
    "print(topics)\n",
    "table = bread.topic_table\n",
    "print(table)"
   ]
  },
  {
   "cell_type": "code",
   "execution_count": 78,
   "id": "b6968752-b377-4cf2-b026-6c2a27ec1e73",
   "metadata": {},
   "outputs": [],
   "source": [
    "topic_csv_dict = {}"
   ]
  },
  {
   "cell_type": "code",
   "execution_count": 79,
   "id": "4836b580-4fb8-4b73-a996-98adc6f0bede",
   "metadata": {},
   "outputs": [
    {
     "name": "stdout",
     "output_type": "stream",
     "text": [
      "No data on the topic:/clock\n"
     ]
    }
   ],
   "source": [
    "topic = '/clock'\n",
    "topic_csv_dict[topic] = bread.message_by_topic(topic)\n"
   ]
  },
  {
   "cell_type": "code",
   "execution_count": 80,
   "id": "d63251a5-bcbd-4dc3-ac85-ddb516a5a5a2",
   "metadata": {},
   "outputs": [
    {
     "name": "stdout",
     "output_type": "stream",
     "text": [
      "247\n"
     ]
    }
   ],
   "source": [
    "main_num_msgs = table[table['Topics'] == main_topic]['Message Count']\n",
    "type(main_num_msgs)\n",
    "print(main_num_msgs.item())\n",
    "# main_num_msgs = table[table['Topics'] == main_topic]['Message Count'][0]\n"
   ]
  }
 ],
 "metadata": {
  "kernelspec": {
   "display_name": "Python 3 (ipykernel)",
   "language": "python",
   "name": "python3"
  },
  "language_info": {
   "codemirror_mode": {
    "name": "ipython",
    "version": 3
   },
   "file_extension": ".py",
   "mimetype": "text/x-python",
   "name": "python",
   "nbconvert_exporter": "python",
   "pygments_lexer": "ipython3",
   "version": "3.7.11"
  }
 },
 "nbformat": 4,
 "nbformat_minor": 5
}
