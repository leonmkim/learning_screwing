{
 "cells": [
  {
   "cell_type": "code",
   "execution_count": 1,
   "id": "79c5766b-1a19-44e6-9ec4-1e23e080e10a",
   "metadata": {},
   "outputs": [],
   "source": [
    "%load_ext autoreload\n",
    "%autoreload 2"
   ]
  },
  {
   "cell_type": "code",
   "execution_count": 2,
   "id": "309f03dd-93ce-4a8f-b3d6-bc2ad2aa0c19",
   "metadata": {},
   "outputs": [
    {
     "name": "stderr",
     "output_type": "stream",
     "text": [
      "Failed to load Python extension for LZ4 support. LZ4 compression will not be available.\n"
     ]
    }
   ],
   "source": [
    "import json\n",
    "import os\n",
    "import time\n",
    "import glob\n",
    "import numpy as np\n",
    "from bagpy import bagreader\n",
    "import rosbag\n",
    "import pandas as pd\n",
    "import wandb"
   ]
  },
  {
   "cell_type": "code",
   "execution_count": 3,
   "id": "8df60b1b-b921-4fbf-98de-d39af2901a23",
   "metadata": {},
   "outputs": [],
   "source": [
    "from screwing_dataset import ScrewingDataset\n",
    "from screwing_model import ScrewingModel\n",
    "from screwing_model_seq import ScrewingModelSeq\n"
   ]
  },
  {
   "cell_type": "code",
   "execution_count": 4,
   "id": "867cd8fb-4a5a-4d32-b8ae-94656ecb14b2",
   "metadata": {},
   "outputs": [],
   "source": [
    "from torch.utils.data import DataLoader, ConcatDataset\n",
    "import torch\n",
    "import torch.nn as nn\n",
    "import torch.optim as optim"
   ]
  },
  {
   "cell_type": "code",
   "execution_count": 5,
   "id": "f659e114-2bc4-4f87-8fb6-aeed3616c126",
   "metadata": {},
   "outputs": [],
   "source": [
    "from training import batched_pos_err, batched_ori_err, weighted_MSE_loss\n"
   ]
  },
  {
   "cell_type": "code",
   "execution_count": 6,
   "id": "0acc08d8-9d14-4426-8468-6e3bcf49de9d",
   "metadata": {},
   "outputs": [
    {
     "data": {
      "text/plain": [
       "device(type='cuda')"
      ]
     },
     "execution_count": 6,
     "metadata": {},
     "output_type": "execute_result"
    }
   ],
   "source": [
    "device = torch.device(\"cuda\" if torch.cuda.is_available() else \"cpu\")\n",
    "device"
   ]
  },
  {
   "cell_type": "code",
   "execution_count": 8,
   "id": "b784c94e-4c36-498e-abd2-1f37c57a46de",
   "metadata": {},
   "outputs": [],
   "source": [
    "\n",
    "batch_size = 1 # Powers of two\n",
    "window_size = 30\n",
    "\n",
    "input_dim = 19\n",
    "hidden_dim = 10\n",
    "num_layers = 3\n",
    "output_dim = 5\n",
    "\n",
    "#TODO change arbitrary weight\n",
    "ori_rel_weight = 2\n",
    "\n",
    "num_eps = 2\n",
    "\n",
    "num_epochs = 200\n",
    "learning_rate = 0.003\n",
    "\n",
    "base_dset_dir = os.path.expanduser('~/datasets/screwing/')\n",
    "# xprmnt_dir = time.strftime(\"/2022-03-10_23-17-39\")\n",
    "# xprmnt_dir = time.strftime(\"2022-03-11_17-07-13/\")\n",
    "xprmnt_dir = time.strftime(\"2022-04-04_14-40-37/\")\n",
    "# xprmnt_dir = time.strftime(\"2022-04-14_15-49-01/\")\n",
    "\n",
    "\n",
    "log_interval = 1 \n",
    "\n",
    "train_ratio = .75\n",
    "\n",
    "\n",
    "model_save_dir = '../../../models/'\n",
    "model_name = 'model_2022-03-27_17-18-31.pt'"
   ]
  },
  {
   "cell_type": "code",
   "execution_count": 17,
   "id": "ffc0a475-6c40-47a3-af01-ac50ef13a498",
   "metadata": {},
   "outputs": [
    {
     "name": "stdout",
     "output_type": "stream",
     "text": [
      "0\n",
      "[INFO]  Data folder /home/serialexperimentsleon/datasets/screwing/2022-04-04_14-40-37/0_2022-04-04-14-40-42 already exists. Not creating.\n"
     ]
    }
   ],
   "source": [
    "bag_path_names = base_dset_dir + xprmnt_dir + '*.bag' \n",
    "\n",
    "bag_path_list = glob.glob(bag_path_names)\n",
    "total_num_eps = len(bag_path_list)\n",
    "# wandb.config.update({'total_dset_eps_num': num_eps})\n",
    "\n",
    "num_workers = 8\n",
    "\n",
    "dset_list = []\n",
    "# for i in range(num_eps): # for testing a small number of data\n",
    "# for i in range(total_num_eps):\n",
    "i = 0\n",
    "id_str = str(i)\n",
    "print(i)\n",
    "bag_path_names = base_dset_dir + xprmnt_dir + id_str + '_*.bag' \n",
    "\n",
    "try:\n",
    "    bag_path = glob.glob(bag_path_names)[0]\n",
    "except:\n",
    "    print('bag with index ' + str(i) + ' was not found! Skipping to next index')\n",
    "\n",
    "# dset_list = []\n",
    "# for i in train_bag_idxs: # for testing a small number of data\n",
    "# # for i in range(total_num_eps):\n",
    "#     id_str = str(i)\n",
    "#     print(i)\n",
    "#     bag_path_names = base_dset_dir + xprmnt_dir + id_str + '_*.bag' \n",
    "\n",
    "pos_path_name = base_dset_dir + xprmnt_dir + id_str + '_pos.npy'\n",
    "proj_ori_path = base_dset_dir + xprmnt_dir + id_str + '_proj_ori.npy'\n",
    "pos_ori_path_list = [pos_path_name, proj_ori_path]\n",
    "\n",
    "# print('about to load bag ' + str(i))\n",
    "    # print(len(dset_list[-1])) \n",
    "# train_dset = ConcatDataset(dset_list)\n",
    "    \n",
    "    \n",
    "bread = bagreader(bag_path)\n"
   ]
  },
  {
   "cell_type": "code",
   "execution_count": 20,
   "id": "e72260c0-7849-428d-a986-1759300b8bf3",
   "metadata": {},
   "outputs": [],
   "source": [
    "target = np.append(np.load(pos_ori_path_list[0]), np.load(pos_ori_path_list[1]))\n"
   ]
  },
  {
   "cell_type": "code",
   "execution_count": null,
   "id": "d8fd6c86-953f-4c5a-82f6-6aeee3cf70b3",
   "metadata": {},
   "outputs": [],
   "source": []
  },
  {
   "cell_type": "code",
   "execution_count": 21,
   "id": "9533e070-a739-42a9-8bad-f01ecf24035e",
   "metadata": {},
   "outputs": [],
   "source": [
    "main_topic = '/panda/franka_state_controller_custom/franka_states'"
   ]
  },
  {
   "cell_type": "code",
   "execution_count": 32,
   "id": "a4b99c87-eac0-4731-902f-b74245ee0892",
   "metadata": {},
   "outputs": [
    {
     "name": "stdout",
     "output_type": "stream",
     "text": [
      "dict_keys(['/panda/franka_state_controller_custom/franka_states', '/panda/franka_state_controller_custom/joint_states', '/screwing_primitives/pose_desired', '/tf', '/tf_static'])\n",
      "                                              Topics  \\\n",
      "0  /panda/franka_state_controller_custom/franka_s...   \n",
      "1  /panda/franka_state_controller_custom/joint_st...   \n",
      "2                  /screwing_primitives/pose_desired   \n",
      "3                                                /tf   \n",
      "4                                         /tf_static   \n",
      "\n",
      "                           Types  Message Count    Frequency  \n",
      "0  franka_msgs/FrankaStateCustom            247    22.732616  \n",
      "1         sensor_msgs/JointState            248    29.510959  \n",
      "2      geometry_msgs/PoseStamped           2111   250.092660  \n",
      "3             tf2_msgs/TFMessage            500    61.220884  \n",
      "4             tf2_msgs/TFMessage              3  1630.122037  \n"
     ]
    }
   ],
   "source": [
    "topics = bread.topics\n",
    "print(topics)\n",
    "table = bread.topic_table\n",
    "print(table)"
   ]
  },
  {
   "cell_type": "code",
   "execution_count": 23,
   "id": "b6968752-b377-4cf2-b026-6c2a27ec1e73",
   "metadata": {},
   "outputs": [],
   "source": [
    "topic_csv_dict = {}"
   ]
  },
  {
   "cell_type": "code",
   "execution_count": 24,
   "id": "4836b580-4fb8-4b73-a996-98adc6f0bede",
   "metadata": {},
   "outputs": [
    {
     "name": "stdout",
     "output_type": "stream",
     "text": [
      "No data on the topic:/clock\n"
     ]
    }
   ],
   "source": [
    "topic = '/clock'\n",
    "topic_csv_dict[topic] = bread.message_by_topic(topic)\n"
   ]
  },
  {
   "cell_type": "code",
   "execution_count": 31,
   "id": "d63251a5-bcbd-4dc3-ac85-ddb516a5a5a2",
   "metadata": {},
   "outputs": [
    {
     "name": "stdout",
     "output_type": "stream",
     "text": [
      "247\n"
     ]
    }
   ],
   "source": [
    "main_num_msgs = table[table['Topics'] == main_topic]['Message Count']\n",
    "type(main_num_msgs)\n",
    "print(main_num_msgs.item())\n",
    "# main_num_msgs = table[table['Topics'] == main_topic]['Message Count'][0]\n"
   ]
  },
  {
   "cell_type": "code",
   "execution_count": 35,
   "id": "e58deefd-f9e5-4a74-b712-f25e39fb2a0f",
   "metadata": {},
   "outputs": [],
   "source": [
    "\n",
    "pose_topics = []\n",
    "for i in range(16):\n",
    "    topic = 'O_T_EE_' + str(i)\n",
    "    pose_topics.append(topic)"
   ]
  },
  {
   "cell_type": "code",
   "execution_count": 36,
   "id": "e64754d6-f3c6-4fcc-895d-20e92a2c8040",
   "metadata": {},
   "outputs": [
    {
     "ename": "AttributeError",
     "evalue": "type object 'bagreader' has no attribute 'topics'",
     "output_type": "error",
     "traceback": [
      "\u001b[0;31m---------------------------------------------------------------------------\u001b[0m",
      "\u001b[0;31mAttributeError\u001b[0m                            Traceback (most recent call last)",
      "\u001b[0;32m/tmp/ipykernel_19266/3159599466.py\u001b[0m in \u001b[0;36m<module>\u001b[0;34m\u001b[0m\n\u001b[1;32m      1\u001b[0m \u001b[0mtopic_csv_dict\u001b[0m \u001b[0;34m=\u001b[0m \u001b[0;34m{\u001b[0m\u001b[0;34m}\u001b[0m\u001b[0;34m\u001b[0m\u001b[0;34m\u001b[0m\u001b[0m\n\u001b[0;32m----> 2\u001b[0;31m \u001b[0;32mfor\u001b[0m \u001b[0mtopic\u001b[0m \u001b[0;32min\u001b[0m \u001b[0mbagreader\u001b[0m\u001b[0;34m.\u001b[0m\u001b[0mtopics\u001b[0m\u001b[0;34m:\u001b[0m\u001b[0;34m\u001b[0m\u001b[0;34m\u001b[0m\u001b[0m\n\u001b[0m\u001b[1;32m      3\u001b[0m     \u001b[0;31m# print(topic)\u001b[0m\u001b[0;34m\u001b[0m\u001b[0;34m\u001b[0m\u001b[0;34m\u001b[0m\u001b[0m\n\u001b[1;32m      4\u001b[0m     \u001b[0;31m# self.topic_list.append(topic)\u001b[0m\u001b[0;34m\u001b[0m\u001b[0;34m\u001b[0m\u001b[0;34m\u001b[0m\u001b[0m\n\u001b[1;32m      5\u001b[0m     \u001b[0mtopic_csv_dict\u001b[0m\u001b[0;34m[\u001b[0m\u001b[0mtopic\u001b[0m\u001b[0;34m]\u001b[0m \u001b[0;34m=\u001b[0m \u001b[0mbagreader\u001b[0m\u001b[0;34m.\u001b[0m\u001b[0mmessage_by_topic\u001b[0m\u001b[0;34m(\u001b[0m\u001b[0mtopic\u001b[0m\u001b[0;34m)\u001b[0m\u001b[0;34m\u001b[0m\u001b[0;34m\u001b[0m\u001b[0m\n",
      "\u001b[0;31mAttributeError\u001b[0m: type object 'bagreader' has no attribute 'topics'"
     ]
    }
   ],
   "source": [
    "topic_csv_dict = {}\n",
    "for topic in bagreader.topics:\n",
    "    # print(topic)\n",
    "    # self.topic_list.append(topic)\n",
    "    topic_csv_dict[topic] = bagreader.message_by_topic(topic)"
   ]
  },
  {
   "cell_type": "code",
   "execution_count": 34,
   "id": "ad1a207d-90b2-400b-8389-7641d3a77471",
   "metadata": {},
   "outputs": [
    {
     "ename": "KeyError",
     "evalue": "'/panda/franka_state_controller_custom/franka_states'",
     "output_type": "error",
     "traceback": [
      "\u001b[0;31m---------------------------------------------------------------------------\u001b[0m",
      "\u001b[0;31mKeyError\u001b[0m                                  Traceback (most recent call last)",
      "\u001b[0;32m/tmp/ipykernel_19266/3911618305.py\u001b[0m in \u001b[0;36m<module>\u001b[0;34m\u001b[0m\n\u001b[0;32m----> 1\u001b[0;31m \u001b[0mmain_topic_csv\u001b[0m \u001b[0;34m=\u001b[0m \u001b[0mtopic_csv_dict\u001b[0m\u001b[0;34m[\u001b[0m\u001b[0mmain_topic\u001b[0m\u001b[0;34m]\u001b[0m\u001b[0;34m\u001b[0m\u001b[0;34m\u001b[0m\u001b[0m\n\u001b[0m\u001b[1;32m      2\u001b[0m \u001b[0mdf\u001b[0m \u001b[0;34m=\u001b[0m \u001b[0mpd\u001b[0m\u001b[0;34m.\u001b[0m\u001b[0mread_csv\u001b[0m\u001b[0;34m(\u001b[0m\u001b[0mmain_topic_csv\u001b[0m\u001b[0;34m)\u001b[0m\u001b[0;34m\u001b[0m\u001b[0;34m\u001b[0m\u001b[0m\n",
      "\u001b[0;31mKeyError\u001b[0m: '/panda/franka_state_controller_custom/franka_states'"
     ]
    }
   ],
   "source": [
    "main_topic_csv = topic_csv_dict[main_topic] \n",
    "df = pd.read_csv(main_topic_csv)"
   ]
  }
 ],
 "metadata": {
  "kernelspec": {
   "display_name": "Python 3.7.11 64-bit ('pytorch')",
   "language": "python",
   "name": "python3"
  },
  "language_info": {
   "codemirror_mode": {
    "name": "ipython",
    "version": 3
   },
   "file_extension": ".py",
   "mimetype": "text/x-python",
   "name": "python",
   "nbconvert_exporter": "python",
   "pygments_lexer": "ipython3",
   "version": "3.7.11"
  },
  "vscode": {
   "interpreter": {
    "hash": "c7876b00db1bc6b9a8e936ddc37455fd39ec693a903b797168d600e2f9d9ed83"
   }
  }
 },
 "nbformat": 4,
 "nbformat_minor": 5
}
