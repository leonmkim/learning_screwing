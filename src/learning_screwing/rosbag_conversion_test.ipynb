{
 "cells": [
  {
   "cell_type": "code",
   "execution_count": 33,
   "metadata": {},
   "outputs": [],
   "source": [
    "\n",
    "import rosbag_pandas.src.rosbag_pandas\n",
    "import torch\n",
    "import rosbag\n",
    "import yaml\n",
    "import os\n",
    "import numpy as np\n",
    "import torch\n",
    "import pandas as pd\n",
    "\n",
    "import skimage\n",
    "import PIL\n",
    "import torchvision\n",
    "import cv2\n",
    "\n",
    "import math\n",
    "\n",
    "import glob\n",
    "\n",
    "from matplotlib import pyplot as plt\n",
    "import natsort\n",
    "\n",
    "from scipy.spatial.transform import Rotation as R\n",
    "\n",
    "%matplotlib inline\n"
   ]
  },
  {
   "cell_type": "code",
   "execution_count": 34,
   "metadata": {},
   "outputs": [],
   "source": [
    "bag_path_root = '~/datasets/contact'\n",
    "bag_path_root = os.path.expanduser(bag_path_root)\n",
    "bag_path_root\n",
    "bag_name = 'contact_dset_test_2022-07-13-14-17-57.bag'\n",
    "bag_path = os.path.join(bag_path_root, bag_name)\n",
    "os.path.exists(bag_path)\n",
    "if not os.path.exists(bag_path):\n",
    "    os.mkdir(bag_path)"
   ]
  },
  {
   "cell_type": "code",
   "execution_count": 82,
   "metadata": {},
   "outputs": [
    {
     "name": "stdout",
     "output_type": "stream",
     "text": [
      "dict_keys(['path', 'version', 'duration', 'start', 'end', 'size', 'messages', 'indexed', 'compression', 'types', 'topics'])\n",
      "{'topic': '/camera/color/image_raw/compressed', 'type': 'sensor_msgs/CompressedImage', 'messages': 311, 'frequency': 33.3333}\n",
      "{'topic': '/camera/depth/image_raw/compressed', 'type': 'sensor_msgs/CompressedImage', 'messages': 311, 'frequency': 33.3333}\n",
      "{'topic': '/clock', 'type': 'rosgraph_msgs/Clock', 'messages': 10389, 'frequency': 1000.0}\n",
      "{'topic': '/contact_data_throttled', 'type': 'gazebo_msgs/ContactState', 'messages': 754, 'frequency': 83.3333}\n",
      "{'topic': '/contact_time_throttled', 'type': 'std_msgs/Time', 'messages': 754, 'frequency': 83.3333}\n",
      "{'topic': '/panda/franka_state_controller_custom/franka_states', 'type': 'franka_msgs/FrankaStateCustom', 'messages': 305, 'frequency': 29.4118}\n",
      "305\n",
      "{'topic': '/panda/franka_state_controller_custom/joint_states', 'type': 'sensor_msgs/JointState', 'messages': 305, 'frequency': 29.4118}\n",
      "{'topic': '/panda/hybrid_impedance_wrench_controller/pose_wrench_desired', 'type': 'screwing_franka_controllers/PoseWrenchStiff', 'messages': 519, 'frequency': 55.5556}\n",
      "{'topic': '/tf', 'type': 'tf2_msgs/TFMessage', 'messages': 617, 'connections': 2, 'frequency': 58.8235}\n",
      "{'topic': '/tf_static', 'type': 'tf2_msgs/TFMessage', 'messages': 2, 'connections': 2}\n"
     ]
    },
    {
     "data": {
      "text/plain": [
       "0.01200000480000192"
      ]
     },
     "execution_count": 82,
     "metadata": {},
     "output_type": "execute_result"
    }
   ],
   "source": [
    "bag = rosbag.Bag(bag_path, \"r\")\n",
    "info_dict = yaml.safe_load(bag._get_yaml_info())\n",
    "\n",
    "print(info_dict.keys())\n",
    "info_dict['topics']\n",
    "for topic_dict in info_dict['topics']:\n",
    "    print(topic_dict)\n",
    "    if 'contact_data' in topic_dict['topic']:\n",
    "        contact_freq = topic_dict['frequency']\n",
    "    elif 'franka_states' in topic_dict['topic']:\n",
    "        print(topic_dict['messages'])\n",
    "\n",
    "# contact_freq\n",
    "contact_dt = 1./contact_freq\n",
    "contact_dt\n"
   ]
  },
  {
   "cell_type": "code",
   "execution_count": 36,
   "metadata": {},
   "outputs": [],
   "source": [
    "im_type = 'depth'\n",
    "im_path = os.path.join(bag_path.strip('.bag'), im_type)\n",
    "assert os.path.exists(im_path), 'im_path does not exist!!'\n"
   ]
  },
  {
   "cell_type": "code",
   "execution_count": 37,
   "metadata": {},
   "outputs": [],
   "source": [
    "depth_times = np.load(os.path.join(im_path, 'timestamps.npy'), allow_pickle=True)"
   ]
  },
  {
   "cell_type": "code",
   "execution_count": 38,
   "metadata": {},
   "outputs": [
    {
     "data": {
      "text/plain": [
       "array([5408.17, 5408.21, 5408.24, 5408.27])"
      ]
     },
     "execution_count": 38,
     "metadata": {},
     "output_type": "execute_result"
    }
   ],
   "source": [
    "depth_times[slice(1,5)]"
   ]
  },
  {
   "cell_type": "code",
   "execution_count": 39,
   "metadata": {},
   "outputs": [],
   "source": [
    "def get_stupid_idxs(idx, window, centered = False): \n",
    "    # 0 centering meaning the window is centered at the idx\n",
    "    # neg is left shift, pos is right shift\n",
    "    if centered:\n",
    "        d = window//2\n",
    "        l = idx - d\n",
    "        r = idx + d \n",
    "        if window%2 == 0: #tries to center but with right side one element shorter \n",
    "            r -= 1\n",
    "        return slice(l, r + 1)\n",
    "    else: \n",
    "        return slice(idx - window + 1, idx + 1)\n"
   ]
  },
  {
   "cell_type": "code",
   "execution_count": 40,
   "metadata": {},
   "outputs": [],
   "source": [
    "def get_idxs(idx, window): \n",
    "    # 0 centering meaning the window is centered at the idx\n",
    "    # neg is left shift, pos is right shift\n",
    "    if centered:\n",
    "        d = window//2\n",
    "        l = idx - d\n",
    "        r = idx + d \n",
    "        if window%2 == 0: #tries to center but with right side one element shorter \n",
    "            r -= 1\n",
    "        return slice(l, r + 1)\n",
    "    else: \n",
    "        return slice(idx - window + 1, idx + 1)"
   ]
  },
  {
   "cell_type": "code",
   "execution_count": 41,
   "metadata": {},
   "outputs": [],
   "source": [
    "def get_extr_idxs(array, window, centered = False):\n",
    "    d = window//2\n",
    "    length = len(array)\n",
    "    if centered:\n",
    "        # idx >= window//2\n",
    "        l = d\n",
    "        if window%2 == 0:\n",
    "            r = length - d\n",
    "        else: \n",
    "            r = length - d - 1\n",
    "    else:\n",
    "        r = length - 1\n",
    "        l = window - 1\n",
    "\n",
    "    # return r - l + 1\n",
    "    return (l ,r)"
   ]
  },
  {
   "cell_type": "code",
   "execution_count": 42,
   "metadata": {},
   "outputs": [],
   "source": [
    "im_paths = natsort.natsorted(glob.glob(os.path.join(im_path, '*.png')))\n",
    "# im_paths"
   ]
  },
  {
   "cell_type": "code",
   "execution_count": 43,
   "metadata": {},
   "outputs": [],
   "source": [
    "im_transform = torchvision.transforms.ToTensor() "
   ]
  },
  {
   "cell_type": "code",
   "execution_count": 44,
   "metadata": {},
   "outputs": [
    {
     "data": {
      "text/plain": [
       "torch.Size([10, 1, 720, 1280])"
      ]
     },
     "execution_count": 44,
     "metadata": {},
     "output_type": "execute_result"
    }
   ],
   "source": [
    "images = skimage.io.imread_collection(im_paths[0:10])\n",
    "resize = ((images[0].shape[1]), (images[0].shape[0]))\n",
    "# resized_im = \n",
    "# ims_tensor = torch.stack([im_transform(img) for img in images])\n",
    "ims_tensor = torch.stack([im_transform(cv2.resize(img, resize, interpolation=cv2.INTER_CUBIC)) for img in images])\n",
    "ims_tensor.shape"
   ]
  },
  {
   "cell_type": "code",
   "execution_count": 45,
   "metadata": {},
   "outputs": [
    {
     "data": {
      "image/png": "[encoded data removed]",
      "text/plain": [
       "<Figure size 432x288 with 2 Axes>"
      ]
     },
     "metadata": {
      "needs_background": "light"
     },
     "output_type": "display_data"
    }
   ],
   "source": [
    "# plt.imshow(ims_tensor[0, :].permute(1, 2, 0))\n",
    "plt.imshow(images[0])\n",
    "plt.colorbar() \n",
    "plt.savefig(os.path.join(bag_path.strip('.bag'), 'orig_plt_fig.png'))"
   ]
  },
  {
   "cell_type": "code",
   "execution_count": 46,
   "metadata": {},
   "outputs": [
    {
     "data": {
      "text/plain": [
       "True"
      ]
     },
     "execution_count": 46,
     "metadata": {},
     "output_type": "execute_result"
    },
    {
     "data": {
      "image/png": "[encoded data removed]",
      "text/plain": [
       "<Figure size 432x288 with 2 Axes>"
      ]
     },
     "metadata": {
      "needs_background": "light"
     },
     "output_type": "display_data"
    }
   ],
   "source": [
    "resize = ((images[0].shape[1]//8)*3, (images[0].shape[0]//8)*3)\n",
    "resized_im = cv2.resize(images[0], resize, interpolation=cv2.INTER_LANCZOS4)\n",
    "plt.imshow(resized_im)\n",
    "plt.colorbar() \n",
    "\n",
    "cv2.imwrite(os.path.join(bag_path.strip('.bag'), 'lanczos.png'), cv2.applyColorMap(resized_im, cv2.COLORMAP_TURBO))\n",
    "\n"
   ]
  },
  {
   "cell_type": "code",
   "execution_count": 47,
   "metadata": {},
   "outputs": [],
   "source": [
    "contact_df = rosbag_pandas.bag_to_dataframe(bag_path, include=['/contact_data_throttled'])\n",
    "contact_df.to_pickle(os.path.join(bag_path.strip('.bag'), 'contact_df.pkl'))"
   ]
  },
  {
   "cell_type": "code",
   "execution_count": 48,
   "metadata": {},
   "outputs": [
    {
     "data": {
      "text/html": [
       "<div>\n",
       "<style scoped>\n",
       "    .dataframe tbody tr th:only-of-type {\n",
       "        vertical-align: middle;\n",
       "    }\n",
       "\n",
       "    .dataframe tbody tr th {\n",
       "        vertical-align: top;\n",
       "    }\n",
       "\n",
       "    .dataframe thead th {\n",
       "        text-align: right;\n",
       "    }\n",
       "</style>\n",
       "<table border=\"1\" class=\"dataframe\">\n",
       "  <thead>\n",
       "    <tr style=\"text-align: right;\">\n",
       "      <th></th>\n",
       "      <th>/contact_data_throttled/collision1_name</th>\n",
       "      <th>/contact_data_throttled/collision2_name</th>\n",
       "      <th>/contact_data_throttled/contact_normals/0/x</th>\n",
       "      <th>/contact_data_throttled/contact_normals/0/y</th>\n",
       "      <th>/contact_data_throttled/contact_normals/0/z</th>\n",
       "      <th>/contact_data_throttled/contact_positions/0/x</th>\n",
       "      <th>/contact_data_throttled/contact_positions/0/y</th>\n",
       "      <th>/contact_data_throttled/contact_positions/0/z</th>\n",
       "      <th>/contact_data_throttled/depths/0</th>\n",
       "      <th>/contact_data_throttled/info</th>\n",
       "      <th>...</th>\n",
       "      <th>/contact_data_throttled/total_wrench/force/z</th>\n",
       "      <th>/contact_data_throttled/total_wrench/torque/x</th>\n",
       "      <th>/contact_data_throttled/total_wrench/torque/y</th>\n",
       "      <th>/contact_data_throttled/total_wrench/torque/z</th>\n",
       "      <th>/contact_data_throttled/wrenches/0/force/x</th>\n",
       "      <th>/contact_data_throttled/wrenches/0/force/y</th>\n",
       "      <th>/contact_data_throttled/wrenches/0/force/z</th>\n",
       "      <th>/contact_data_throttled/wrenches/0/torque/x</th>\n",
       "      <th>/contact_data_throttled/wrenches/0/torque/y</th>\n",
       "      <th>/contact_data_throttled/wrenches/0/torque/z</th>\n",
       "    </tr>\n",
       "  </thead>\n",
       "  <tbody>\n",
       "    <tr>\n",
       "      <th>5416.827</th>\n",
       "      <td>panda::panda_link7::panda_link7_fixed_joint_lu...</td>\n",
       "      <td>ground_plane::link::collision</td>\n",
       "      <td>0.0</td>\n",
       "      <td>0.0</td>\n",
       "      <td>1.0</td>\n",
       "      <td>0.580020</td>\n",
       "      <td>-0.158311</td>\n",
       "      <td>-4.698688e-07</td>\n",
       "      <td>4.698688e-07</td>\n",
       "      <td></td>\n",
       "      <td>...</td>\n",
       "      <td>0.0</td>\n",
       "      <td>0.0</td>\n",
       "      <td>0.0</td>\n",
       "      <td>0.0</td>\n",
       "      <td>-1.225231</td>\n",
       "      <td>-0.384048</td>\n",
       "      <td>-6.939906</td>\n",
       "      <td>-0.004666</td>\n",
       "      <td>-0.255625</td>\n",
       "      <td>0.014970</td>\n",
       "    </tr>\n",
       "    <tr>\n",
       "      <th>5416.839</th>\n",
       "      <td>panda::panda_link7::panda_link7_fixed_joint_lu...</td>\n",
       "      <td>ground_plane::link::collision</td>\n",
       "      <td>0.0</td>\n",
       "      <td>0.0</td>\n",
       "      <td>1.0</td>\n",
       "      <td>0.579179</td>\n",
       "      <td>-0.156607</td>\n",
       "      <td>-3.578719e-07</td>\n",
       "      <td>3.578719e-07</td>\n",
       "      <td></td>\n",
       "      <td>...</td>\n",
       "      <td>0.0</td>\n",
       "      <td>0.0</td>\n",
       "      <td>0.0</td>\n",
       "      <td>0.0</td>\n",
       "      <td>-0.934704</td>\n",
       "      <td>-0.333967</td>\n",
       "      <td>-5.264105</td>\n",
       "      <td>0.002187</td>\n",
       "      <td>-0.194576</td>\n",
       "      <td>0.011956</td>\n",
       "    </tr>\n",
       "    <tr>\n",
       "      <th>5416.851</th>\n",
       "      <td>panda::panda_link7::panda_link7_fixed_joint_lu...</td>\n",
       "      <td>ground_plane::link::collision</td>\n",
       "      <td>0.0</td>\n",
       "      <td>0.0</td>\n",
       "      <td>1.0</td>\n",
       "      <td>0.578229</td>\n",
       "      <td>-0.154964</td>\n",
       "      <td>-2.703976e-07</td>\n",
       "      <td>2.703976e-07</td>\n",
       "      <td></td>\n",
       "      <td>...</td>\n",
       "      <td>0.0</td>\n",
       "      <td>0.0</td>\n",
       "      <td>0.0</td>\n",
       "      <td>0.0</td>\n",
       "      <td>-0.703064</td>\n",
       "      <td>-0.282144</td>\n",
       "      <td>-3.941462</td>\n",
       "      <td>0.005938</td>\n",
       "      <td>-0.146080</td>\n",
       "      <td>0.009398</td>\n",
       "    </tr>\n",
       "    <tr>\n",
       "      <th>5416.863</th>\n",
       "      <td>panda::panda_link7::panda_link7_fixed_joint_lu...</td>\n",
       "      <td>ground_plane::link::collision</td>\n",
       "      <td>0.0</td>\n",
       "      <td>0.0</td>\n",
       "      <td>1.0</td>\n",
       "      <td>0.577170</td>\n",
       "      <td>-0.153407</td>\n",
       "      <td>-1.738955e-07</td>\n",
       "      <td>1.738955e-07</td>\n",
       "      <td></td>\n",
       "      <td>...</td>\n",
       "      <td>0.0</td>\n",
       "      <td>0.0</td>\n",
       "      <td>0.0</td>\n",
       "      <td>0.0</td>\n",
       "      <td>-0.441486</td>\n",
       "      <td>-0.196754</td>\n",
       "      <td>-2.466550</td>\n",
       "      <td>0.006414</td>\n",
       "      <td>-0.091590</td>\n",
       "      <td>0.006158</td>\n",
       "    </tr>\n",
       "    <tr>\n",
       "      <th>5416.875</th>\n",
       "      <td>panda::panda_link7::panda_link7_fixed_joint_lu...</td>\n",
       "      <td>ground_plane::link::collision</td>\n",
       "      <td>0.0</td>\n",
       "      <td>0.0</td>\n",
       "      <td>1.0</td>\n",
       "      <td>0.576007</td>\n",
       "      <td>-0.151951</td>\n",
       "      <td>-7.433589e-08</td>\n",
       "      <td>7.433589e-08</td>\n",
       "      <td></td>\n",
       "      <td>...</td>\n",
       "      <td>0.0</td>\n",
       "      <td>0.0</td>\n",
       "      <td>0.0</td>\n",
       "      <td>0.0</td>\n",
       "      <td>-0.166067</td>\n",
       "      <td>-0.081439</td>\n",
       "      <td>-0.925751</td>\n",
       "      <td>0.003419</td>\n",
       "      <td>-0.034413</td>\n",
       "      <td>0.002414</td>\n",
       "    </tr>\n",
       "  </tbody>\n",
       "</table>\n",
       "<p>5 rows × 22 columns</p>\n",
       "</div>"
      ],
      "text/plain": [
       "                    /contact_data_throttled/collision1_name  \\\n",
       "5416.827  panda::panda_link7::panda_link7_fixed_joint_lu...   \n",
       "5416.839  panda::panda_link7::panda_link7_fixed_joint_lu...   \n",
       "5416.851  panda::panda_link7::panda_link7_fixed_joint_lu...   \n",
       "5416.863  panda::panda_link7::panda_link7_fixed_joint_lu...   \n",
       "5416.875  panda::panda_link7::panda_link7_fixed_joint_lu...   \n",
       "\n",
       "         /contact_data_throttled/collision2_name  \\\n",
       "5416.827           ground_plane::link::collision   \n",
       "5416.839           ground_plane::link::collision   \n",
       "5416.851           ground_plane::link::collision   \n",
       "5416.863           ground_plane::link::collision   \n",
       "5416.875           ground_plane::link::collision   \n",
       "\n",
       "          /contact_data_throttled/contact_normals/0/x  \\\n",
       "5416.827                                          0.0   \n",
       "5416.839                                          0.0   \n",
       "5416.851                                          0.0   \n",
       "5416.863                                          0.0   \n",
       "5416.875                                          0.0   \n",
       "\n",
       "          /contact_data_throttled/contact_normals/0/y  \\\n",
       "5416.827                                          0.0   \n",
       "5416.839                                          0.0   \n",
       "5416.851                                          0.0   \n",
       "5416.863                                          0.0   \n",
       "5416.875                                          0.0   \n",
       "\n",
       "          /contact_data_throttled/contact_normals/0/z  \\\n",
       "5416.827                                          1.0   \n",
       "5416.839                                          1.0   \n",
       "5416.851                                          1.0   \n",
       "5416.863                                          1.0   \n",
       "5416.875                                          1.0   \n",
       "\n",
       "          /contact_data_throttled/contact_positions/0/x  \\\n",
       "5416.827                                       0.580020   \n",
       "5416.839                                       0.579179   \n",
       "5416.851                                       0.578229   \n",
       "5416.863                                       0.577170   \n",
       "5416.875                                       0.576007   \n",
       "\n",
       "          /contact_data_throttled/contact_positions/0/y  \\\n",
       "5416.827                                      -0.158311   \n",
       "5416.839                                      -0.156607   \n",
       "5416.851                                      -0.154964   \n",
       "5416.863                                      -0.153407   \n",
       "5416.875                                      -0.151951   \n",
       "\n",
       "          /contact_data_throttled/contact_positions/0/z  \\\n",
       "5416.827                                  -4.698688e-07   \n",
       "5416.839                                  -3.578719e-07   \n",
       "5416.851                                  -2.703976e-07   \n",
       "5416.863                                  -1.738955e-07   \n",
       "5416.875                                  -7.433589e-08   \n",
       "\n",
       "          /contact_data_throttled/depths/0 /contact_data_throttled/info  ...  \\\n",
       "5416.827                      4.698688e-07                               ...   \n",
       "5416.839                      3.578719e-07                               ...   \n",
       "5416.851                      2.703976e-07                               ...   \n",
       "5416.863                      1.738955e-07                               ...   \n",
       "5416.875                      7.433589e-08                               ...   \n",
       "\n",
       "          /contact_data_throttled/total_wrench/force/z  \\\n",
       "5416.827                                           0.0   \n",
       "5416.839                                           0.0   \n",
       "5416.851                                           0.0   \n",
       "5416.863                                           0.0   \n",
       "5416.875                                           0.0   \n",
       "\n",
       "          /contact_data_throttled/total_wrench/torque/x  \\\n",
       "5416.827                                            0.0   \n",
       "5416.839                                            0.0   \n",
       "5416.851                                            0.0   \n",
       "5416.863                                            0.0   \n",
       "5416.875                                            0.0   \n",
       "\n",
       "          /contact_data_throttled/total_wrench/torque/y  \\\n",
       "5416.827                                            0.0   \n",
       "5416.839                                            0.0   \n",
       "5416.851                                            0.0   \n",
       "5416.863                                            0.0   \n",
       "5416.875                                            0.0   \n",
       "\n",
       "          /contact_data_throttled/total_wrench/torque/z  \\\n",
       "5416.827                                            0.0   \n",
       "5416.839                                            0.0   \n",
       "5416.851                                            0.0   \n",
       "5416.863                                            0.0   \n",
       "5416.875                                            0.0   \n",
       "\n",
       "          /contact_data_throttled/wrenches/0/force/x  \\\n",
       "5416.827                                   -1.225231   \n",
       "5416.839                                   -0.934704   \n",
       "5416.851                                   -0.703064   \n",
       "5416.863                                   -0.441486   \n",
       "5416.875                                   -0.166067   \n",
       "\n",
       "          /contact_data_throttled/wrenches/0/force/y  \\\n",
       "5416.827                                   -0.384048   \n",
       "5416.839                                   -0.333967   \n",
       "5416.851                                   -0.282144   \n",
       "5416.863                                   -0.196754   \n",
       "5416.875                                   -0.081439   \n",
       "\n",
       "          /contact_data_throttled/wrenches/0/force/z  \\\n",
       "5416.827                                   -6.939906   \n",
       "5416.839                                   -5.264105   \n",
       "5416.851                                   -3.941462   \n",
       "5416.863                                   -2.466550   \n",
       "5416.875                                   -0.925751   \n",
       "\n",
       "          /contact_data_throttled/wrenches/0/torque/x  \\\n",
       "5416.827                                    -0.004666   \n",
       "5416.839                                     0.002187   \n",
       "5416.851                                     0.005938   \n",
       "5416.863                                     0.006414   \n",
       "5416.875                                     0.003419   \n",
       "\n",
       "          /contact_data_throttled/wrenches/0/torque/y  \\\n",
       "5416.827                                    -0.255625   \n",
       "5416.839                                    -0.194576   \n",
       "5416.851                                    -0.146080   \n",
       "5416.863                                    -0.091590   \n",
       "5416.875                                    -0.034413   \n",
       "\n",
       "          /contact_data_throttled/wrenches/0/torque/z  \n",
       "5416.827                                     0.014970  \n",
       "5416.839                                     0.011956  \n",
       "5416.851                                     0.009398  \n",
       "5416.863                                     0.006158  \n",
       "5416.875                                     0.002414  \n",
       "\n",
       "[5 rows x 22 columns]"
      ]
     },
     "execution_count": 48,
     "metadata": {},
     "output_type": "execute_result"
    }
   ],
   "source": [
    "contact_df.tail()"
   ]
  },
  {
   "cell_type": "code",
   "execution_count": 49,
   "metadata": {},
   "outputs": [],
   "source": [
    "proprio_df = rosbag_pandas.bag_to_dataframe(bag_path, include=['/panda/franka_state_controller_custom/franka_states'])\n",
    "proprio_df.to_pickle(os.path.join(bag_path.strip('.bag'), 'proprio_df.pkl'))\n"
   ]
  },
  {
   "cell_type": "code",
   "execution_count": 50,
   "metadata": {},
   "outputs": [],
   "source": [
    "base_topic = '/panda/franka_state_controller_custom/franka_states/'"
   ]
  },
  {
   "cell_type": "code",
   "execution_count": 90,
   "metadata": {},
   "outputs": [],
   "source": [
    "pose_topics = []\n",
    "for i in range(16):\n",
    "    topic = base_topic + 'O_T_EE/' + str(i)\n",
    "    pose_topics.append(topic)\n",
    "# pose_topics\n",
    "# '/panda/franka_state_controller_custom/franka_states/EE_T_K/0'\n"
   ]
  },
  {
   "cell_type": "code",
   "execution_count": 94,
   "metadata": {},
   "outputs": [],
   "source": [
    "wrench_topics = []\n",
    "for i in range(6):\n",
    "    topic = base_topic + 'K_F_ext_hat_K/' + str(i)\n",
    "    wrench_topics.append(topic)"
   ]
  },
  {
   "cell_type": "code",
   "execution_count": 52,
   "metadata": {},
   "outputs": [
    {
     "data": {
      "text/plain": [
       "tensor([[-0.1198,  0.8841, -0.4517,  0.0000,  0.9829,  0.1697,  0.0714,  0.0000,\n",
       "          0.1398, -0.4355, -0.8893,  0.0000,  0.5187, -0.1770,  0.1051,  1.0000],\n",
       "        [-0.1513,  0.8800, -0.4503,  0.0000,  0.9773,  0.2014,  0.0652,  0.0000,\n",
       "          0.1480, -0.4303, -0.8905,  0.0000,  0.5205, -0.1856,  0.1052,  1.0000],\n",
       "        [-0.1863,  0.8741, -0.4485,  0.0000,  0.9697,  0.2370,  0.0591,  0.0000,\n",
       "          0.1580, -0.4239, -0.8918,  0.0000,  0.5232, -0.1946,  0.1052,  1.0000],\n",
       "        [-0.2237,  0.8664, -0.4464,  0.0000,  0.9599,  0.2752,  0.0531,  0.0000,\n",
       "          0.1688, -0.4166, -0.8933,  0.0000,  0.5263, -0.2041,  0.1053,  1.0000],\n",
       "        [-0.2617,  0.8569, -0.4442,  0.0000,  0.9483,  0.3139,  0.0469,  0.0000,\n",
       "          0.1796, -0.4090, -0.8947,  0.0000,  0.5295, -0.2144,  0.1054,  1.0000]],\n",
       "       dtype=torch.float64)"
      ]
     },
     "execution_count": 52,
     "metadata": {},
     "output_type": "execute_result"
    }
   ],
   "source": [
    "torch.tensor(proprio_df.head()[pose_topics].values) # time x feature array"
   ]
  },
  {
   "cell_type": "code",
   "execution_count": 53,
   "metadata": {},
   "outputs": [],
   "source": [
    "# torch.tensor(proprio_df.iloc[idx][pose_topics].values) # time x feature array"
   ]
  },
  {
   "cell_type": "code",
   "execution_count": 54,
   "metadata": {},
   "outputs": [],
   "source": [
    "# np.array(proprio_df.iloc[idx][pose_topics].values) # time x feature array\n"
   ]
  },
  {
   "cell_type": "code",
   "execution_count": 55,
   "metadata": {},
   "outputs": [
    {
     "data": {
      "text/html": [
       "<div>\n",
       "<style scoped>\n",
       "    .dataframe tbody tr th:only-of-type {\n",
       "        vertical-align: middle;\n",
       "    }\n",
       "\n",
       "    .dataframe tbody tr th {\n",
       "        vertical-align: top;\n",
       "    }\n",
       "\n",
       "    .dataframe thead th {\n",
       "        text-align: right;\n",
       "    }\n",
       "</style>\n",
       "<table border=\"1\" class=\"dataframe\">\n",
       "  <thead>\n",
       "    <tr style=\"text-align: right;\">\n",
       "      <th></th>\n",
       "      <th>/contact_data_throttled/collision1_name</th>\n",
       "      <th>/contact_data_throttled/collision2_name</th>\n",
       "      <th>/contact_data_throttled/contact_normals/0/x</th>\n",
       "      <th>/contact_data_throttled/contact_normals/0/y</th>\n",
       "      <th>/contact_data_throttled/contact_normals/0/z</th>\n",
       "      <th>/contact_data_throttled/contact_positions/0/x</th>\n",
       "      <th>/contact_data_throttled/contact_positions/0/y</th>\n",
       "      <th>/contact_data_throttled/contact_positions/0/z</th>\n",
       "      <th>/contact_data_throttled/depths/0</th>\n",
       "      <th>/contact_data_throttled/info</th>\n",
       "      <th>...</th>\n",
       "      <th>/contact_data_throttled/total_wrench/force/z</th>\n",
       "      <th>/contact_data_throttled/total_wrench/torque/x</th>\n",
       "      <th>/contact_data_throttled/total_wrench/torque/y</th>\n",
       "      <th>/contact_data_throttled/total_wrench/torque/z</th>\n",
       "      <th>/contact_data_throttled/wrenches/0/force/x</th>\n",
       "      <th>/contact_data_throttled/wrenches/0/force/y</th>\n",
       "      <th>/contact_data_throttled/wrenches/0/force/z</th>\n",
       "      <th>/contact_data_throttled/wrenches/0/torque/x</th>\n",
       "      <th>/contact_data_throttled/wrenches/0/torque/y</th>\n",
       "      <th>/contact_data_throttled/wrenches/0/torque/z</th>\n",
       "    </tr>\n",
       "  </thead>\n",
       "  <tbody>\n",
       "    <tr>\n",
       "      <th>5408.127</th>\n",
       "      <td>panda::panda_link7::panda_link7_fixed_joint_lu...</td>\n",
       "      <td>ground_plane::link::collision</td>\n",
       "      <td>0.0</td>\n",
       "      <td>0.0</td>\n",
       "      <td>1.0</td>\n",
       "      <td>0.525100</td>\n",
       "      <td>-0.194739</td>\n",
       "      <td>-2.850095e-09</td>\n",
       "      <td>2.850095e-09</td>\n",
       "      <td></td>\n",
       "      <td>...</td>\n",
       "      <td>0.0</td>\n",
       "      <td>0.0</td>\n",
       "      <td>0.0</td>\n",
       "      <td>0.0</td>\n",
       "      <td>-1.572832</td>\n",
       "      <td>-0.561263</td>\n",
       "      <td>-6.156867</td>\n",
       "      <td>0.077129</td>\n",
       "      <td>-0.093051</td>\n",
       "      <td>-0.011221</td>\n",
       "    </tr>\n",
       "    <tr>\n",
       "      <th>5408.138</th>\n",
       "      <td>panda::panda_link7::panda_link7_fixed_joint_lu...</td>\n",
       "      <td>ground_plane::link::collision</td>\n",
       "      <td>0.0</td>\n",
       "      <td>0.0</td>\n",
       "      <td>1.0</td>\n",
       "      <td>0.525511</td>\n",
       "      <td>-0.197243</td>\n",
       "      <td>-3.048600e-09</td>\n",
       "      <td>3.048600e-09</td>\n",
       "      <td></td>\n",
       "      <td>...</td>\n",
       "      <td>0.0</td>\n",
       "      <td>0.0</td>\n",
       "      <td>0.0</td>\n",
       "      <td>0.0</td>\n",
       "      <td>-1.447309</td>\n",
       "      <td>-0.521211</td>\n",
       "      <td>-5.714382</td>\n",
       "      <td>0.070955</td>\n",
       "      <td>-0.084947</td>\n",
       "      <td>-0.010223</td>\n",
       "    </tr>\n",
       "    <tr>\n",
       "      <th>5408.149</th>\n",
       "      <td>panda::panda_link7::panda_link7_fixed_joint_lu...</td>\n",
       "      <td>ground_plane::link::collision</td>\n",
       "      <td>0.0</td>\n",
       "      <td>0.0</td>\n",
       "      <td>1.0</td>\n",
       "      <td>0.526002</td>\n",
       "      <td>-0.199800</td>\n",
       "      <td>-3.274787e-09</td>\n",
       "      <td>3.274787e-09</td>\n",
       "      <td></td>\n",
       "      <td>...</td>\n",
       "      <td>0.0</td>\n",
       "      <td>0.0</td>\n",
       "      <td>0.0</td>\n",
       "      <td>0.0</td>\n",
       "      <td>-1.336133</td>\n",
       "      <td>-0.485193</td>\n",
       "      <td>-5.322442</td>\n",
       "      <td>0.065438</td>\n",
       "      <td>-0.077775</td>\n",
       "      <td>-0.009338</td>\n",
       "    </tr>\n",
       "    <tr>\n",
       "      <th>5408.160</th>\n",
       "      <td>panda::panda_link7::panda_link7_fixed_joint_lu...</td>\n",
       "      <td>ground_plane::link::collision</td>\n",
       "      <td>0.0</td>\n",
       "      <td>0.0</td>\n",
       "      <td>1.0</td>\n",
       "      <td>0.526589</td>\n",
       "      <td>-0.202410</td>\n",
       "      <td>-3.536743e-09</td>\n",
       "      <td>3.536743e-09</td>\n",
       "      <td></td>\n",
       "      <td>...</td>\n",
       "      <td>0.0</td>\n",
       "      <td>0.0</td>\n",
       "      <td>0.0</td>\n",
       "      <td>0.0</td>\n",
       "      <td>-1.238070</td>\n",
       "      <td>-0.452725</td>\n",
       "      <td>-4.976875</td>\n",
       "      <td>0.060502</td>\n",
       "      <td>-0.071443</td>\n",
       "      <td>-0.008552</td>\n",
       "    </tr>\n",
       "    <tr>\n",
       "      <th>5408.171</th>\n",
       "      <td>panda::panda_link7::panda_link7_fixed_joint_lu...</td>\n",
       "      <td>ground_plane::link::collision</td>\n",
       "      <td>0.0</td>\n",
       "      <td>0.0</td>\n",
       "      <td>1.0</td>\n",
       "      <td>0.527278</td>\n",
       "      <td>-0.205070</td>\n",
       "      <td>-3.799855e-09</td>\n",
       "      <td>3.799855e-09</td>\n",
       "      <td></td>\n",
       "      <td>...</td>\n",
       "      <td>0.0</td>\n",
       "      <td>0.0</td>\n",
       "      <td>0.0</td>\n",
       "      <td>0.0</td>\n",
       "      <td>-1.150325</td>\n",
       "      <td>-0.422979</td>\n",
       "      <td>-4.667774</td>\n",
       "      <td>0.056018</td>\n",
       "      <td>-0.065774</td>\n",
       "      <td>-0.007845</td>\n",
       "    </tr>\n",
       "  </tbody>\n",
       "</table>\n",
       "<p>5 rows × 22 columns</p>\n",
       "</div>"
      ],
      "text/plain": [
       "                    /contact_data_throttled/collision1_name  \\\n",
       "5408.127  panda::panda_link7::panda_link7_fixed_joint_lu...   \n",
       "5408.138  panda::panda_link7::panda_link7_fixed_joint_lu...   \n",
       "5408.149  panda::panda_link7::panda_link7_fixed_joint_lu...   \n",
       "5408.160  panda::panda_link7::panda_link7_fixed_joint_lu...   \n",
       "5408.171  panda::panda_link7::panda_link7_fixed_joint_lu...   \n",
       "\n",
       "         /contact_data_throttled/collision2_name  \\\n",
       "5408.127           ground_plane::link::collision   \n",
       "5408.138           ground_plane::link::collision   \n",
       "5408.149           ground_plane::link::collision   \n",
       "5408.160           ground_plane::link::collision   \n",
       "5408.171           ground_plane::link::collision   \n",
       "\n",
       "          /contact_data_throttled/contact_normals/0/x  \\\n",
       "5408.127                                          0.0   \n",
       "5408.138                                          0.0   \n",
       "5408.149                                          0.0   \n",
       "5408.160                                          0.0   \n",
       "5408.171                                          0.0   \n",
       "\n",
       "          /contact_data_throttled/contact_normals/0/y  \\\n",
       "5408.127                                          0.0   \n",
       "5408.138                                          0.0   \n",
       "5408.149                                          0.0   \n",
       "5408.160                                          0.0   \n",
       "5408.171                                          0.0   \n",
       "\n",
       "          /contact_data_throttled/contact_normals/0/z  \\\n",
       "5408.127                                          1.0   \n",
       "5408.138                                          1.0   \n",
       "5408.149                                          1.0   \n",
       "5408.160                                          1.0   \n",
       "5408.171                                          1.0   \n",
       "\n",
       "          /contact_data_throttled/contact_positions/0/x  \\\n",
       "5408.127                                       0.525100   \n",
       "5408.138                                       0.525511   \n",
       "5408.149                                       0.526002   \n",
       "5408.160                                       0.526589   \n",
       "5408.171                                       0.527278   \n",
       "\n",
       "          /contact_data_throttled/contact_positions/0/y  \\\n",
       "5408.127                                      -0.194739   \n",
       "5408.138                                      -0.197243   \n",
       "5408.149                                      -0.199800   \n",
       "5408.160                                      -0.202410   \n",
       "5408.171                                      -0.205070   \n",
       "\n",
       "          /contact_data_throttled/contact_positions/0/z  \\\n",
       "5408.127                                  -2.850095e-09   \n",
       "5408.138                                  -3.048600e-09   \n",
       "5408.149                                  -3.274787e-09   \n",
       "5408.160                                  -3.536743e-09   \n",
       "5408.171                                  -3.799855e-09   \n",
       "\n",
       "          /contact_data_throttled/depths/0 /contact_data_throttled/info  ...  \\\n",
       "5408.127                      2.850095e-09                               ...   \n",
       "5408.138                      3.048600e-09                               ...   \n",
       "5408.149                      3.274787e-09                               ...   \n",
       "5408.160                      3.536743e-09                               ...   \n",
       "5408.171                      3.799855e-09                               ...   \n",
       "\n",
       "          /contact_data_throttled/total_wrench/force/z  \\\n",
       "5408.127                                           0.0   \n",
       "5408.138                                           0.0   \n",
       "5408.149                                           0.0   \n",
       "5408.160                                           0.0   \n",
       "5408.171                                           0.0   \n",
       "\n",
       "          /contact_data_throttled/total_wrench/torque/x  \\\n",
       "5408.127                                            0.0   \n",
       "5408.138                                            0.0   \n",
       "5408.149                                            0.0   \n",
       "5408.160                                            0.0   \n",
       "5408.171                                            0.0   \n",
       "\n",
       "          /contact_data_throttled/total_wrench/torque/y  \\\n",
       "5408.127                                            0.0   \n",
       "5408.138                                            0.0   \n",
       "5408.149                                            0.0   \n",
       "5408.160                                            0.0   \n",
       "5408.171                                            0.0   \n",
       "\n",
       "          /contact_data_throttled/total_wrench/torque/z  \\\n",
       "5408.127                                            0.0   \n",
       "5408.138                                            0.0   \n",
       "5408.149                                            0.0   \n",
       "5408.160                                            0.0   \n",
       "5408.171                                            0.0   \n",
       "\n",
       "          /contact_data_throttled/wrenches/0/force/x  \\\n",
       "5408.127                                   -1.572832   \n",
       "5408.138                                   -1.447309   \n",
       "5408.149                                   -1.336133   \n",
       "5408.160                                   -1.238070   \n",
       "5408.171                                   -1.150325   \n",
       "\n",
       "          /contact_data_throttled/wrenches/0/force/y  \\\n",
       "5408.127                                   -0.561263   \n",
       "5408.138                                   -0.521211   \n",
       "5408.149                                   -0.485193   \n",
       "5408.160                                   -0.452725   \n",
       "5408.171                                   -0.422979   \n",
       "\n",
       "          /contact_data_throttled/wrenches/0/force/z  \\\n",
       "5408.127                                   -6.156867   \n",
       "5408.138                                   -5.714382   \n",
       "5408.149                                   -5.322442   \n",
       "5408.160                                   -4.976875   \n",
       "5408.171                                   -4.667774   \n",
       "\n",
       "          /contact_data_throttled/wrenches/0/torque/x  \\\n",
       "5408.127                                     0.077129   \n",
       "5408.138                                     0.070955   \n",
       "5408.149                                     0.065438   \n",
       "5408.160                                     0.060502   \n",
       "5408.171                                     0.056018   \n",
       "\n",
       "          /contact_data_throttled/wrenches/0/torque/y  \\\n",
       "5408.127                                    -0.093051   \n",
       "5408.138                                    -0.084947   \n",
       "5408.149                                    -0.077775   \n",
       "5408.160                                    -0.071443   \n",
       "5408.171                                    -0.065774   \n",
       "\n",
       "          /contact_data_throttled/wrenches/0/torque/z  \n",
       "5408.127                                    -0.011221  \n",
       "5408.138                                    -0.010223  \n",
       "5408.149                                    -0.009338  \n",
       "5408.160                                    -0.008552  \n",
       "5408.171                                    -0.007845  \n",
       "\n",
       "[5 rows x 22 columns]"
      ]
     },
     "execution_count": 55,
     "metadata": {},
     "output_type": "execute_result"
    }
   ],
   "source": [
    "# filter out collisions that arent of interest\n",
    "\n",
    "df_filtered = contact_df.loc[(contact_df['/contact_data_throttled/collision1_name'].str.contains('sphere'))]\n",
    "df_filtered.head()"
   ]
  },
  {
   "cell_type": "code",
   "execution_count": 131,
   "metadata": {},
   "outputs": [],
   "source": [
    "def get_nearest_idxs(times, df_index):\n",
    "    idxs = df_index.searchsorted(times, side=\"left\")\n",
    "    idxs_list = []\n",
    "    if np.isscalar(times):\n",
    "        times = [times]\n",
    "    for i in range(len(times)):\n",
    "        if idxs[i] > 0 and (idxs[i] == len(df_index) or math.fabs(times[i] - df_index[idxs[i]-1]) < math.fabs(times[i] - df_index[idxs[i]-1])):\n",
    "            idxs_list.append(idxs[i]-1)\n",
    "        else:\n",
    "            idxs_list.append(idxs[i])\n",
    "    return idxs_list"
   ]
  },
  {
   "cell_type": "code",
   "execution_count": 57,
   "metadata": {},
   "outputs": [
    {
     "data": {
      "text/plain": [
       "[0, 1, 2, 3, 4, 5, 6, 7, 8, 9, 10, 11, 12, 13, 14, 15, 16, 17, 18, 19]"
      ]
     },
     "execution_count": 57,
     "metadata": {},
     "output_type": "execute_result"
    }
   ],
   "source": [
    "proprio_idxs = get_nearest_idxs(depth_times[0:20], proprio_df.index)\n",
    "proprio_idxs"
   ]
  },
  {
   "cell_type": "code",
   "execution_count": 133,
   "metadata": {},
   "outputs": [
    {
     "name": "stdout",
     "output_type": "stream",
     "text": [
      "[5408.14 5408.17 5408.21 5408.24 5408.27]\n"
     ]
    },
    {
     "data": {
      "text/plain": [
       "[2, 4, 8, 11, 13]"
      ]
     },
     "execution_count": 133,
     "metadata": {},
     "output_type": "execute_result"
    }
   ],
   "source": [
    "contact_idxs = get_nearest_idxs(depth_times[0:5], df_filtered.index)\n",
    "print(depth_times[0:5])\n",
    "contact_idxs"
   ]
  },
  {
   "cell_type": "code",
   "execution_count": 59,
   "metadata": {},
   "outputs": [
    {
     "data": {
      "text/plain": [
       "array(['panda::panda_link7::panda_link7_fixed_joint_lump__panda_sphere_collision_1',\n",
       "       'panda::panda_link7::panda_link7_fixed_joint_lump__panda_sphere_collision_1',\n",
       "       'panda::panda_link7::panda_link7_fixed_joint_lump__panda_sphere_collision_1',\n",
       "       'panda::panda_link7::panda_link7_fixed_joint_lump__panda_sphere_collision_1',\n",
       "       'panda::panda_link7::panda_link7_fixed_joint_lump__panda_sphere_collision_1'],\n",
       "      dtype=object)"
      ]
     },
     "execution_count": 59,
     "metadata": {},
     "output_type": "execute_result"
    }
   ],
   "source": [
    "contact_df.iloc[contact_idxs]['/contact_data_throttled/collision1_name'].values"
   ]
  },
  {
   "cell_type": "code",
   "execution_count": 88,
   "metadata": {},
   "outputs": [
    {
     "data": {
      "text/plain": [
       "array([[-0.11977774,  0.88407564, -0.45173394,  0.        ,  0.98291187,\n",
       "         0.16965905,  0.07141477,  0.        ,  0.13977681, -0.43546075,\n",
       "        -0.88928982,  0.        ,  0.51865801, -0.17702047,  0.10509956,\n",
       "         1.        ],\n",
       "       [-0.15131782,  0.87995227, -0.45031869,  0.        ,  0.97733789,\n",
       "         0.20140831,  0.06515621,  0.        ,  0.14803228, -0.43025422,\n",
       "        -0.89048737,  0.        ,  0.52051377, -0.18560876,  0.10516998,\n",
       "         1.        ],\n",
       "       [-0.18633216,  0.87413308, -0.44852166,  0.        ,  0.96969646,\n",
       "         0.23704717,  0.05913903,  0.        ,  0.15801617, -0.42391036,\n",
       "        -0.89181326,  0.        ,  0.52318366, -0.19462077,  0.10524871,\n",
       "         1.        ],\n",
       "       [-0.22367416,  0.86643294, -0.44638978,  0.        ,  0.95993367,\n",
       "         0.27515551,  0.05307344,  0.        ,  0.16881118, -0.41663342,\n",
       "        -0.89326333,  0.        ,  0.52632084, -0.20413135,  0.10533382,\n",
       "         1.        ],\n",
       "       [-0.26166033,  0.85686942, -0.44419441,  0.        ,  0.9483027 ,\n",
       "         0.3138852 ,  0.0468836 ,  0.        ,  0.17959918, -0.40896318,\n",
       "        -0.89470288,  0.        ,  0.52951164, -0.21438172,  0.10541729,\n",
       "         1.        ],\n",
       "       [-0.30027674,  0.84557768, -0.44139809,  0.        ,  0.93464121,\n",
       "         0.35323627,  0.04086489,  0.        ,  0.19047226, -0.40027807,\n",
       "        -0.89638038,  0.        ,  0.53266608, -0.22528766,  0.10551427,\n",
       "         1.        ],\n",
       "       [-0.34121076,  0.83194551, -0.43754072,  0.        ,  0.91799851,\n",
       "         0.39501834,  0.03520304,  0.        ,  0.20212362, -0.38965008,\n",
       "        -0.89850924,  0.        ,  0.53590823, -0.23647223,  0.10563497,\n",
       "         1.        ],\n",
       "       [-0.38453821,  0.81536342, -0.43279656,  0.        ,  0.89787931,\n",
       "         0.43923648,  0.02973327,  0.        ,  0.21434345, -0.37716549,\n",
       "        -0.90100115,  0.        ,  0.53905331, -0.24781052,  0.1057792 ,\n",
       "         1.        ],\n",
       "       [-0.43042021,  0.79526406, -0.42695846,  0.        ,  0.87362115,\n",
       "         0.48598897,  0.02451144,  0.        ,  0.22699016, -0.36244972,\n",
       "        -0.90393897,  0.        ,  0.5419396 , -0.25908231,  0.10594867,\n",
       "         1.        ],\n",
       "       [-0.47902116,  0.77110306, -0.4194506 ,  0.        ,  0.84448099,\n",
       "         0.53522926,  0.01953187,  0.        ,  0.23956332, -0.34486188,\n",
       "        -0.90756801,  0.        ,  0.54433177, -0.26997686,  0.10615755,\n",
       "         1.        ],\n",
       "       [-0.53158064,  0.74122145, -0.40989362,  0.        ,  0.80855694,\n",
       "         0.58822405,  0.01510409,  0.        ,  0.25230476, -0.32339328,\n",
       "        -0.91200827,  0.        ,  0.54620218, -0.2799712 ,  0.10641004,\n",
       "         1.        ],\n",
       "       [-0.58988317,  0.70223767, -0.39862275,  0.        ,  0.76244749,\n",
       "         0.64694909,  0.01143205,  0.        ,  0.26591664, -0.29718534,\n",
       "        -0.91704374,  0.        ,  0.54770239, -0.28847936,  0.10669645,\n",
       "         1.        ],\n",
       "       [-0.65287409,  0.65192187, -0.38568548,  0.        ,  0.7038779 ,\n",
       "         0.71026326,  0.00905535,  0.        ,  0.27984161, -0.26556349,\n",
       "        -0.92258588,  0.        ,  0.54872573, -0.29504078,  0.10701185,\n",
       "         1.        ],\n",
       "       [-0.71452826,  0.59235387, -0.3722449 ,  0.        ,  0.6354786 ,\n",
       "         0.7720685 ,  0.00878546,  0.        ,  0.29260266, -0.23027621,\n",
       "        -0.92809296,  0.        ,  0.54900188, -0.29967079,  0.10732281,\n",
       "         1.        ],\n",
       "       [-0.7721096 ,  0.52369658, -0.35998424,  0.        ,  0.55798786,\n",
       "         0.82978451,  0.0103547 ,  0.        ,  0.30413207, -0.19287187,\n",
       "        -0.93290092,  0.        ,  0.5486378 , -0.30243293,  0.10759239,\n",
       "         1.        ],\n",
       "       [-0.82424892,  0.4455298 , -0.3494523 ,  0.        ,  0.47129229,\n",
       "         0.88188539,  0.01271723,  0.        ,  0.31384278, -0.15421201,\n",
       "        -0.93686785,  0.        ,  0.54769061, -0.30346054,  0.10781177,\n",
       "         1.        ],\n",
       "       [-0.86944146,  0.35872286, -0.33969023,  0.        ,  0.37627129,\n",
       "         0.92638454,  0.01521814,  0.        ,  0.32014288, -0.1145844 ,\n",
       "        -0.94041425,  0.        ,  0.54591936, -0.30295594,  0.10800622,\n",
       "         1.        ],\n",
       "       [-0.9061995 ,  0.26424109, -0.33011986,  0.        ,  0.27401461,\n",
       "         0.9615665 ,  0.01748905,  0.        ,  0.32205352, -0.0746091 ,\n",
       "        -0.94377699,  0.        ,  0.54309339, -0.30121242,  0.1081898 ,\n",
       "         1.        ],\n",
       "       [-0.93324382,  0.16344299, -0.31990993,  0.        ,  0.16579556,\n",
       "         0.98595594,  0.02006784,  0.        ,  0.31869704, -0.03431146,\n",
       "        -0.94723541,  0.        ,  0.53901829, -0.29831201,  0.10837766,\n",
       "         1.        ],\n",
       "       [-0.94959623,  0.05657501, -0.3083282 ,  0.        ,  0.05211851,\n",
       "         0.9983834 ,  0.02267716,  0.        ,  0.30911271,  0.00546454,\n",
       "        -0.95100971,  0.        ,  0.53338564, -0.29446207,  0.10858175,\n",
       "         1.        ]])"
      ]
     },
     "execution_count": 88,
     "metadata": {},
     "output_type": "execute_result"
    }
   ],
   "source": [
    "tf = proprio_df.iloc[proprio_idxs][pose_topics].values\n",
    "tf\n",
    "# np.reshape(tf, (4,4), order='F')"
   ]
  },
  {
   "cell_type": "code",
   "execution_count": 98,
   "metadata": {},
   "outputs": [
    {
     "data": {
      "text/plain": [
       "array([[ 33.93949894,   6.46806685,  39.07649327,   9.79863008,\n",
       "         -5.73515407,  -0.68926835],\n",
       "       [ 33.47982987,   7.30875845,  40.89968537,  10.02757123,\n",
       "         -5.16263336,  -0.64824303],\n",
       "       [ 32.87674819,   8.75327988,  42.46436608,   9.87270887,\n",
       "         -4.39154682,  -0.69922781],\n",
       "       [ 32.92271688,  10.71413715,  43.01910923,   9.41958585,\n",
       "         -3.56192459,  -0.88595418],\n",
       "       [ 31.7795005 ,  11.93116962,  43.37322275,   9.16067963,\n",
       "         -2.78925355,  -0.96870927],\n",
       "       [ 28.66473668,  11.45134827,  44.79588726,   9.27317728,\n",
       "         -1.9619585 ,  -0.78594501],\n",
       "       [ 26.29902548,  11.74416833,  45.4569506 ,   8.79579998,\n",
       "         -1.04810899,  -0.75041584],\n",
       "       [ 23.58319953,  11.37675766,  46.72504021,   8.27706893,\n",
       "         -0.1699076 ,  -0.69020176],\n",
       "       [ 20.80384214,  10.55998071,  48.4548429 ,   7.55033667,\n",
       "          0.65348161,  -0.62023169],\n",
       "       [ 17.22144849,   8.19442431,  50.61850417,   6.88233306,\n",
       "          1.51799267,  -0.44411302],\n",
       "       [ 13.44285682,   4.51810294,  52.17463844,   6.18924471,\n",
       "          2.4116681 ,  -0.15562876],\n",
       "       [ 10.70097721,   0.72101821,  54.07654089,   5.20222272,\n",
       "          3.09281121,   0.1008542 ],\n",
       "       [  9.74271287,  -3.0799027 ,  56.6202613 ,   3.67088156,\n",
       "          3.72190811,   0.40377938],\n",
       "       [  9.51176111,  -6.64756441,  58.10463274,   2.25725713,\n",
       "          3.97332392,   0.69564331],\n",
       "       [ 10.61137487,  -9.78224398,  59.37876319,   0.98023111,\n",
       "          3.89581933,   1.04618215],\n",
       "       [ 11.76784561, -10.91249582,  59.50241587,  -0.30831321,\n",
       "          3.71448473,   1.17873307],\n",
       "       [ 12.09852308, -10.85643449,  58.82501332,  -1.43546532,\n",
       "          3.17152612,   1.11587436],\n",
       "       [ 11.94891663, -11.76732405,  57.73800064,  -2.2517798 ,\n",
       "          2.45764809,   1.09173611],\n",
       "       [ 11.05592857, -12.18667635,  56.59170466,  -3.1070331 ,\n",
       "          1.47187619,   1.01667066],\n",
       "       [  9.51442742, -11.66144433,  55.42901818,  -3.5786542 ,\n",
       "          0.72769874,   0.82829258]])"
      ]
     },
     "execution_count": 98,
     "metadata": {},
     "output_type": "execute_result"
    }
   ],
   "source": [
    "wrenches = proprio_df.iloc[proprio_idxs][wrench_topics].values\n",
    "wrenches"
   ]
  },
  {
   "cell_type": "code",
   "execution_count": 61,
   "metadata": {},
   "outputs": [],
   "source": [
    "def affine_tf_to_pose(tf):\n",
    "        \n",
    "        tf_np = np.reshape(tf, (4,4), order='F')\n",
    "        # pose_np[0:4, 3]\n",
    "        rot = tf_np[0:3, 0:3]\n",
    "        # R @ R.T\n",
    "        rot = R.from_matrix(rot)\n",
    "        quat = rot.as_quat()\n",
    "        quat = np.divide(quat, np.linalg.norm(quat))\n",
    "\n",
    "        trans = tf_np[0:3, -1]\n",
    "        pose = np.concatenate((trans, quat))\n",
    "        return pose"
   ]
  },
  {
   "cell_type": "code",
   "execution_count": 62,
   "metadata": {},
   "outputs": [],
   "source": [
    "def invert_transform(tf):\n",
    "    R = tf[0:3, 0:3]\n",
    "    T = tf[:3, -1]\n",
    "    tf_inv = np.diag([0.,0.,0.,1.])\n",
    "    tf_inv[:3, :3] = R.T\n",
    "    tf_inv[:3, -1] = -R.T @ T\n",
    "    return tf_inv"
   ]
  },
  {
   "cell_type": "code",
   "execution_count": 63,
   "metadata": {},
   "outputs": [],
   "source": [
    "def transform_pose(pose_W, C_tf_W):\n",
    "    C_rot_W = R.from_matrix(C_tf_W[:3, :3])\n",
    "\n",
    "    pos = pose_W[:3]\n",
    "    W_rot_EE = R.from_quat(pose_W[3:])\n",
    "    pos_tfed = (C_tf_W @ np.concatenate((pos, np.array([1.,]))))[:-1]\n",
    "    \n",
    "    ori_tfed = C_rot_W * W_rot_EE\n",
    "\n",
    "    return np.concatenate((pos_tfed, ori_tfed.as_quat())) "
   ]
  },
  {
   "cell_type": "code",
   "execution_count": null,
   "metadata": {},
   "outputs": [],
   "source": []
  },
  {
   "cell_type": "code",
   "execution_count": 145,
   "metadata": {},
   "outputs": [],
   "source": [
    "def get_nearest_contact_idx(times, df_index, centered=False):\n",
    "    if not centered:\n",
    "        print(times[-1])\n",
    "        return get_nearest_idxs([times[-1]], df_index)\n",
    "    else:\n",
    "        # print(times)\n",
    "        print(len(times))\n",
    "        print(times[len(times)//2])\n",
    "        return get_nearest_idxs([times[len(times)//2]], df_index)\n"
   ]
  },
  {
   "cell_type": "code",
   "execution_count": 116,
   "metadata": {},
   "outputs": [],
   "source": [
    "def get_contacts(times, contact_df):\n",
    "    contact_list = []\n",
    "    contact_times = []\n",
    "    contact_time_diff = []\n",
    "    for time in times:\n",
    "        contacts = [] # list of all contact dicts at each timestep\n",
    "        contact_idx = get_nearest_idxs([time], contact_df.index)[0]\n",
    "        row = contact_df.iloc[contact_idx].loc[contact_df.iloc[contact_idx].notnull()]\n",
    "        num_contacts = len(row[row.keys().str.contains('depths')])\n",
    "        time_diff = abs(contact_df.index[contact_idx] - time)\n",
    "        contact_time_diff.append(time_diff)\n",
    "        if time_diff > (contact_dt*1.5):\n",
    "            contact_list.append(None)\n",
    "            contact_times.append(None)\n",
    "        else:\n",
    "            for contact_id in range(num_contacts):\n",
    "                contact_dict = {}\n",
    "\n",
    "                contact_pos_idx = '/contact_data_throttled/contact_positions/' + str(contact_id) \n",
    "                contact_pos_cols = [col for col in row.keys() if contact_pos_idx in col]\n",
    "                contact_pos = np.array(row[contact_pos_cols].values)\n",
    "                \n",
    "                contact_dict['position'] = contact_pos\n",
    "\n",
    "                contact_nrml_idx = '/contact_data_throttled/contact_normals/' + str(contact_id) \n",
    "                contact_nrml_cols = [col for col in row.keys() if contact_nrml_idx in col]\n",
    "                contact_nrml = np.array(row[contact_nrml_cols].values)\n",
    "\n",
    "                contact_dict['normal'] = contact_nrml\n",
    "\n",
    "                contact_force_idx = '/contact_data_throttled/wrenches/' + str(contact_id) + '/force/'\n",
    "                contact_force_cols = [col for col in row.keys() if contact_force_idx in col]\n",
    "                contact_force = np.array(row[contact_force_cols].values)\n",
    "\n",
    "                contact_dict['force'] = contact_force\n",
    "\n",
    "                contact_torque_idx = '/contact_data_throttled/wrenches/' + str(contact_id) + '/torque/'\n",
    "                contact_torque_cols = [col for col in row.keys() if contact_torque_idx in col]\n",
    "                contact_torque = np.array(row[contact_torque_cols].values)\n",
    "\n",
    "                contact_dict['torque'] = contact_torque\n",
    "            \n",
    "                contacts.append(contact_dict)\n",
    "            \n",
    "            contact_list.append(contacts)\n",
    "            contact_times.append(contact_df.index[contact_idx])\n",
    "\n",
    "    return contact_list, contact_times, contact_time_diff\n"
   ]
  },
  {
   "cell_type": "code",
   "execution_count": 223,
   "metadata": {},
   "outputs": [
    {
     "name": "stdout",
     "output_type": "stream",
     "text": [
      "5409.77\n",
      "[142]\n",
      "[5409.648, 5409.672, 5409.718, 5409.742, 5409.778]\n",
      "0.01200000480000192\n",
      "1\n"
     ]
    }
   ],
   "source": [
    "contact_idx = get_nearest_contact_idx(depth_times[30:50], df_filtered.index, centered=False)\n",
    "contact, times, time_diff = get_contacts(contact_idx, df_filtered)\n",
    "print(contact_idx)\n",
    "print(times)\n",
    "print(contact_dt)\n",
    "print(contact)"
   ]
  },
  {
   "cell_type": "code",
   "execution_count": 114,
   "metadata": {},
   "outputs": [
    {
     "name": "stdout",
     "output_type": "stream",
     "text": [
      "5408.14\n"
     ]
    }
   ],
   "source": [
    "test = depth_times[0:1]\n",
    "for i in test:\n",
    "    print(i)\n",
    "# np.isscalar(depth_times[0])"
   ]
  },
  {
   "cell_type": "code",
   "execution_count": 67,
   "metadata": {},
   "outputs": [
    {
     "ename": "ValueError",
     "evalue": "too many values to unpack (expected 2)",
     "output_type": "error",
     "traceback": [
      "\u001b[0;31m---------------------------------------------------------------------------\u001b[0m",
      "\u001b[0;31mValueError\u001b[0m                                Traceback (most recent call last)",
      "\u001b[0;32m/tmp/ipykernel_13945/3991109739.py\u001b[0m in \u001b[0;36m<module>\u001b[0;34m\u001b[0m\n\u001b[0;32m----> 1\u001b[0;31m \u001b[0mcontact\u001b[0m\u001b[0;34m,\u001b[0m \u001b[0mtimes\u001b[0m \u001b[0;34m=\u001b[0m \u001b[0mget_contacts\u001b[0m\u001b[0;34m(\u001b[0m\u001b[0;34m[\u001b[0m\u001b[0mdepth_times\u001b[0m\u001b[0;34m[\u001b[0m\u001b[0;36m0\u001b[0m\u001b[0;34m]\u001b[0m\u001b[0;34m]\u001b[0m\u001b[0;34m,\u001b[0m \u001b[0mdf_filtered\u001b[0m\u001b[0;34m)\u001b[0m\u001b[0;34m\u001b[0m\u001b[0;34m\u001b[0m\u001b[0m\n\u001b[0m\u001b[1;32m      2\u001b[0m \u001b[0mcontact\u001b[0m\u001b[0;34m[\u001b[0m\u001b[0;36m0\u001b[0m\u001b[0;34m]\u001b[0m\u001b[0;34m\u001b[0m\u001b[0;34m\u001b[0m\u001b[0m\n",
      "\u001b[0;31mValueError\u001b[0m: too many values to unpack (expected 2)"
     ]
    }
   ],
   "source": [
    "# contact, times = get_contacts([depth_times[0]], df_filtered)\n",
    "# contact[0]"
   ]
  },
  {
   "cell_type": "markdown",
   "metadata": {},
   "source": []
  },
  {
   "cell_type": "markdown",
   "metadata": {},
   "source": [
    "# Projecting contact points into depth image"
   ]
  },
  {
   "cell_type": "code",
   "execution_count": 68,
   "metadata": {},
   "outputs": [
    {
     "data": {
      "text/plain": [
       "array([[ 1.59265291e-03,  9.99998732e-01,  0.00000000e+00,\n",
       "         1.51110206e-02],\n",
       "       [-4.89663865e-12,  7.60502772e-15, -1.00000000e+00,\n",
       "         1.12500000e-01],\n",
       "       [-9.99998732e-01,  1.59265291e-03,  4.89641661e-12,\n",
       "         1.48939810e+00],\n",
       "       [ 0.00000000e+00,  0.00000000e+00,  0.00000000e+00,\n",
       "         1.00000000e+00]])"
      ]
     },
     "execution_count": 68,
     "metadata": {},
     "output_type": "execute_result"
    }
   ],
   "source": [
    "depth_tf_world = np.load(os.path.join(im_path, 'D_tf_W.npy'))\n",
    "depth_tf_world\n",
    "# W_tf_D"
   ]
  },
  {
   "cell_type": "code",
   "execution_count": 79,
   "metadata": {},
   "outputs": [
    {
     "name": "stdout",
     "output_type": "stream",
     "text": [
      "[[ 2.22044605e-16 -1.00000000e+00  0.00000000e+00  0.00000000e+00]\n",
      " [ 1.00000000e+00  2.22044605e-16  0.00000000e+00  0.00000000e+00]\n",
      " [ 0.00000000e+00  0.00000000e+00  1.00000000e+00  0.00000000e+00]\n",
      " [ 0.00000000e+00  0.00000000e+00  0.00000000e+00  1.00000000e+00]]\n",
      "[ 8.99999998e+01  8.99087477e+01 -1.76148867e-07]\n",
      "[  0.   0. 180.]\n"
     ]
    }
   ],
   "source": [
    "pose_idx = 4\n",
    "# print(tf[pose_idx])\n",
    "pose = affine_tf_to_pose(tf[pose_idx])\n",
    "EE_rot = R.from_quat(pose[3:])\n",
    "test_rot = R.from_euler('z', 90, degrees=True)\n",
    "test_pose = np.concatenate((np.array([0,0,0]), test_rot.as_quat()))\n",
    "test_tf = np.diag([1., 1., 1., 1.])\n",
    "test_tf[:3, :3] = R.from_euler('z', 90, degrees=True).as_matrix()\n",
    "print(test_tf) \n",
    "# print(EE_rot.as_euler('zyx', degrees=True))\n",
    "depth_rot_world = R.from_matrix(depth_tf_world[:3, :3])\n",
    "print(depth_rot_world.as_euler('xyz', degrees=True))\n",
    "tfed_pose = transform_pose(test_pose, test_tf)\n",
    "tfed_EE_rot = R.from_quat(tfed_pose[3:])\n",
    "print(tfed_EE_rot.as_euler('xyz', degrees=True))\n"
   ]
  },
  {
   "cell_type": "code",
   "execution_count": 84,
   "metadata": {},
   "outputs": [
    {
     "data": {
      "text/plain": [
       "array([[695.99511719,   0.        , 640.        ],\n",
       "       [  0.        , 695.99511719, 360.        ],\n",
       "       [  0.        ,   0.        ,   1.        ]])"
      ]
     },
     "execution_count": 84,
     "metadata": {},
     "output_type": "execute_result"
    }
   ],
   "source": [
    "depth_K = np.load(os.path.join(im_path, 'depth_K.npy'))\n",
    "# depth_K = np.array([462.1379699707031, 0.0, 320.0, 0.0, 462.1379699707031, 240.0, 0.0, 0.0, 1.0]).reshape((3,3))\n",
    "# depth_K[:2, -1] = np.array([0,0])\n",
    "depth_K"
   ]
  },
  {
   "cell_type": "code",
   "execution_count": 85,
   "metadata": {},
   "outputs": [],
   "source": [
    "def point_proj(K, C_tf_W, pos):\n",
    "    # R = W_tf_C[0:3, 0:3]\n",
    "    # T = W_tf_C[:3, -1]\n",
    "    # depth_tf_world = np.diag([0.,0.,0.,1.])\n",
    "    # depth_tf_world[:3, :3] = R.T\n",
    "    # depth_tf_world[:3, -1] = -R.T @ T\n",
    "    # depth_tf_world = W_tf_C\n",
    "    contact_pos_in_depth = (C_tf_W @ np.concatenate((pos, np.array([1]))))[:-1]\n",
    "    # print(contact_pos_in_depth)\n",
    "    project_coords = K @ (contact_pos_in_depth)\n",
    "    return (project_coords[:2]/project_coords[-1]).astype(int)  \n",
    "\n"
   ]
  },
  {
   "cell_type": "code",
   "execution_count": 87,
   "metadata": {},
   "outputs": [
    {
     "name": "stdout",
     "output_type": "stream",
     "text": [
      "[524 365]\n",
      "(720, 1280)\n"
     ]
    },
    {
     "data": {
      "text/plain": [
       "<matplotlib.image.AxesImage at 0x7f83ba942650>"
      ]
     },
     "execution_count": 87,
     "metadata": {},
     "output_type": "execute_result"
    },
    {
     "data": {
      "image/png": "[encoded data removed]",
      "text/plain": [
       "<Figure size 432x288 with 1 Axes>"
      ]
     },
     "metadata": {
      "needs_background": "light"
     },
     "output_type": "display_data"
    }
   ],
   "source": [
    "depth_idx = 0\n",
    "proprio_idx = get_nearest_idxs([depth_times[depth_idx]], proprio_df.index)\n",
    "proprio_df.iloc[proprio_idx[0]][pose_topics].values\n",
    "pose = affine_tf_to_pose(proprio_df.iloc[proprio_idx[0]][pose_topics].values)\n",
    "pose_prj = point_proj(depth_K, depth_tf_world, pose[:3])\n",
    "print(pose_prj)\n",
    "image = cv2.imread(im_paths[depth_idx])\n",
    "print(image.shape[:2])\n",
    "image = cv2.applyColorMap(image, cv2.COLORMAP_TURBO)\n",
    "image = cv2.circle(image, tuple(pose_prj), radius=7, color=(255, 133, 233), thickness=-1)\n",
    "plt.imshow(image)"
   ]
  },
  {
   "cell_type": "code",
   "execution_count": 217,
   "metadata": {},
   "outputs": [
    {
     "name": "stdout",
     "output_type": "stream",
     "text": [
      "311\n",
      "[1.2349999999996726]\n",
      "0.01200000480000192\n"
     ]
    },
    {
     "data": {
      "image/png": "[encoded data removed]",
      "text/plain": [
       "<Figure size 432x288 with 1 Axes>"
      ]
     },
     "metadata": {
      "needs_background": "light"
     },
     "output_type": "display_data"
    }
   ],
   "source": [
    "# image = skimage.io.imread(im_paths[depth_idx])\n",
    "depth_idx = 299\n",
    "print(len(depth_times))\n",
    "contact, times, time_diffs = get_contacts([depth_times[depth_idx]], df_filtered)\n",
    "print(time_diffs)\n",
    "print(contact_dt)\n",
    "if contact[0] == None:\n",
    "    image = cv2.imread(im_paths[depth_idx])\n",
    "    image = cv2.applyColorMap(image, cv2.COLORMAP_TURBO)\n",
    "    plt.imshow(image)\n",
    "else:\n",
    "    contact_pos = contact[0][0]['position']\n",
    "    # contact_pos = np.array([0.,0.6,0.3])\n",
    "    # print(contact_pos)\n",
    "    contact_pos_prj = point_proj(depth_K, depth_tf_world, contact_pos)\n",
    "    print(contact_pos_prj)\n",
    "    image = cv2.imread(im_paths[depth_idx])\n",
    "    image = cv2.applyColorMap(image, cv2.COLORMAP_TURBO)\n",
    "    image = cv2.circle(image, tuple(contact_pos_prj), radius=5, color=(255, 133, 233), thickness=-1)\n",
    "    plt.imshow(image)\n",
    "    # contact_pos\n"
   ]
  },
  {
   "cell_type": "code",
   "execution_count": 218,
   "metadata": {},
   "outputs": [
    {
     "name": "stdout",
     "output_type": "stream",
     "text": [
      "None\n"
     ]
    }
   ],
   "source": [
    "for c in contact:\n",
    "    print(c)"
   ]
  },
  {
   "cell_type": "code",
   "execution_count": 204,
   "metadata": {},
   "outputs": [
    {
     "name": "stdout",
     "output_type": "stream",
     "text": [
      "(480, 270)\n",
      "[499 409]\n",
      "[186 153]\n"
     ]
    },
    {
     "data": {
      "text/plain": [
       "<matplotlib.image.AxesImage at 0x7f83b900aad0>"
      ]
     },
     "execution_count": 204,
     "metadata": {},
     "output_type": "execute_result"
    },
    {
     "data": {
      "image/png": "[encoded data removed]",
      "text/plain": [
       "<Figure size 432x288 with 1 Axes>"
      ]
     },
     "metadata": {
      "needs_background": "light"
     },
     "output_type": "display_data"
    }
   ],
   "source": [
    "# image = skimage.io.imread(im_paths[depth_idx])\n",
    "# print(len(depth_times))\n",
    "contact, times, time_diffs = get_contacts([depth_times[depth_idx]], df_filtered)\n",
    "# print(time_diffs)\n",
    "# print(contact_dt)\n",
    "\n",
    "\n",
    "# if contact[0] == None:\n",
    "#     image = cv2.imread(im_paths[depth_idx])\n",
    "#     image = cv2.applyColorMap(image, cv2.COLORMAP_TURBO)\n",
    "#     plt.imshow(image)\n",
    "# else:\n",
    "contact_pos = contact[0][0]['position']\n",
    "# contact_pos = np.array([0.,0.6,0.3])\n",
    "# print(contact_pos)\n",
    "contact_pos_prj = point_proj(depth_K, depth_tf_world, contact_pos)\n",
    "# print(contact_pos_prj)\n",
    "image = cv2.imread(im_paths[depth_idx])\n",
    "resize = ((image.shape[1]//8)*3, (image.shape[0]//8)*3)\n",
    "print(resize)\n",
    "resized_im = cv2.resize(image, resize, interpolation=cv2.INTER_CUBIC)\n",
    "image = cv2.applyColorMap(resized_im, cv2.COLORMAP_TURBO)\n",
    "print(contact_pos_prj)\n",
    "resized_contact_pos_prj = (contact_pos_prj//8)*3\n",
    "print(resized_contact_pos_prj)\n",
    "image = cv2.circle(image, tuple(resized_contact_pos_prj), radius=2, color=(255, 133, 233), thickness=-1)\n",
    "plt.imshow(image)\n",
    "# contact_pos"
   ]
  },
  {
   "cell_type": "code",
   "execution_count": 210,
   "metadata": {},
   "outputs": [
    {
     "data": {
      "text/plain": [
       "<matplotlib.image.AxesImage at 0x7f83b8f07410>"
      ]
     },
     "execution_count": 210,
     "metadata": {},
     "output_type": "execute_result"
    },
    {
     "data": {
      "image/png": "[encoded data removed]",
      "text/plain": [
       "<Figure size 432x288 with 1 Axes>"
      ]
     },
     "metadata": {
      "needs_background": "light"
     },
     "output_type": "display_data"
    }
   ],
   "source": [
    "image = np.zeros((resize[1], resize[0]))\n",
    "# resize = ((image.shape[1]//8)*3, (image.shape[0]//8)*3)\n",
    "# print(resize)\n",
    "# resized_im = cv2.resize(image, resize, interpolation=cv2.INTER_CUBIC)\n",
    "# image = cv2.applyColorMap(resized_im, cv2.COLORMAP_TURBO)\n",
    "# print(contact_pos_prj)\n",
    "# resized_contact_pos_prj = (contact_pos_prj//8)*3\n",
    "# print(resized_contact_pos_prj)\n",
    "image[resized_contact_pos_prj[1], resized_contact_pos_prj[0]] = 1.\n",
    "# image = cv2.circle(image, tuple(resized_contact_pos_prj), radius=2, color=(255, 133, 233), thickness=-1)\n",
    "plt.imshow(image, cmap='gray', vmax=0.01)"
   ]
  },
  {
   "cell_type": "code",
   "execution_count": 214,
   "metadata": {},
   "outputs": [
    {
     "data": {
      "text/plain": [
       "(3, 480, 270)"
      ]
     },
     "execution_count": 214,
     "metadata": {},
     "output_type": "execute_result"
    }
   ],
   "source": [
    "(3,) + resize"
   ]
  },
  {
   "cell_type": "code",
   "execution_count": null,
   "metadata": {},
   "outputs": [
    {
     "data": {
      "text/plain": [
       "<matplotlib.image.AxesImage at 0x7f0ed1bff690>"
      ]
     },
     "execution_count": 1184,
     "metadata": {},
     "output_type": "execute_result"
    },
    {
     "data": {
      "image/png": "[encoded data removed]",
      "text/plain": [
       "<Figure size 432x288 with 1 Axes>"
      ]
     },
     "metadata": {
      "needs_background": "light"
     },
     "output_type": "display_data"
    }
   ],
   "source": [
    "contact_force = contact[0][0]['force']\n",
    "force_mag = np.linalg.norm(contact_force)\n",
    "force_endpt = contact_pos + 0.1*(contact_force/force_mag) \n",
    "force_endpt_prj = point_proj(depth_K, depth_tf_world, force_endpt)\n",
    "image = cv2.arrowedLine(image, tuple(contact_pos_prj), tuple(force_endpt_prj), color=(255, 133, 233), thickness=2)\n",
    "plt.imshow(image)\n"
   ]
  },
  {
   "cell_type": "code",
   "execution_count": null,
   "metadata": {},
   "outputs": [
    {
     "data": {
      "text/plain": [
       "<matplotlib.image.AxesImage at 0x7f0f380a3750>"
      ]
     },
     "execution_count": 1187,
     "metadata": {},
     "output_type": "execute_result"
    },
    {
     "data": {
      "image/png": "[encoded data removed]",
      "text/plain": [
       "<Figure size 432x288 with 1 Axes>"
      ]
     },
     "metadata": {
      "needs_background": "light"
     },
     "output_type": "display_data"
    }
   ],
   "source": [
    "contact_normal = contact[0][0]['normal']\n",
    "normal_mag = np.linalg.norm(contact_normal)\n",
    "normal_endpt = contact_pos + 0.1*(contact_normal/normal_mag) \n",
    "normal_endpt_prj = point_proj(depth_K, depth_tf_world, normal_endpt)\n",
    "image = cv2.arrowedLine(image, tuple(contact_pos_prj), tuple(normal_endpt_prj), color=(133, 255, 233), thickness=2)\n",
    "plt.imshow(image)"
   ]
  }
 ],
 "metadata": {
  "kernelspec": {
   "display_name": "Python 3.7.11 64-bit ('pytorch')",
   "language": "python",
   "name": "python3"
  },
  "language_info": {
   "codemirror_mode": {
    "name": "ipython",
    "version": 3
   },
   "file_extension": ".py",
   "mimetype": "text/x-python",
   "name": "python",
   "nbconvert_exporter": "python",
   "pygments_lexer": "ipython3",
   "version": "3.7.11"
  },
  "orig_nbformat": 4,
  "vscode": {
   "interpreter": {
    "hash": "c7876b00db1bc6b9a8e936ddc37455fd39ec693a903b797168d600e2f9d9ed83"
   }
  }
 },
 "nbformat": 4,
 "nbformat_minor": 2
}
