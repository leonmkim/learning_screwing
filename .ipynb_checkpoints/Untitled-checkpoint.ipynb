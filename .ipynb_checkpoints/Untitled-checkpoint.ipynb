{
 "cells": [
  {
   "cell_type": "code",
   "execution_count": 2,
   "id": "e61bc58b-9c23-411c-9b28-30de3e381a9d",
   "metadata": {},
   "outputs": [],
   "source": [
    "## generate csv files from all rosbags in a run directory\n",
    "import os\n",
    "import torch\n",
    "from torch.utils.data import Dataset\n",
    "import numpy as np\n",
    "\n",
    "import bagpy\n",
    "from bagpy import bagreader\n",
    "import rosbag\n",
    "\n",
    "from scipy.spatial.transform import Rotation as R\n",
    "\n",
    "import yaml\n",
    "\n",
    "import pandas as pd\n",
    "\n",
    "import glob\n",
    "\n",
    "import time"
   ]
  },
  {
   "cell_type": "code",
   "execution_count": 7,
   "id": "b12c3007-6a5b-45fb-8262-1549ec77c698",
   "metadata": {},
   "outputs": [
    {
     "data": {
      "text/plain": [
       "tensor([0.8844, 0.8173, 0.5651])"
      ]
     },
     "execution_count": 7,
     "metadata": {},
     "output_type": "execute_result"
    }
   ],
   "source": [
    "a = torch.rand(3)\n",
    "print(a)\n",
    "b = torch.rand(3)\n",
    "print(b)\n",
    "torch.mul(a,b)"
   ]
  },
  {
   "cell_type": "code",
   "execution_count": 10,
   "id": "e0e4989e-000f-481c-8b2f-f50b476861b4",
   "metadata": {},
   "outputs": [],
   "source": [
    "base_dset_dir = os.path.expanduser('~/datasets/screwing')\n",
    "xprmnt_dir = time.strftime(\"/2022-03-10_23-17-39\")\n"
   ]
  },
  {
   "cell_type": "code",
   "execution_count": 11,
   "id": "801d3e7d-ad81-49ab-901c-c08ad5c90f31",
   "metadata": {},
   "outputs": [],
   "source": [
    "bag_str = '/*.bag'"
   ]
  },
  {
   "cell_type": "code",
   "execution_count": 15,
   "id": "949ca542-853a-44c0-9bb0-f1de43dd4f1e",
   "metadata": {},
   "outputs": [
    {
     "data": {
      "text/plain": [
       "1893"
      ]
     },
     "execution_count": 15,
     "metadata": {},
     "output_type": "execute_result"
    }
   ],
   "source": [
    "filelist = glob.glob(base_dset_dir + xprmnt_dir + bag_str)\n",
    "len(filelist)"
   ]
  },
  {
   "cell_type": "code",
   "execution_count": null,
   "id": "f64d3d8d-33cf-49db-88f3-fe0d0713778c",
   "metadata": {},
   "outputs": [],
   "source": [
    "filelist[0]"
   ]
  }
 ],
 "metadata": {
  "kernelspec": {
   "display_name": "Python 3 (ipykernel)",
   "language": "python",
   "name": "python3"
  },
  "language_info": {
   "codemirror_mode": {
    "name": "ipython",
    "version": 3
   },
   "file_extension": ".py",
   "mimetype": "text/x-python",
   "name": "python",
   "nbconvert_exporter": "python",
   "pygments_lexer": "ipython3",
   "version": "3.7.11"
  }
 },
 "nbformat": 4,
 "nbformat_minor": 5
}
